{
 "cells": [
  {
   "cell_type": "markdown",
   "metadata": {},
   "source": [
    "# Homework 2: K-Nearest Neighbors and The Perceptron Algorithm \n",
    "***\n",
    "\n",
    "**Name**: \n",
    "\n",
    "***\n",
    "\n",
    "This assignment is due on Moodle by **5pm on Friday February 16th**. Your solutions to theoretical questions should be done in Markdown/MathJax directly below the associated question.  Your solutions to computational questions should include any specified Python code and results as well as written commentary on your conclusions.  Remember that you are encouraged to discuss the problems with your instructors and classmates, but **you must write all code and solutions on your own**.  For a refresher on the course **Collaboration Policy** click [here](https://github.com/chrisketelsen/CSCI-4622-Machine-Learning/blob/master/resources/syllabus.md#collaboration-policy).\n",
    "\n",
    "**NOTES**: \n",
    "\n",
    "- Do **NOT** load or use any Python packages that are not available in Anaconda 3.6. \n",
    "- Some problems with code may be autograded.  If we provide a function API **do not** change it.  If we do not provide a function API then you're free to structure your code however you like. \n",
    "- Submit only this Jupyter notebook to Moodle.  Do not compress it using tar, rar, zip, etc. "
   ]
  },
  {
   "cell_type": "code",
   "execution_count": 3,
   "metadata": {
    "collapsed": true,
    "scrolled": true
   },
   "outputs": [],
   "source": [
    "import pickle, gzip\n",
    "import numpy as np\n",
    "import matplotlib.pylab as plt\n",
    "%matplotlib inline"
   ]
  },
  {
   "cell_type": "markdown",
   "metadata": {},
   "source": [
    "### [15 points] Problem 1 - Exploring Unweighted and Distance-Weighted KNN\n",
    "***\n",
    "\n",
    "In class we talked in detail about the standard Unweighted K-Nearest Neighbors classifier and touched briefly on the so called Distance-Weighted KNN classifier.  In this problem you'll get some more practice working with each. \n",
    "\n",
    "Consider the data set shown below where red dots correspond to training examples with label $y=1$ and blue dots correspond to training examples with label $y = -1$. The green point ${\\bf x}_G$ and orange point ${\\bf x}_O$ are query points that we would like to classify.  \n",
    "\n",
    "![KNN Data](figs/prob1.png \"Prob 1 Data\")"
   ]
  },
  {
   "cell_type": "markdown",
   "metadata": {},
   "source": [
    "**Part A**: How would a $6$-NN classifier classify the point ${\\bf x}_G$? Fully justify your response. \n",
    "\n",
    "\n",
    "\n"
   ]
  },
  {
   "cell_type": "markdown",
   "metadata": {
    "collapsed": true
   },
   "source": [
    "The 6-NN classifier would classify point ${\\bf x_G}$ as $y = -1$ or a blue dot. This is because in the 6 nearest neighbors, 4 of them are blue."
   ]
  },
  {
   "cell_type": "markdown",
   "metadata": {},
   "source": [
    "**Part B**: Use the probabilistic interpretation of KNN to estimate the probabilities $p(y_G = 1 \\mid {\\bf x}_G)$ and $p(y_G = -1 \\mid {\\bf x}_G)$. \n",
    "\n",
    "\n",
    "\n"
   ]
  },
  {
   "cell_type": "markdown",
   "metadata": {
    "collapsed": true
   },
   "source": [
    "Since 4 of the 6 dots are blue, the conditional probability $p(y_g = 1| x_G) = \\frac{1}{3}$ and $p(y_g = -1| x_G) = \\frac{2}{3}$."
   ]
  },
  {
   "cell_type": "markdown",
   "metadata": {},
   "source": [
    "**Part C**: The so-called Distance-Weighted KNN classifier assigns weights to the the nearest-neighbor training examples proportional to the inverse-distance from the training example to the query point.  Classification is performed by summing the weights associated with each class and predicting the class with the highest weighted-majority vote.  Mathematically we might describe the weighted-vote for a class $c$ as \n",
    "\n",
    "$$\n",
    "\\textrm{Weighted-Vote}(c) = \\displaystyle\\sum_{i \\in {\\cal N}_K} I(y_i = c) \\times \\dfrac{1}{\\|{\\bf x}_i - {\\bf x}\\|}\n",
    "$$\n",
    "\n",
    "See Slides 40-43 of the [KNN Lecture](https://www.cs.colorado.edu/~ketelsen/files/courses/csci4622/slides/lesson06.pdf).  For a worked example. \n",
    "\n",
    "Use the Distance-Weighted 6-NN classifier to classify the point ${\\bf x}_G$ above. Show your work. \n",
    "\n"
   ]
  },
  {
   "cell_type": "markdown",
   "metadata": {},
   "source": [
    "Weighted-Vote(1) = $1+2 = 3$ and Weighted-Vote(-1) = $4*\\frac{\\sqrt{2}}{2} = 2\\sqrt{2}$ so $P(y_G = 1 | {\\bf x}_G) = \\frac{3}{3+2\\sqrt{2}}$ and $P(y_G = -1 | {\\bf x}_G) = \\frac{2\\sqrt{2}}{3+2\\sqrt{2}}$. Therefore it would be classified as red since $3 > 2\\sqrt{2}$ "
   ]
  },
  {
   "cell_type": "markdown",
   "metadata": {},
   "source": [
    "**Part D**: Where could you place an additional blue training example such that the Distance-Weighted 5-NN classifier would encounter a tie between red and blue when classifying the point ${\\bf x}_O$?  Justify your response. \n",
    "\n",
    "\n",
    "\n"
   ]
  },
  {
   "cell_type": "markdown",
   "metadata": {
    "collapsed": true
   },
   "source": [
    "Since currently, the Weighted-Vote(1) = $\\frac{3\\sqrt{2}}{2}$ and the Weighted-Vote(-1) = $\\frac{\\sqrt{2}}{2}$, we need something a distance $\\frac{1}{\\sqrt{2}}$ away. Therefore a the point (2.5,2.5) would work. "
   ]
  },
  {
   "cell_type": "markdown",
   "metadata": {},
   "source": [
    "**Part E**: State a general formula for the probability $p(Y=c \\mid {\\bf x})$ using the Distance-Weighted KNN classifier.  Use your formula to estimate the probabilities $p(y_G = 1 \\mid {\\bf x}_G)$ and $p(y_G = -1 \\mid {\\bf x}_G)$ for Distance-Weighted 6-NN.  \n",
    "\n",
    "\n",
    "\n"
   ]
  },
  {
   "cell_type": "markdown",
   "metadata": {
    "collapsed": true
   },
   "source": [
    "$$p(Y = c|{\\bf x}) = \\frac{\\sum (I(y_i = c)*\\frac{1}{||x_i-x||})}{\\sum \\frac{1}{||x_i-x||}}$$\n",
    "Using this: \n",
    "$$P(y_g = 1|{\\bf x}) = \\frac{3}{3+2\\sqrt{2}} \\approx .515$$ \n",
    "and $$P(y_g = -1 |{\\bf x}) = \\frac{2\\sqrt{2}}{3+2\\sqrt{2}} \\approx .485$$"
   ]
  },
  {
   "cell_type": "markdown",
   "metadata": {},
   "source": [
    "### [35 points] Problem 2- KNN for Handwritten Digit Recognition \n",
    "***\n",
    "\n",
    "In this problem you'll implement a K-Nearest Neighbor framework to take an image of a handwritten digit and predict which digit it corresponds to.  \n",
    "\n",
    "![Samples of Handwritten Digits](figs/mnist.png \"MNIST Digits\")\n",
    "\n",
    "To keep run times down we'll only consider the subset of the MNIST data set consisting of the digits $3, 7, 8$ and $9$. \n",
    "\n",
    "**Part A**: Executing the following cells will load training and validation data and plot an example handwritten digit.  Explore the training and validation sets and answer the following questions: \n",
    "\n",
    "- How many pixels are in each image in the data set?  \n",
    "- How many examples are there from each class in the training set? \n",
    "- How many examples are there from each class in the validation set? "
   ]
  },
  {
   "cell_type": "code",
   "execution_count": 4,
   "metadata": {},
   "outputs": [],
   "source": [
    "X_train, y_train, X_valid, y_valid = pickle.load(gzip.open(\"data/mnist21x21_3789.pklz\", \"rb\"))"
   ]
  },
  {
   "cell_type": "code",
   "execution_count": 5,
   "metadata": {
    "collapsed": true
   },
   "outputs": [],
   "source": [
    "def view_digit(x, label=None):\n",
    "    fig = plt.figure(figsize=(3,3))\n",
    "    plt.imshow(x.reshape(21,21), cmap='gray');\n",
    "    plt.xticks([]); plt.yticks([]);\n",
    "    if label: plt.xlabel(\"true: {}\".format(label), fontsize=16)"
   ]
  },
  {
   "cell_type": "code",
   "execution_count": 6,
   "metadata": {
    "scrolled": true
   },
   "outputs": [
    {
     "data": {
      "image/png": "[encoded data removed]",
      "text/plain": [
       "<matplotlib.figure.Figure at 0x16bc2f22550>"
      ]
     },
     "metadata": {},
     "output_type": "display_data"
    }
   ],
   "source": [
    "training_index = 0\n",
    "view_digit(X_train[training_index], y_train[training_index])"
   ]
  },
  {
   "cell_type": "code",
   "execution_count": null,
   "metadata": {
    "collapsed": true
   },
   "outputs": [],
   "source": []
  },
  {
   "cell_type": "markdown",
   "metadata": {},
   "source": [
    "The next part of this problem will involve building a `KNN` class for doing K-Nearest-Neighbors classification. Scroll down to **Part B** to see what you need to do. "
   ]
  },
  {
   "cell_type": "code",
   "execution_count": 103,
   "metadata": {
    "collapsed": true
   },
   "outputs": [],
   "source": [
    "class KNN:\n",
    "    \"\"\"\n",
    "    Class to store data for regression problems \n",
    "    \"\"\"\n",
    "    def __init__(self, X_train, y_train, K=5, distance_weighted=False):\n",
    "        \"\"\"\n",
    "        Creates a kNN instance\n",
    "\n",
    "        :param X_train: Training data input in 2D ndarray \n",
    "        :param y_train: Training data output in 1D ndarray \n",
    "        :param K: The number of nearest points to consider in classification\n",
    "        :param distance_weighted: Bool indicating whether to use distance weighting\n",
    "        \"\"\"\n",
    "        \n",
    "        # Import and build the BallTree on training features \n",
    "        from sklearn.neighbors import BallTree\n",
    "        self.balltree = BallTree(X_train)\n",
    "        \n",
    "        # Cache training labels and parameter K \n",
    "        self.y_train = y_train\n",
    "        self.K = K \n",
    "        \n",
    "        # Boolean flag indicating whether to do distance weighting \n",
    "        self.distance_weighted = distance_weighted\n",
    "        \n",
    "    def majority(self, neighbor_indices, neighbor_distances=None):\n",
    "        \"\"\"\n",
    "        Given indices of nearest neighbors in training set, return the majority label. \n",
    "        Break ties by considering 1 fewer neighbor until a clear winner is found. \n",
    "\n",
    "        :param neighbor_indices: The indices of the K nearest neighbors in self.X_train \n",
    "        :param neighbor_distances: Corresponding distances from query point to K nearest neighbors. \n",
    "        \"\"\"\n",
    "        foundMax = False\n",
    "        if(self.distance_weighted):\n",
    "            while(not foundMax):\n",
    "                labels = np.unique(self.y_train[neighbor_indices])\n",
    "                votes = np.zeros(len(labels))\n",
    "                for j,i in enumerate(neighbor_indices[0]):\n",
    "                    lab = self.y_train[i]\n",
    "                    ind = [k for k,m in enumerate(labels) if m == lab]\n",
    "                    votes[ind] += 1/(neighbor_distances[0][j])\n",
    "                maxCount = np.max(votes)\n",
    "                indices = [i for i,j in enumerate(votes) if j == maxCount]\n",
    "                if(len(indices) > 1):\n",
    "                    #We have multiple maximums, reduce k\n",
    "                    maxInd = np.argmax(neighbor_distances)\n",
    "                    neighbor_indices = np.delete(neighbor_indices,maxInd)\n",
    "                    neighbor_distances = np.delete(neighbor_distances,maxInd)\n",
    "                else:\n",
    "                    foundMax = True\n",
    "                    [major] = labels[indices]\n",
    "            \n",
    "        else:\n",
    "            while(not foundMax):\n",
    "                labels,counts = np.unique(self.y_train[neighbor_indices], return_counts = True)\n",
    "                maxCount = np.max(counts)\n",
    "                indices = [i for i, j in enumerate(counts) if j == maxCount]\n",
    "                if(len(indices) > 1):\n",
    "                    #We have multiple maximums, reduce k\n",
    "                    maxInd = np.argmax(neighbor_distances)\n",
    "                    neighbor_indices = np.delete(neighbor_indices,maxInd)\n",
    "                    neighbor_distances = np.delete(neighbor_distances,maxInd)\n",
    "                else:\n",
    "                    foundMax = True\n",
    "                    [major] = labels[indices]\n",
    "        return major\n",
    "        \n",
    "    def classify(self, x):\n",
    "        \"\"\"\n",
    "        Given a query point, return the predicted label \n",
    "        \n",
    "        :param x: a query point stored as an ndarray  \n",
    "        \"\"\"\n",
    "        query,label = self.balltree.query([x],self.K)\n",
    "        classification = self.majority(label,query)\n",
    "        return classification\n",
    "        \n",
    "    def predict(self, X):\n",
    "        \"\"\"\n",
    "        Given an ndarray of query points, return yhat, an ndarray of predictions \n",
    "\n",
    "        :param X: an (m x p) dimension ndarray of points to predict labels for \n",
    "        \"\"\"\n",
    "        predicted_labels = []\n",
    "        for i in range(X.shape[0]):\n",
    "            predicted_labels.append(self.classify(X[i]))\n",
    "        return np.asarray(predicted_labels)"
   ]
  },
  {
   "cell_type": "markdown",
   "metadata": {},
   "source": [
    "**Part B**: Modify the class above to implement an Unweighted KNN classifier.  There are three methods that you need to complete: \n",
    "\n",
    "- `predict`: Given an $m \\times p$ matrix of validation data with $m$ examples each with $p$ features, return a length-$m$ vector of predicted labels by calling the `classify` function on each example. \n",
    "- `classify`: Given a single query example with $p$ features, return its predicted class label as an integer using KNN by calling the `majority` function. \n",
    "- `majority`: Given an array of indices into the training set corresponding to the $K$ training examples that are nearest to the query point, return the majority label as an integer.  If there is a tie for the majority label using $K$ nearest neighbors, reduce $K$ by 1 and try again.  Continue reducing $K$ until there is a winning label. \n",
    "\n",
    "**Notes**: \n",
    "- Don't even think about implementing nearest-neighbor search or any distance metrics yourself.  Instead, go read the documentation for Scikit-Learn's [BallTree](http://scikit-learn.org/stable/modules/generated/sklearn.neighbors.BallTree.html) object.  You will find that its implemented [query](http://scikit-learn.org/stable/modules/generated/sklearn.neighbors.BallTree.html#sklearn.neighbors.BallTree.query) method can do most of the heavy lifting for you. \n",
    "- Do not use Scikit-Learn's KNeighborsClassifier in this problem.  We're implementing this ourselves. \n",
    "- You don't need to worry about the `distance_weighted` flag until **Part C**, but we recommend reading ahead a bit. It might be good to think about your implementation of **Part C** before implementing **Part B**. \n",
    "- When you think you're done, execute the following cell to run 4 unit tests based on the example starting on Slide 24 of the [KNN Lecture](https://www.cs.colorado.edu/~ketelsen/files/courses/csci4622/slides/lesson06.pdf).  "
   ]
  },
  {
   "cell_type": "code",
   "execution_count": 104,
   "metadata": {},
   "outputs": [
    {
     "name": "stderr",
     "output_type": "stream",
     "text": [
      "test1NNclassify (__main__.TestUnweightedKNN) ... ok\n",
      "test2NNclassify (__main__.TestUnweightedKNN) ... ok\n",
      "test3NNclassify (__main__.TestUnweightedKNN) ... ok\n",
      "test3NNpredict (__main__.TestUnweightedKNN) ... ok\n",
      "\n",
      "----------------------------------------------------------------------\n",
      "Ran 4 tests in 2.713s\n",
      "\n",
      "OK\n"
     ]
    },
    {
     "data": {
      "text/plain": [
       "<matplotlib.figure.Figure at 0x297b22f8eb8>"
      ]
     },
     "metadata": {},
     "output_type": "display_data"
    }
   ],
   "source": [
    "%run -i tests/tests.py \"prob 2A\""
   ]
  },
  {
   "cell_type": "markdown",
   "metadata": {},
   "source": [
    "**Part C**: Modify the `KNN` class to perform the distance-weighted KNN classification described in **Problem 1** when the `distance_weighted` flag is set to `True`. A word of caution: it's certainly possible that a query point could be distance $0$ away from some training example.  If this happens your implementation should handle it gracefully and return the appropriate class label.   \n",
    "\n",
    "When you think you're done, execute the following cell to run three final unit tests corresponding to the example on Slide 43 of the [KNN Lecture](https://www.cs.colorado.edu/~ketelsen/files/courses/csci4622/slides/lesson06.pdf). Make sure that the changes you make in **Part C** do not affect the unit tests from **Part B**.   \n"
   ]
  },
  {
   "cell_type": "code",
   "execution_count": 105,
   "metadata": {},
   "outputs": [
    {
     "name": "stderr",
     "output_type": "stream",
     "text": [
      "test5NNclassify (__main__.TestWeightedKNN) ... ok\n",
      "test3NNclassify (__main__.TestWeightedKNN) ... tests/tests.py:42: RuntimeWarning: divide by zero encountered in double_scalars\n",
      "  k3p = KNN(self.X_train, self.y_train, K=3)\n",
      "ok\n",
      "test5NNpredict (__main__.TestWeightedKNN) ... ok\n",
      "\n",
      "----------------------------------------------------------------------\n",
      "Ran 3 tests in 0.010s\n",
      "\n",
      "OK\n"
     ]
    }
   ],
   "source": [
    "%run -i tests/tests.py \"prob 2B\""
   ]
  },
  {
   "cell_type": "markdown",
   "metadata": {},
   "source": [
    "**Part D**: Use your `KNN` class to perform Unweighted KNN on the validation data with $K=3$ and do the following: \n",
    "\n",
    "- Create a **confusion matrix** (feel free to use the Scikit-Learn `confusion_matrix` function described in the [Hands-On KNN](https://github.com/chrisketelsen/CSCI-4622-Machine-Learning/blob/master/in-class-notebooks/Hands_On_KNN_Perceptron.ipynb) from class).  \n",
    "- Based on your confusion matrix, which digits seem to get confused with other digits the most? \n",
    "- Find one misclassified validation example and plot it with the `view_digit` function along with plots of its three nearest neighbors in the training set. \n",
    "\n"
   ]
  },
  {
   "cell_type": "code",
   "execution_count": 7,
   "metadata": {},
   "outputs": [
    {
     "ename": "NameError",
     "evalue": "name 'KNN' is not defined",
     "output_type": "error",
     "traceback": [
      "\u001b[1;31m---------------------------------------------------------------------------\u001b[0m",
      "\u001b[1;31mNameError\u001b[0m                                 Traceback (most recent call last)",
      "\u001b[1;32m<ipython-input-7-ef091cfb688b>\u001b[0m in \u001b[0;36m<module>\u001b[1;34m()\u001b[0m\n\u001b[0;32m      1\u001b[0m \u001b[1;32mfrom\u001b[0m \u001b[0msklearn\u001b[0m\u001b[1;33m.\u001b[0m\u001b[0mmetrics\u001b[0m \u001b[1;32mimport\u001b[0m \u001b[0mconfusion_matrix\u001b[0m\u001b[1;33m\u001b[0m\u001b[0m\n\u001b[1;32m----> 2\u001b[1;33m \u001b[0mU3KNN\u001b[0m \u001b[1;33m=\u001b[0m \u001b[0mKNN\u001b[0m\u001b[1;33m(\u001b[0m\u001b[0mX_train\u001b[0m\u001b[1;33m,\u001b[0m\u001b[0my_train\u001b[0m\u001b[1;33m,\u001b[0m\u001b[0mK\u001b[0m\u001b[1;33m=\u001b[0m\u001b[1;36m3\u001b[0m\u001b[1;33m,\u001b[0m \u001b[0mdistance_weighted\u001b[0m \u001b[1;33m=\u001b[0m \u001b[1;32mFalse\u001b[0m\u001b[1;33m)\u001b[0m\u001b[1;33m\u001b[0m\u001b[0m\n\u001b[0m\u001b[0;32m      3\u001b[0m \u001b[0myhat\u001b[0m \u001b[1;33m=\u001b[0m \u001b[0mU3KNN\u001b[0m\u001b[1;33m.\u001b[0m\u001b[0mpredict\u001b[0m\u001b[1;33m(\u001b[0m\u001b[0mX_valid\u001b[0m\u001b[1;33m)\u001b[0m\u001b[1;33m\u001b[0m\u001b[0m\n\u001b[0;32m      4\u001b[0m \u001b[0myhat\u001b[0m \u001b[1;33m=\u001b[0m \u001b[0mnp\u001b[0m\u001b[1;33m.\u001b[0m\u001b[0mtranspose\u001b[0m\u001b[1;33m(\u001b[0m\u001b[0myhat\u001b[0m\u001b[1;33m)\u001b[0m\u001b[1;33m\u001b[0m\u001b[0m\n\u001b[0;32m      5\u001b[0m \u001b[0mconfMat\u001b[0m \u001b[1;33m=\u001b[0m \u001b[0mconfusion_matrix\u001b[0m\u001b[1;33m(\u001b[0m\u001b[0my_valid\u001b[0m\u001b[1;33m,\u001b[0m\u001b[0myhat\u001b[0m\u001b[1;33m)\u001b[0m\u001b[1;33m\u001b[0m\u001b[0m\n",
      "\u001b[1;31mNameError\u001b[0m: name 'KNN' is not defined"
     ]
    }
   ],
   "source": [
    "from sklearn.metrics import confusion_matrix\n",
    "U3KNN = KNN(X_train,y_train,K=3, distance_weighted = False)\n",
    "yhat = U3KNN.predict(X_valid)\n",
    "yhat = np.transpose(yhat)\n",
    "confMat = confusion_matrix(y_valid,yhat)\n",
    "print(confMat)\n",
    "\n",
    "for i,j in enumerate(yhat):\n",
    "    pred = j\n",
    "    valid = y_valid[i]\n",
    "    if(pred != valid):\n",
    "        ind = i\n",
    "        break;\n",
    "query, labels = U3KNN.balltree.query([X_valid[ind]],3)\n",
    "labels = labels[0]\n",
    "view_digit(X_valid[ind],y_valid[ind])\n",
    "view_digit(X_train[labels[0]],y_train[labels[0]])\n",
    "view_digit(X_train[labels[1]],y_train[labels[1]])\n",
    "view_digit(X_train[labels[2]],y_train[labels[2]])"
   ]
  },
  {
   "cell_type": "markdown",
   "metadata": {},
   "source": [
    "**Part E**: Create a plot of the accuracy of both Unweighted and Distance-Weighted KNN on the validation set on the same set of axes for $K=1, 2, \\ldots, 20$ (feel free to go out to $K=30$ if your implementation is efficient enough to allow it).  Answer the following questions: \n",
    "\n",
    "- For general $K$, does Unweighted or Weighted KNN appear to perform better? \n",
    "- Which value of $K$ attains the best accuracy on the validation set? \n",
    "\n"
   ]
  },
  {
   "cell_type": "code",
   "execution_count": 107,
   "metadata": {},
   "outputs": [
    {
     "name": "stdout",
     "output_type": "stream",
     "text": [
      "1\n",
      "2\n",
      "3\n",
      "4\n",
      "5\n",
      "6\n",
      "7\n",
      "8\n",
      "9\n",
      "10\n",
      "11\n",
      "12\n",
      "13\n",
      "14\n",
      "15\n",
      "16\n",
      "17\n",
      "18\n",
      "19\n",
      "20\n"
     ]
    },
    {
     "data": {
      "image/png": "[encoded data removed]",
      "text/plain": [
       "<matplotlib.figure.Figure at 0x297b2227278>"
      ]
     },
     "metadata": {},
     "output_type": "display_data"
    }
   ],
   "source": [
    "\n",
    "UerrorRate = []\n",
    "WerrorRate = []\n",
    "for i in range(1,21):\n",
    "    print(i)\n",
    "    UKNN = KNN(X_train,y_train,K = i, distance_weighted = False)\n",
    "    WKNN = KNN(X_train,y_train,K = i, distance_weighted = True)\n",
    "    Uyhat = UKNN.predict(X_valid)\n",
    "    Wyhat = WKNN.predict(X_valid)\n",
    "    Umat = confusion_matrix(y_valid,Uyhat)\n",
    "    Wmat = confusion_matrix(y_valid,Wyhat)\n",
    "    U_wrong = (Umat.sum()-np.sum(np.diag(Umat)))/Umat.sum()\n",
    "    W_wrong = (Wmat.sum()-np.sum(np.diag(Wmat)))/Wmat.sum()\n",
    "    UerrorRate.append(U_wrong)\n",
    "    WerrorRate.append(W_wrong)\n",
    "plt.plot(UerrorRate,color = 'b')\n",
    "plt.plot(WerrorRate,color = 'r')\n",
    "plt.legend(['Unweighted Error Rate','Weighted Error Rate'])\n",
    "plt.show()"
   ]
  },
  {
   "cell_type": "markdown",
   "metadata": {},
   "source": [
    "### [15 points] Problem 3 - Perceptron Learning By Hand \n",
    "***\n",
    "\n",
    "Consider the following two-feature training set \n",
    "\n",
    "$$\n",
    "\\{({\\bf x}_1 = (1,1), y_1 = 1),~({\\bf x}_2 = (1,-1), y_2 =-1),~({\\bf x}_3 = (-1,-1), y_3 = 1),~({\\bf x}_4 = (-1,1), y_4 = -1)\\}\n",
    "$$\n"
   ]
  },
  {
   "cell_type": "markdown",
   "metadata": {},
   "source": [
    "**Part A**:  Perform one pass of the Perceptron Algorithm by hand in the order $1,~2,~3,~4$ starting with the initial weights and bias ${\\bf w} = (0,1)$ and $b = 0$.  Show each step in the Perceptron Algorithm and each intermediate set of weights in Markdown. "
   ]
  },
  {
   "cell_type": "code",
   "execution_count": null,
   "metadata": {
    "collapsed": true
   },
   "outputs": [],
   "source": []
  },
  {
   "cell_type": "markdown",
   "metadata": {},
   "source": [
    "**Part B**:  What label would your final Perceptron classifier predict for each of the training points? "
   ]
  },
  {
   "cell_type": "code",
   "execution_count": null,
   "metadata": {
    "collapsed": true
   },
   "outputs": [],
   "source": []
  },
  {
   "cell_type": "markdown",
   "metadata": {},
   "source": [
    "**Part C**:  Is it possible that your Perceptron classifier would ever perfectly classify all training examples after more passes of the Perceptron Algorithm?  Clearly explain your reasoning. "
   ]
  },
  {
   "cell_type": "code",
   "execution_count": null,
   "metadata": {
    "collapsed": true
   },
   "outputs": [],
   "source": []
  },
  {
   "cell_type": "markdown",
   "metadata": {},
   "source": [
    "### [35 points] Problem 4 - The Margin and Convergence of the Perceptron Learning Algorithm \n",
    "***\n",
    "\n",
    "In this problem you will implement the Perceptron Learning Algorithm and use it to explore the convergence of the algorithm on linearly separable simulated data sets with particular properties.  Take a look at the `Perceptron` class below. "
   ]
  },
  {
   "cell_type": "code",
   "execution_count": 128,
   "metadata": {
    "collapsed": true
   },
   "outputs": [],
   "source": [
    "class Perceptron:\n",
    "    \"\"\"\n",
    "    Class to fit a perceptron classifier to simulated data \n",
    "    \"\"\"\n",
    "    def __init__(self, n=100, margin=0.1, random_state=1241, X=None, y=None):\n",
    "        \"\"\"\n",
    "        Initializes Perceptron class.  Generates training data and sets parameters. \n",
    "        \n",
    "        :param n: the number of training examples\n",
    "        :param margin: the margin between decision boundary and data\n",
    "        :param random_state: seed for random number generator \n",
    "        :param X: Input training features.  Only used for unit testing. \n",
    "        :param y: Input training labels.  Only used for unit testing. \n",
    "        \"\"\"\n",
    "        \n",
    "        # initalize random seed \n",
    "        np.random.seed(random_state)\n",
    "        \n",
    "        # initialize parameters  \n",
    "        self.n, self.M = n, margin\n",
    "        \n",
    "        # generate random simulated data \n",
    "        self.X_train, self.y_train = self.gen_data()\n",
    "        \n",
    "        # only used for unit tests \n",
    "        if X is not None and y is not None: self.X_train, self.y_train, self.n = X, y, X.shape[0]\n",
    "        \n",
    "        # initialize weights and bias to zero \n",
    "        self.w = np.array([1.0,0.0])\n",
    "        self.b = 0 \n",
    "        \n",
    "        # initialize total mistake counter \n",
    "        self.num_mistakes = 0 \n",
    "        \n",
    "    def train(self, max_epochs=1000000):\n",
    "        \"\"\"\n",
    "        Runs the Perceptron Algorithm until all training data is correctly classified. \n",
    "        \n",
    "        :param max_epochs: Maximum number of epochs to perform before stopping.  Use for development. \n",
    "        \"\"\"\n",
    "        indices = np.linspace(0,self.n-1,self.n,True,False,int)\n",
    "        numMistakes = 0\n",
    "        for i in range(max_epochs):\n",
    "            Shuffindices = np.random.permutation(indices)\n",
    "            numMistakes = 0\n",
    "            \n",
    "            for j in range(self.n):\n",
    "                a = np.dot(self.w,self.X_train[Shuffindices[j]])+self.b\n",
    "                check = a*self.y_train[Shuffindices[j]]\n",
    "                if(check <= 0):\n",
    "                    self.w = self.w + self.X_train[Shuffindices[j]]*self.y_train[Shuffindices[j]]\n",
    "                    self.b = self.b + self.y_train[Shuffindices[j]]\n",
    "                    self.num_mistakes += 1\n",
    "                    numMistakes += 1\n",
    "            if(numMistakes == 0):\n",
    "                break\n",
    "                \n",
    "        \n",
    "    def plot_model(self):\n",
    "        \"\"\"\n",
    "        Plots the simulated data.  Plots the learned decision boundary (#TODO) \n",
    "        \"\"\"\n",
    "        fig, ax = plt.subplots(nrows=1, ncols=1, figsize=(8,8))\n",
    "        colors = [\"steelblue\" if yi==-1 else \"#a76c6e\" for yi in self.y_train]\n",
    "        ax.scatter(self.X_train[:,0], self.X_train[:,1], color=colors, s=75)\n",
    "        if(self.w[1] == 0):\n",
    "            xplot = np.array([0,0])\n",
    "            yplot = np.array([-1,1])\n",
    "        else:\n",
    "            xplot=np.array([-1,1]) #\n",
    "            yplot=np.array([((self.w[0]/self.w[1])+(-self.b/self.w[1])), ((-self.w[0]/self.w[1])+(-self.b/self.w[1]))])# TODO \n",
    "        ax.plot(xplot, yplot, color=\"black\", lw=2)\n",
    "        ax.grid(alpha=0.25)\n",
    "        ax.set_xlabel(r\"$x_1$\", fontsize=16)\n",
    "        ax.set_ylabel(r\"$x_2$\", fontsize=16)\n",
    "        \n",
    "    def gen_data(self):\n",
    "        \"\"\"\n",
    "        Generate random linearly separable data with given margin. \n",
    "        Note: You should not need to change this function \n",
    "        \"\"\"\n",
    "        flip = np.random.choice([-1,1])\n",
    "        pos_x1 = np.random.uniform(-1/np.sqrt(2), 1/np.sqrt(2), int(self.n/2))\n",
    "        pos_x2 = np.random.uniform(self.M+flip*0.1,1/np.sqrt(2),int(self.n/2))\n",
    "        pos_x2[-1] = self.M+flip*0.1 \n",
    "        neg_x1 = np.random.uniform(-1/np.sqrt(2), 1/np.sqrt(2), int(self.n/2))\n",
    "        neg_x2 = np.random.uniform(-1/np.sqrt(2),-self.M+flip*0.1,int(self.n/2))\n",
    "        neg_x2[-1] = -self.M+flip*0.1\n",
    "        X = np.concatenate((np.column_stack((pos_x1, pos_x2)), np.column_stack((neg_x1, neg_x2))))\n",
    "        X = np.dot(X, np.array([[np.cos(np.pi/6), np.sin(np.pi/6)], [-np.sin(np.pi/6), np.cos(np.pi/6)]]))\n",
    "        y = np.array([+1]*int(self.n/2) + [-1]*int(self.n/2))\n",
    "        rand_order = np.random.choice(range(self.n), replace=False, size=self.n)\n",
    "        return X[rand_order], y[rand_order]\n",
    "                                   \n",
    "        "
   ]
  },
  {
   "cell_type": "markdown",
   "metadata": {},
   "source": [
    "**Part A**: The `Perceptron` class above has the capability to generate it's own training data with certain properties. Execute the cell below to generate $n=100$ simulated training examples and plot them.  Experiment with the `margin` parameter (good values to try are between $0.01$ and $0.4$).  Explain what the `margin` parameter is doing. "
   ]
  },
  {
   "cell_type": "markdown",
   "metadata": {},
   "source": [
    "The margin parameter makes the two classes of the data farther apart by condensing each of the classes."
   ]
  },
  {
   "cell_type": "code",
   "execution_count": 129,
   "metadata": {},
   "outputs": [
    {
     "data": {
      "image/png": "[encoded data removed]",
      "text/plain": [
       "<matplotlib.figure.Figure at 0x297b2f06978>"
      ]
     },
     "metadata": {},
     "output_type": "display_data"
    }
   ],
   "source": [
    "perc = Perceptron(n=100, margin=0.3, random_state=1241)\n",
    "perc.plot_model()"
   ]
  },
  {
   "cell_type": "markdown",
   "metadata": {},
   "source": [
    "**Part B**: Modify the `train` method in the `Perceptron` class to perform the Perceptron Learning Algorithm and learn weights ${\\bf w}$ and bias $b$ that perfectly classify the linearly separable training data. Your implementation should: \n",
    "\n",
    "- visit all training examples in a random shuffled order over each training epoch \n",
    "- terminate when you perform an entire epoch without making a single classification error on the training data \n",
    "- use the `self.num_mistakes` counter to count the total number of classification errors that are made over the entire training process \n",
    "\n",
    "When you think you're done, execute the cell below to run a unit test based on the example starting on Slide 9 of the the [Perceptron Lecture](https://www.cs.colorado.edu/~ketelsen/files/courses/csci4622/slides/lesson07.pdf).  \n",
    "\n",
    "**Notes**: \n",
    "- You should not use Scikit-Learn's Perceptron object in your solution. \n",
    "- It's a good idea to implement a stopping criterion based on the `max_epochs` parameter right away.  Later we'll look at training sets that will terminate on their own, but implementing this stop will save you some pain in the development process.  \n",
    "- Do not change the initial guess for the weights and bias.  These values were chosen to match the example done in lecture for the unit tests. "
   ]
  },
  {
   "cell_type": "code",
   "execution_count": 110,
   "metadata": {},
   "outputs": [
    {
     "name": "stderr",
     "output_type": "stream",
     "text": [
      "TestNegMistake (__main__.TestPerceptron) ... ok\n",
      "TestPosMistake (__main__.TestPerceptron) ... ok\n",
      "\n",
      "----------------------------------------------------------------------\n",
      "Ran 2 tests in 0.005s\n",
      "\n",
      "OK\n"
     ]
    },
    {
     "data": {
      "text/plain": [
       "<matplotlib.figure.Figure at 0x297b228dd30>"
      ]
     },
     "metadata": {},
     "output_type": "display_data"
    }
   ],
   "source": [
    "%run -i tests/tests.py \"prob 4A\""
   ]
  },
  {
   "cell_type": "markdown",
   "metadata": {},
   "source": [
    "**Part C**: Modify the `plot_model` method so that it plots the learned decision boundary with the training data.  Demonstrate that your method is working by training a perceptron with a margin of your choice and displaying the resulting plot. \n"
   ]
  },
  {
   "cell_type": "code",
   "execution_count": 130,
   "metadata": {},
   "outputs": [
    {
     "data": {
      "image/png": "[encoded data removed]",
      "text/plain": [
       "<matplotlib.figure.Figure at 0x297b417ee48>"
      ]
     },
     "metadata": {},
     "output_type": "display_data"
    }
   ],
   "source": [
    "perc = Perceptron(n=100, margin=0.3, random_state=1241)\n",
    "perc.train()\n",
    "perc.plot_model()"
   ]
  },
  {
   "cell_type": "markdown",
   "metadata": {},
   "source": [
    "**Part D**: In lecture we stated that the time it takes to train the Perceptron on a linearly separable training set is determined by the `margin` of the training data. Recall that the margin of a linear classifier is the distance from the decision boundary to the closest training point (Yes, I just answered **Part A** for you). \n",
    "\n",
    "An important theorem for Perceptron training states that if you train a perceptron on linearly separable training data with margin $M > 0$ and each training point satisfies $\\|{\\bf x}\\|_2 \\leq 1$ then the Perceptron Training Algorithm will complete after making at most $1/M^2$ classification mistakes (and thus, at most $1/M^2$ updates of the weights and bias). \n",
    "\n",
    "In this exercise you will empirically verify this theorem: \n",
    "- Train 20 perceptrons on randomly generated training sets of size $n=100$ with margins of $M=0.3, 0.1, 0.01, 0.001,$ and $0.0001$ (be sure to change the value of `random_state` for each run).\n",
    "- Compute the **average** number of mistakes for each margin. \n",
    "- Produce a log-log plot with $1/M$ on the horizontal axis and average number of mistakes on the vertical axis. \n",
    "- On the same set of axes, plot the theoretical upper bound on the number of training mistakes. \n",
    "\n",
    "Based on the plot, can you say that we have good empirical evidence that the theorem is true?  Briefly justify your conclusion based on your plot. "
   ]
  },
  {
   "cell_type": "code",
   "execution_count": 140,
   "metadata": {},
   "outputs": [
    {
     "data": {
      "image/png": "[encoded data removed]",
      "text/plain": [
       "<matplotlib.figure.Figure at 0x297b0b27940>"
      ]
     },
     "metadata": {},
     "output_type": "display_data"
    }
   ],
   "source": [
    "m1 = []\n",
    "m2 = []\n",
    "m3 = []\n",
    "m4 = []\n",
    "m5 = []\n",
    "for i in range(20):\n",
    "    randState = np.random.randint(0,1000000000)\n",
    "    perc = Perceptron(n=100,margin = 0.3,random_state = randState)\n",
    "    perc.train()\n",
    "    m1.append(perc.num_mistakes)\n",
    "    \n",
    "    randState = np.random.randint(0,1000000000)\n",
    "    perc = Perceptron(n=100,margin = 0.1,random_state = randState)\n",
    "    perc.train()\n",
    "    m2.append(perc.num_mistakes)\n",
    "    \n",
    "    randState = np.random.randint(0,1000000000)\n",
    "    perc = Perceptron(n=100,margin = 0.01,random_state = randState)\n",
    "    perc.train()\n",
    "    m3.append(perc.num_mistakes)\n",
    "    \n",
    "    randState = np.random.randint(0,1000000000)\n",
    "    perc = Perceptron(n=100,margin = 0.001,random_state = randState)\n",
    "    perc.train()\n",
    "    m4.append(perc.num_mistakes)\n",
    "    \n",
    "    randState = np.random.randint(0,1000000000)\n",
    "    perc = Perceptron(n=100,margin = 0.0001,random_state = randState)\n",
    "    perc.train()\n",
    "    m5.append(perc.num_mistakes)\n",
    "avg = []\n",
    "avg.append(np.mean(m1))\n",
    "avg.append(np.mean(m2))    \n",
    "avg.append(np.mean(m3))\n",
    "avg.append(np.mean(m4))\n",
    "avg.append(np.mean(m5))\n",
    "ms = np.array([0.3,0.1,0.01,0.001,0.0001])\n",
    "logAvg = np.log(avg)\n",
    "mslog = -np.log(ms)\n",
    "plt.plot(mslog,logAvg,'r')\n",
    "maxPoss = -2*np.log(ms)\n",
    "plt.plot(mslog,maxPoss,'b')\n",
    "plt.legend(['Log-Log # mistakes','Log-Log Maximum possible mistakes'])\n",
    "plt.show()"
   ]
  },
  {
   "cell_type": "markdown",
   "metadata": {},
   "source": [
    "The plot shows good empirical evidence that the theorem is true. As we can see, the red line is always below the blue line so the number of mistakes is actually less than $\\frac{1}{M^2}$"
   ]
  },
  {
   "cell_type": "code",
   "execution_count": null,
   "metadata": {
    "collapsed": true
   },
   "outputs": [],
   "source": []
  }
 ],
 "metadata": {
  "kernelspec": {
   "display_name": "Python 3",
   "language": "python",
   "name": "python3"
  },
  "language_info": {
   "codemirror_mode": {
    "name": "ipython",
    "version": 3
   },
   "file_extension": ".py",
   "mimetype": "text/x-python",
   "name": "python",
   "nbconvert_exporter": "python",
   "pygments_lexer": "ipython3",
   "version": "3.6.3"
  }
 },
 "nbformat": 4,
 "nbformat_minor": 2
}
