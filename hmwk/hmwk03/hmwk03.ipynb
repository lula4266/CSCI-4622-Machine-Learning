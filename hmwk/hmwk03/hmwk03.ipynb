{
 "cells": [
  {
   "cell_type": "markdown",
   "metadata": {},
   "source": [
    "# Homework 3: Stochastic Gradient Descent and Logistic Regression\n",
    "***\n",
    "\n",
    "**Name**: \n",
    "\n",
    "***\n",
    "\n",
    "This assignment is due on Moodle by **5pm on Tuesday March 6th**. Your solutions to theoretical questions should be done in Markdown/MathJax directly below the associated question.  Your solutions to computational questions should include any specified Python code and results as well as written commentary on your conclusions.  Remember that you are encouraged to discuss the problems with your instructors and classmates, but **you must write all code and solutions on your own**.  For a refresher on the course **Collaboration Policy** click [here](https://github.com/chrisketelsen/CSCI-4622-Machine-Learning/blob/master/resources/syllabus.md#collaboration-policy).\n",
    "\n",
    "**NOTES**: \n",
    "\n",
    "- Do **NOT** load or use any Python packages that are not available in Anaconda 3.6. \n",
    "- Some problems with code may be autograded.  If we provide a function API **do not** change it.  If we do not provide a function API then you're free to structure your code however you like. \n",
    "- Submit only this Jupyter notebook to Moodle.  Do not compress it using tar, rar, zip, etc. "
   ]
  },
  {
   "cell_type": "code",
   "execution_count": 3,
   "metadata": {
    "collapsed": true,
    "scrolled": true
   },
   "outputs": [],
   "source": [
    "import pickle, gzip\n",
    "import numpy as np\n",
    "import pandas as pd\n",
    "import matplotlib.pylab as plt\n",
    "%matplotlib inline"
   ]
  },
  {
   "cell_type": "markdown",
   "metadata": {},
   "source": [
    "### [25 points] Problem 1 - MLE and SGD for the Exponential Distribution Rate Parameter\n",
    "***\n",
    "\n",
    "Suppose you're given $n$ numbers $x_1, x_2, \\ldots, x_n$ (think training data) and told that they're samples from the exponential distribution $Exp(\\lambda)$ where the rate parameter $\\lambda$ is unknown. Recall that the probability density function for $Exp(\\lambda)$ is given by  \n",
    "\n",
    "$$\n",
    "f_\\lambda(x) = \\left\\{\n",
    "\\begin{array}{rl}\n",
    "0 & \\textrm{if } x < 0 \\\\\n",
    "\\lambda e^{-\\lambda x} & \\textrm{if } x \\geq 0\n",
    "\\end{array}\n",
    "\\right.\n",
    "$$\n",
    "\n",
    "In this problem we'll use Maximum Likelihood Estimation to estimate the rate parameter by hand and with Stochastic Gradient Descent. \n",
    "\n",
    "**Part A**: Write down the likelihood function $L(\\lambda)$ for the data set $x_1, x_2, \\ldots, x_n$. "
   ]
  },
  {
   "cell_type": "markdown",
   "metadata": {
    "collapsed": true
   },
   "source": [
    "The likelihood function is:  \n",
    "$$\n",
    "\\prod_{i=1}^n f_\\lambda(x | \\lambda) = \\prod_{i=1}^n \\lambda e^{-\\lambda x_i}  \n",
    "= \\lambda^n e^{-\\lambda \\sum_{i=1}^n x_i}\n",
    "$$"
   ]
  },
  {
   "cell_type": "markdown",
   "metadata": {},
   "source": [
    "**Part B**: Write down the associated Negative Log-Likelihood $\\textrm{NLL}(\\lambda)$ and simplify it algebraically. "
   ]
  },
  {
   "cell_type": "markdown",
   "metadata": {
    "collapsed": true
   },
   "source": [
    "$$\n",
    "-(n log(\\lambda) + -\\lambda \\sum_{i=1}^n x_i) \\\\\n",
    "= -n log(\\lambda) + n\\lambda\\bar{x} = n(\\lambda\\bar{x} - log(\\lambda))\n",
    "$$"
   ]
  },
  {
   "cell_type": "markdown",
   "metadata": {},
   "source": [
    "**Part C**: Find a formula for the MLE of the rate parameter $\\lambda$ by taking the derivative of $\\textrm{NLL}(\\lambda)$, setting it equal to zero, and solving for $\\hat{\\lambda}$. "
   ]
  },
  {
   "cell_type": "markdown",
   "metadata": {
    "collapsed": true
   },
   "source": [
    "$$\n",
    "\\frac{d}{d\\lambda} L(\\lambda) = n(\\bar{x}-\\frac{1}{\\lambda}) \\\\\n",
    "\\lambda \\bar{x} - 1 = 0 \\\\\n",
    "\\lambda = \\frac{1}{\\bar{x}}\n",
    "$$"
   ]
  },
  {
   "cell_type": "markdown",
   "metadata": {},
   "source": [
    "**Part D**: Use the formula you found in **Part C** to estimate the rate parameter $\\lambda$ for the following training data.  "
   ]
  },
  {
   "cell_type": "code",
   "execution_count": 4,
   "metadata": {
    "collapsed": true
   },
   "outputs": [],
   "source": [
    "lam = 3.0; x_train = np.random.exponential(1/lam, size=10) # Note: numpy's exponential sampler expects 1 over rate parameter"
   ]
  },
  {
   "cell_type": "code",
   "execution_count": 5,
   "metadata": {},
   "outputs": [
    {
     "name": "stdout",
     "output_type": "stream",
     "text": [
      "MLE for Lambda = 2.278\n"
     ]
    }
   ],
   "source": [
    "lamhat = 1/(np.mean(x_train))\n",
    "print(\"MLE for Lambda = {:.3f}\".format(lamhat))"
   ]
  },
  {
   "cell_type": "markdown",
   "metadata": {},
   "source": [
    "**Part E**: Describe a **Stochastic** Gradient Descent algorithm based on the $\\textrm{NLL}$ you found in **Part B**. **Hint**: Think of what the loss function would be if the training set contained just a single point. "
   ]
  },
  {
   "cell_type": "markdown",
   "metadata": {
    "collapsed": true
   },
   "source": [
    "If we wanted to perform Stochastic Gradient Descent based on the NLL, we would use the NLL as our loss function. Since we can consider the likelihood as a measure of how well the model fits the data, the -likelihood is a loss. Minimizing the NLL is the same as minimizing the -likelihood, so the NLL suffices as a loss function. Therefore, to do stochastic gradient descent using the NLL as the loss function, we would take the derivative wrt $\\lamda$ for the NLL at that lambda. Starting at $\\lambda = 0$ we would get the NLL for a single data point to be: \n",
    "$$\n",
    "\\lambda x_i - log(\\lambda) \\\\\n",
    "\\frac{d}{d\\lambda}L(\\lambda|x_i) = x_i - \\frac{1}{\\lambda}\n",
    "$$\n",
    "Using this derivative we evaluate with $\\lambda = \\lambda_0$ and then shift by the negative of the derivative at that point times some learning rate $\\alpha$."
   ]
  },
  {
   "cell_type": "markdown",
   "metadata": {},
   "source": [
    "**Part F**: Implement the scheme described in **Part E** and run it on your training set.  Does it converge to the MLE that you found in **Part D**? "
   ]
  },
  {
   "cell_type": "code",
   "execution_count": 7,
   "metadata": {},
   "outputs": [
    {
     "name": "stdout",
     "output_type": "stream",
     "text": [
      "2.27778831114\n"
     ]
    }
   ],
   "source": [
    "epochNum = 1000\n",
    "lamHat = 1\n",
    "alpha = 0.01\n",
    "ranX = x_train\n",
    "for i in range(epochNum):\n",
    "    np.random.shuffle(ranX)\n",
    "    for x in ranX:\n",
    "        lamHat = lamHat - alpha*(x-1/lamHat)\n",
    "print(lamHat)"
   ]
  },
  {
   "cell_type": "markdown",
   "metadata": {},
   "source": [
    "Yes, it converges to the MLE, but we need a ton of epochs. "
   ]
  },
  {
   "cell_type": "markdown",
   "metadata": {},
   "source": [
    "### [20 points] Problem 2 - Regularized Logistic Regression Intuition \n",
    "***\n",
    "\n",
    "Consider the training set shown below where red dots correspond to training examples with label $y=1$ and blue dots correspond to training examples with label $y = 0$. Suppose you fit a logistic regression model of the form \n",
    "\n",
    "$$\n",
    "p(y = 1 \\mid {\\bf x}) = \\textrm{sigm}(\\beta_0 + \\beta_1 x_1 + \\beta_2 x_2) = \\dfrac{1}{1 + \\exp(-\\boldsymbol{\\beta}^T{\\bf x})}\n",
    "$$\n",
    "\n",
    "where here in $\\boldsymbol{\\beta}^T{\\bf x}$ the vector ${\\bf x}$ has had a $1$ prepended so that it looks like ${\\bf x} = (1, x_1, x_2)$. "
   ]
  },
  {
   "cell_type": "code",
   "execution_count": 42,
   "metadata": {},
   "outputs": [
    {
     "data": {
      "image/png": "[encoded data removed]",
      "text/plain": [
       "<matplotlib.figure.Figure at 0x21a01557c50>"
      ]
     },
     "metadata": {},
     "output_type": "display_data"
    }
   ],
   "source": [
    "X = np.array([[1,2,1], [1,1,5], [1,2,5], [1,3,5], [1,1,6], [1,2,6], [1,5,1], [1,6,1], [1,7,1], [1,6,2], [1,7,2], [1,5,5]], dtype=float)\n",
    "y = np.array([1 if ii < 6 else 0 for ii in range(X.shape[0])], dtype=float)\n",
    "fig, ax = plt.subplots(nrows=1, ncols=1, figsize=(5,5))\n",
    "ax.scatter(X[:,1], X[:,2], color=[\"#a76c6e\" if ii < 6 else \"steelblue\" for ii in range(X.shape[0])], s=250)\n",
    "x1vec = np.linspace(0,8,10)\n",
    "ax.plot(x1vec,(-3+x1vec)*4, lw=3, label=\"part B\") # TODO \n",
    "ax.plot([0,8], [0,8], lw=3, label=\"part C\") # TODO \n",
    "ax.plot([0,8], [4,4], lw=3, label=\"part D\") # TODO \n",
    "ax.plot([4,4], [0,8], lw=3, label=\"part E\") # TODO \n",
    "ax.grid(alpha=0.25); ax.set_xlim([0,8]); ax.set_ylim([0,8]); ax.set_xlabel(r\"$x_1$\", fontsize=16); ax.set_ylabel(r\"$x_2$\", fontsize=16)\n",
    "ax.legend(loc=\"upper right\");"
   ]
  },
  {
   "cell_type": "markdown",
   "metadata": {},
   "source": [
    "**Part A**: Suppose you use the the standard Logistic Regression decision rule such that a query point ${\\bf x}$ is predicted to be $\\hat{y} = 1$ if $p(y = 1 \\mid {\\bf x}) \\geq 0.5$ and $\\hat{y} = 0$ otherwise. Describe the decision boundary of such a classifier.  How could you plot the decision boundary in a 2D feature space like the one shown above?  "
   ]
  },
  {
   "cell_type": "markdown",
   "metadata": {
    "collapsed": true
   },
   "source": [
    "The decision boundary would be found by finding at which points $(x_1, x_2)$ cause the $P(y = 1|{\\bf x}) = 0.5$. This gives the equation $\\frac{1}{1+exp({\\bf -\\beta^t x})} = 0.5$ i.e. $\\beta_0 + \\beta_1 x_1 + \\beta_2 x_2 = 0$. To plot this boundary, we could choose some $x_1$ points on the domain and then solve for the associated $x_2$ points using the boundary equation."
   ]
  },
  {
   "cell_type": "markdown",
   "metadata": {},
   "source": [
    "**Part B**: Suppose you learn a Logistic Regression classifier from this training set by minimizing the negative log-likelihood \n",
    "\n",
    "$$\n",
    "NLL(\\boldsymbol{\\beta}) = -\\displaystyle\\sum_{i=1}^n \\left[y_i \\log \\textrm{sigm}(\\boldsymbol{\\beta}^T{\\bf x})       + (1-y_i)\\log(1 - \\textrm{sigm}(\\boldsymbol{\\beta}^T{\\bf x}))\\right]\n",
    "$$\n",
    "\n",
    "Describe a possible decision boundary that you could learn as a result.  Plot the decision boundary on the graph above and label it \"part B\". How many training examples does your learned decision boundary misclassify? "
   ]
  },
  {
   "cell_type": "markdown",
   "metadata": {},
   "source": [
    "I chose the weights $\\beta_0 = -3, \\beta_1 = 1, \\beta_2 = \\frac{1}{4}$. The boundary misclassifies 0 points.    "
   ]
  },
  {
   "cell_type": "markdown",
   "metadata": {},
   "source": [
    "**Part C**: Suppose you learn a Logistic Regression classifier from this training set by minimizing the negative log-likelihood with the parameter $\\beta_0$ so strongly regularized that it approaches zero, and the other parameters unregularized.  \n",
    "\n",
    "$$\n",
    "\\textrm{Loss}(\\boldsymbol{\\beta}) = NLL(\\boldsymbol{\\beta})+ \\lambda \\beta_0^2\n",
    "$$\n",
    "\n",
    "Describe a possible decision boundary that you could learn as a result.  Plot the decision boundary on the graph above and label it \"part C\". How many training examples does your learned decision boundary misclassify? "
   ]
  },
  {
   "cell_type": "markdown",
   "metadata": {
    "collapsed": true
   },
   "source": [
    "If we regularize $\\beta_0$ to 0, we can still use the same $\\beta_1$ and $\\beta_2$. Our boundary still misclassifies one point at (2,1)."
   ]
  },
  {
   "cell_type": "markdown",
   "metadata": {},
   "source": [
    "**Part D**: Suppose you learn a Logistic Regression classifier from this training set by minimizing the negative log-likelihood with the parameter $\\beta_1$ so strongly regularized that it approaches zero, and the other parameters unregularized.  \n",
    "\n",
    "$$\n",
    "\\textrm{Loss}(\\boldsymbol{\\beta}) = NLL(\\boldsymbol{\\beta})+ \\lambda \\beta_1^2\n",
    "$$\n",
    "\n",
    "Describe a possible decision boundary that you could learn as a result.  Plot the decision boundary on the graph above and label it \"part D\". How many training examples does your learned decision boundary misclassify? "
   ]
  },
  {
   "cell_type": "markdown",
   "metadata": {
    "collapsed": true
   },
   "source": [
    "If $\\beta_1$ is regularized to 0, the line becomes a horizontal line. That means a good weight is $\\beta_2 = -\\frac{1}{4}$. Our line will misclassify 2 points at (2,1) and at (5,5)."
   ]
  },
  {
   "cell_type": "markdown",
   "metadata": {},
   "source": [
    "**Part E**: Suppose you learn a Logistic Regression classifier from this training set by minimizing the negative log-likelihood with the parameter $\\beta_2$ so strongly regularized that it approaches zero, and the other parameters unregularized.  \n",
    "\n",
    "$$\n",
    "\\textrm{Loss}(\\boldsymbol{\\beta}) = NLL(\\boldsymbol{\\beta})+ \\lambda \\beta_2^2\n",
    "$$\n",
    "\n",
    "Describe a possible decision boundary that you could learn as a result.  Plot the decision boundary on the graph above and label it \"part E\". How many training examples does your learned decision boundary misclassify? "
   ]
  },
  {
   "cell_type": "markdown",
   "metadata": {
    "collapsed": true
   },
   "source": [
    "Since $\\beta_2$ is regularized to 0 we need to choose new weights. I chose $\\beta_1 = \\frac{1}{2}$ and $\\beta_0 = 0$. This doesn't misclassify any points."
   ]
  },
  {
   "cell_type": "markdown",
   "metadata": {},
   "source": [
    "### [30 points] Problem 3: SGD for Regularized Logistic Regression \n",
    "***\n",
    "\n",
    "In this problem you'll implement a Logistic Regression class that trains a classifier using Stochastic Gradient Descent with $\\ell_2$-Regularization. In Problem 4 you'll use this class to do document classification. Here your job will be to implement the following methods: \n",
    "\n",
    "- `train`: Takes in learning rate, regularization strength, and number of epochs to do, and learns model parameters using SGD \n",
    "- `predict`: Takes in a matrix of examples and predicts binary labels in $\\{0,1\\}$\n",
    "- `accuracy`: Takes in a matrix of examples and true labels, makes predictions, and returns accuracy as value in $[0,1]$ \n",
    "\n",
    "Note that you should assume that all features have been prepended with a $1$ so that each example is the same length as the parameter vector `beta`. \n",
    "\n",
    "There are some optional methods that you may implement if you like which might make your life easier in later problems.  These will not be unit-tested or graded though.  They are \n",
    "\n",
    "- `predict_proba`: Takes in a matrix of examples and estimates $p(y=1 \\mid {\\bf x})$ for each example. \n",
    "- `mean_loss`: Takes in a matrix of examples and true labels and evaluates the negative log-likelihood  \n",
    "\n",
    "Finally, the method `best_text_features` will not be needed until **Problem 4**. \n",
    "\n",
    "The section below the class skeleton contains more details as well as unit tests. Note that the unit tests are based on a subset of the toy data in **Problem 2**.  "
   ]
  },
  {
   "cell_type": "code",
   "execution_count": 16,
   "metadata": {
    "collapsed": true
   },
   "outputs": [],
   "source": [
    "class LogReg:\n",
    "    \"\"\"\n",
    "    Class to train a logistic regression classifier on the training data\n",
    "    \"\"\"\n",
    "    \n",
    "    def __init__(self, X_train, y_train, X_valid=None, y_valid=None):\n",
    "        \"\"\"\n",
    "        Initialize classifier \n",
    "        \n",
    "        :param X_train: ndarray of training features (with column of 1s prepended)\n",
    "        :param y_train: ndarray of training labels {0,1}\n",
    "        :param X_valid: ndarray of validation features (with column of 1s prepended)\n",
    "        :param y_valid: ndarray of validation labels {0,1}\n",
    "        \"\"\"\n",
    "        \n",
    "        self.X_train = X_train \n",
    "        self.y_train = y_train \n",
    "        \n",
    "        self.X_valid = X_valid \n",
    "        self.y_valid = y_valid \n",
    "        \n",
    "        # Array of logistic regression weights \n",
    "        self.beta = np.random.randn(self.X_train.shape[1])\n",
    "        \n",
    "        # list for storing loss function histories \n",
    "        self.train_history = [] \n",
    "        self.valid_history = [] \n",
    "        \n",
    "    @staticmethod\n",
    "    def sigmoid(z, threshold=20):\n",
    "        \"\"\"\n",
    "        Evaluate the sigmoid function \n",
    "        :param z: argument of sigmoid function \n",
    "        :param threshold: threshold parameter to prevent over/underflow \n",
    "        \"\"\"\n",
    "        \n",
    "        if np.abs(z) > threshold:\n",
    "            z = np.sign(z) * threshold\n",
    "            \n",
    "        return 1.0 / (1 + np.exp(-z))\n",
    "    \n",
    "    def train(self, eta=0.01, lam=0.0, num_epochs=10):\n",
    "        \"\"\"\n",
    "        train LogReg model using SGD with regularization \n",
    "        \n",
    "        :param eta: the learning rate \n",
    "        :param lam: the regularization strength\n",
    "        :param num_epochs: number of epochs to perform in training \n",
    "        :return : returns nothing, just updates weights\n",
    "        \"\"\"\n",
    "        \n",
    "        ranX = self.X_train;\n",
    "        ranY = self.y_train;\n",
    "        for i in range(num_epochs):\n",
    "            ranInd = np.random.permutation(len(self.X_train))\n",
    "            ranX = self.X_train[ranInd]\n",
    "            ranY = self.y_train[ranInd]\n",
    "            for j,x in enumerate(ranX):\n",
    "                z = np.dot(self.beta,x)\n",
    "                sig = self.sigmoid(z)\n",
    "                change = sig-ranY[j]\n",
    "                for k,xk in enumerate(x):\n",
    "                    if( k != 0):\n",
    "                        self.beta[k] -= eta*(change*xk+2*lam*self.beta[k])\n",
    "                    else:\n",
    "                        self.beta[k] -= eta*change*xk\n",
    "        \n",
    "    def predict_proba(self, X):\n",
    "        \"\"\"\n",
    "        predict probability p(y = 1 | x) for each row of X (this function is optional)\n",
    "        \n",
    "        :param X: ndarray of features \n",
    "        :return : ndarray of probabilities \n",
    "        \"\"\"\n",
    "        return np.zeros(X.shape[0])\n",
    "    \n",
    "    def predict(self, X):\n",
    "        \"\"\"\n",
    "        predict binary labels {0,1} for each row of X\n",
    "        \n",
    "        :param X: ndarray of features \n",
    "        :return: ndarray of binary labels {0,1}\n",
    "        \"\"\"\n",
    "        predictions = [];\n",
    "        for i,x in enumerate(X):\n",
    "            prob = self.sigmoid(np.dot(self.beta,x))\n",
    "            if(prob >= 0.5):\n",
    "                predictions.append(1)\n",
    "            else:\n",
    "                predictions.append(0);\n",
    "        return predictions # TODO \n",
    "    \n",
    "    def accuracy(self, X, y):\n",
    "        \"\"\"\n",
    "        report accuracy of prediction\n",
    "        \n",
    "        :param X: ndarray of features \n",
    "        :param y: associated true labels\n",
    "        :return: accuracy as a float in [0.0,1.0]\n",
    "        \"\"\"\n",
    "        yHat = self.predict(X)\n",
    "        correct = 0;\n",
    "        wrong = 0;\n",
    "        for i,p in enumerate(yHat):\n",
    "            if(p == y[i]):\n",
    "                correct += 1\n",
    "            else: \n",
    "                wrong += 1\n",
    "        return correct/(wrong+correct) \n",
    "    \n",
    "    def mean_loss(self, X, y):\n",
    "        \"\"\"\n",
    "        report mean log-likelihood (this function is optional)\n",
    "        \n",
    "        :param X: ndarray of features \n",
    "        :param y: associated true labels\n",
    "        :return: average log-likelihood\n",
    "        \"\"\"\n",
    "        from sklearn.metrics import log_loss\n",
    "        return 0.0\n",
    "    \n",
    "    def best_text_features(self, vocab):\n",
    "        \"\"\"\n",
    "        Print 10 best features for each class \n",
    "        \n",
    "        :param vocab: list of vocab words\n",
    "        :return: returns nothing \n",
    "        \"\"\"\n",
    "        class0 = [0]*10 # TODO \n",
    "        class1 = [0]*10 # TODO \n",
    "        print(\"\\nbest words for class 0\")\n",
    "        print(\"----------------------\")\n",
    "        for ind in class0:\n",
    "            print(vocab[ind])\n",
    "\n",
    "        print(\"\\nbest words for class 1\")\n",
    "        print(\"----------------------\")\n",
    "        for ind in class1:\n",
    "            print(vocab[ind])\n",
    "        \n",
    "        "
   ]
  },
  {
   "cell_type": "markdown",
   "metadata": {},
   "source": [
    "**Part A**: Implement the `train` method so that it performs **unregularized** SGD updates of the model parameters by minimizing the negative log-likelihood loss function discussed in lecture:  \n",
    "\n",
    "$$\n",
    "\\textrm{NLL}({\\bf \\beta}) = -\\displaystyle\\sum_{i=1}^n \\left[y_i \\log \\textrm{sigm}(\\boldsymbol{\\beta}^T{\\bf x})       + (1-y_i)\\log(1 - \\textrm{sigm}(\\boldsymbol{\\beta}^T{\\bf x}))\\right] \n",
    "$$\n",
    "\n",
    "\n",
    "Note that your SGD updates should be vectorized, utilize Numpy routines as much as possible, and not make any assumptions about the number of features. When you think you're done, execute the following code cell to perform three unit tests. "
   ]
  },
  {
   "cell_type": "code",
   "execution_count": 15,
   "metadata": {},
   "outputs": [
    {
     "name": "stderr",
     "output_type": "stream",
     "text": [
      "testPosUnregUpdate (__main__.TestLogReg) ... FAIL\n",
      "testNegUnregUpdate (__main__.TestLogReg) ... FAIL\n",
      "testShuffelUnregUpdate (__main__.TestLogReg) ... ok\n",
      "\n",
      "======================================================================\n",
      "FAIL: testPosUnregUpdate (__main__.TestLogReg)\n",
      "----------------------------------------------------------------------\n",
      "Traceback (most recent call last):\n",
      "  File \"C:\\Users\\Lucas\\Documents\\ML\\CSCI-4622-Machine-Learning\\hmwk\\hmwk03\\tests\\tests.py\", line 22, in testPosUnregUpdate\n",
      "    self.assertAlmostEqual(unreg_pos.beta[0], 1.0000670700260932)\n",
      "AssertionError: 1.0000335350130467 != 1.0000670700260932 within 7 places\n",
      "\n",
      "======================================================================\n",
      "FAIL: testNegUnregUpdate (__main__.TestLogReg)\n",
      "----------------------------------------------------------------------\n",
      "Traceback (most recent call last):\n",
      "  File \"C:\\Users\\Lucas\\Documents\\ML\\CSCI-4622-Machine-Learning\\hmwk\\hmwk03\\tests\\tests.py\", line 33, in testNegUnregUpdate\n",
      "    self.assertAlmostEqual(unreg_neg.beta[0],  0.60004935783039448)\n",
      "AssertionError: 0.80002467891519724 != 0.6000493578303945 within 7 places\n",
      "\n",
      "----------------------------------------------------------------------\n",
      "Ran 3 tests in 0.016s\n",
      "\n",
      "FAILED (failures=2)\n"
     ]
    }
   ],
   "source": [
    "%run -i tests/tests.py \"prob 3A\""
   ]
  },
  {
   "cell_type": "markdown",
   "metadata": {},
   "source": [
    "**Part B**: Update your implementation of the `train` method so that it performs **regularized** SGD updates of the model parameters to minimize the regularized loss function discussed in lecture\n",
    "\n",
    "$$\n",
    "\\textrm{Loss}({\\bf \\beta}) = -\\displaystyle\\sum_{i=1}^n \\left[y_i \\log \\textrm{sigm}(\\boldsymbol{\\beta}^T{\\bf x})       + (1-y_i)\\log(1 - \\textrm{sigm}(\\boldsymbol{\\beta}^T{\\bf x}))\\right] + \\lambda\\displaystyle\\sum_{k=1}^p \\beta_k^2\n",
    "$$\n",
    "\n",
    "Note that you should **NOT** regularize the bias parameter $\\beta_0$. When you think you're done, execute the following code cell to perform two unit tests. "
   ]
  },
  {
   "cell_type": "code",
   "execution_count": 101,
   "metadata": {},
   "outputs": [
    {
     "name": "stderr",
     "output_type": "stream",
     "text": [
      "testPosRegUpdate (__main__.TestLogReg) ... FAIL\n",
      "testNegRegUpdate (__main__.TestLogReg) ... FAIL\n",
      "\n",
      "======================================================================\n",
      "FAIL: testPosRegUpdate (__main__.TestLogReg)\n",
      "----------------------------------------------------------------------\n",
      "Traceback (most recent call last):\n",
      "  File \"C:\\Users\\Lucas\\Documents\\ML\\CSCI-4622-Machine-Learning\\hmwk\\hmwk03\\tests\\tests.py\", line 56, in testPosRegUpdate\n",
      "    self.assertAlmostEqual(reg_pos.beta[0], 1.0000670700260932)\n",
      "AssertionError: 1.0000335350130467 != 1.0000670700260932 within 7 places\n",
      "\n",
      "======================================================================\n",
      "FAIL: testNegRegUpdate (__main__.TestLogReg)\n",
      "----------------------------------------------------------------------\n",
      "Traceback (most recent call last):\n",
      "  File \"C:\\Users\\Lucas\\Documents\\ML\\CSCI-4622-Machine-Learning\\hmwk\\hmwk03\\tests\\tests.py\", line 67, in testNegRegUpdate\n",
      "    self.assertAlmostEqual(reg_neg.beta[0],  0.60004935783039448)\n",
      "AssertionError: 0.80002467891519724 != 0.6000493578303945 within 7 places\n",
      "\n",
      "----------------------------------------------------------------------\n",
      "Ran 2 tests in 0.015s\n",
      "\n",
      "FAILED (failures=2)\n"
     ]
    }
   ],
   "source": [
    "%run -i tests/tests.py \"prob 3B\""
   ]
  },
  {
   "cell_type": "markdown",
   "metadata": {},
   "source": [
    "**Part C**: Implement the `predict` function to take a matrix of examples and use the learned parameters to return a vector of predictions of $\\{0,1\\}$ for each example. When you think you're done, execute the following code cell to perform one unit test. \n"
   ]
  },
  {
   "cell_type": "code",
   "execution_count": 14,
   "metadata": {},
   "outputs": [
    {
     "name": "stderr",
     "output_type": "stream",
     "text": [
      "testPredict (__main__.TestLogReg) ... ok\n",
      "\n",
      "----------------------------------------------------------------------\n",
      "Ran 1 test in 0.000s\n",
      "\n",
      "OK\n"
     ]
    }
   ],
   "source": [
    "%run -i tests/tests.py \"prob 3C\""
   ]
  },
  {
   "cell_type": "markdown",
   "metadata": {},
   "source": [
    "**Part D**: Implement the `accuracy` method to take a matrix of examples and a vector of true labels, make predictions, and return the accuracy of those predictions as a decimal value in $[0,1]$. Execute the following code cell to perform one final unit tests. \n"
   ]
  },
  {
   "cell_type": "code",
   "execution_count": 17,
   "metadata": {},
   "outputs": [
    {
     "name": "stderr",
     "output_type": "stream",
     "text": [
      "testAccuracy (__main__.TestLogReg) ... ok\n",
      "\n",
      "----------------------------------------------------------------------\n",
      "Ran 1 test in 0.000s\n",
      "\n",
      "OK\n"
     ]
    }
   ],
   "source": [
    "%run -i tests/tests.py \"prob 3D\""
   ]
  },
  {
   "cell_type": "markdown",
   "metadata": {},
   "source": [
    "### [25 points] Problem 4: Baseball vs Hockey \n",
    "***\n",
    "\n",
    "In this problem you will train a Logistic Regression classifier to determine if a document is talking about baseball or hockey. The following code cell will load training and validation sets, as well as a list that encodes the map from feature index to particular words.  "
   ]
  },
  {
   "cell_type": "code",
   "execution_count": 43,
   "metadata": {
    "collapsed": true
   },
   "outputs": [],
   "source": [
    "f = gzip.open(\"data/baseball_hockey.pklz\", 'rb')\n",
    "X_train, y_train, X_valid, y_valid, vocab = pickle.load(f)\n",
    "f.close()"
   ]
  },
  {
   "cell_type": "markdown",
   "metadata": {},
   "source": [
    "**Part A**: Look at the encoded features in `X_train` or `X_valid`.  Which of the text models discussed in class do these features represent? Briefly justify your response. "
   ]
  },
  {
   "cell_type": "markdown",
   "metadata": {
    "collapsed": true
   },
   "source": [
    "The datasets represent a binary text model since it has a vocabulary 'vocab' and the X_train is a sparse matrix of 1's and 0's. The 1's represent a word being present in the document and 0's mean it wasn't present. "
   ]
  },
  {
   "cell_type": "markdown",
   "metadata": {},
   "source": [
    "**Part B**: There are two additional files in the data directory called `positive_raw` and `negative_raw`.  These are a subset of the actual documents that were cleaned and featurized to obtain our training and validation data.  The documents in `positive_raw` correspond to examples with true label $y=1$ and the documents in `negative_raw` correspond to examples with true label $y=0$. Inspect some of the documents and decide which label corresponds to documents about baseball and which label corresponds to documents about hockey. "
   ]
  },
  {
   "cell_type": "markdown",
   "metadata": {
    "collapsed": true
   },
   "source": [
    "The positive_raw examples are about hockey, so $y=1$ corresponds to hockey. The negative_raw examples are about baseball so the label $y=0$ corresponds to baseball."
   ]
  },
  {
   "cell_type": "markdown",
   "metadata": {},
   "source": [
    "**Part C**: Use the class you wrote in **Problem 3** to train a logistic regression classifier to predict baseball vs hockey and report accuracy on the training and validation set.  Do you see any signs of overfitting?  \n",
    "\n",
    "**Hint**: You won't need to run very many epochs before convergence on this data. "
   ]
  },
  {
   "cell_type": "code",
   "execution_count": 46,
   "metadata": {},
   "outputs": [
    {
     "name": "stdout",
     "output_type": "stream",
     "text": [
      "0.8128140703517588\n"
     ]
    }
   ],
   "source": [
    "\n",
    "classifier = LogReg(X_train,y_train,X_valid,y_valid)\n",
    "classifier.train()\n",
    "predictions = classifier.predict(X_valid)\n",
    "accuracy = classifier.accuracy(X_valid,y_valid)\n",
    "print(accuracy)"
   ]
  },
  {
   "cell_type": "markdown",
   "metadata": {},
   "source": [
    "**Part D**: Modify your code so that it periodically records accuracy on the training and validation sets throughout the training process (try recording after every $50$ training examples).  Experiment with the learning rate `eta` and produce plots like we showed in lecture. Which value of `eta` appears to give the best-ish convergence? "
   ]
  },
  {
   "cell_type": "code",
   "execution_count": null,
   "metadata": {
    "collapsed": true
   },
   "outputs": [],
   "source": []
  },
  {
   "cell_type": "markdown",
   "metadata": {},
   "source": [
    "**Part E**: Once you've found a reasonable learning rate, experiment with the regularization strength.  Show plots of accuracy over the training process for a few different values of `lam`.  Which seems to work the best-ish and why? \n",
    "\n",
    "**Hint**: For this type of text data, you'll want to look at very small values of `lam` (like `lam=1e-3` or maybe even smaller). \n",
    "\n",
    "Report your final accuracy on the training and validation sets after you've tuned your model in **Parts D** and **E**. "
   ]
  },
  {
   "cell_type": "code",
   "execution_count": null,
   "metadata": {
    "collapsed": true
   },
   "outputs": [],
   "source": []
  },
  {
   "cell_type": "markdown",
   "metadata": {},
   "source": [
    "**Part F**: Finally, go back to your LogReg class and complete the `best_text_features` function to print the 10 best predictive words for each class.  Show your results here and also **briefly** explain mathematically how you arrived at them.  Do they seem to make sense given what you know about baseball and hockey? "
   ]
  },
  {
   "cell_type": "code",
   "execution_count": null,
   "metadata": {
    "collapsed": true
   },
   "outputs": [],
   "source": []
  }
 ],
 "metadata": {
  "kernelspec": {
   "display_name": "Python 3",
   "language": "python",
   "name": "python3"
  },
  "language_info": {
   "codemirror_mode": {
    "name": "ipython",
    "version": 3
   },
   "file_extension": ".py",
   "mimetype": "text/x-python",
   "name": "python",
   "nbconvert_exporter": "python",
   "pygments_lexer": "ipython3",
   "version": "3.6.3"
  }
 },
 "nbformat": 4,
 "nbformat_minor": 2
}
