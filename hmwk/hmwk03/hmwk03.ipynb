{
 "cells": [
  {
   "cell_type": "markdown",
   "metadata": {},
   "source": [
    "# Homework 3: Stochastic Gradient Descent and Logistic Regression\n",
    "***\n",
    "\n",
    "**Name**: \n",
    "\n",
    "***\n",
    "\n",
    "This assignment is due on Moodle by **5pm on Tuesday March 6th**. Your solutions to theoretical questions should be done in Markdown/MathJax directly below the associated question.  Your solutions to computational questions should include any specified Python code and results as well as written commentary on your conclusions.  Remember that you are encouraged to discuss the problems with your instructors and classmates, but **you must write all code and solutions on your own**.  For a refresher on the course **Collaboration Policy** click [here](https://github.com/chrisketelsen/CSCI-4622-Machine-Learning/blob/master/resources/syllabus.md#collaboration-policy).\n",
    "\n",
    "**NOTES**: \n",
    "\n",
    "- Do **NOT** load or use any Python packages that are not available in Anaconda 3.6. \n",
    "- Some problems with code may be autograded.  If we provide a function API **do not** change it.  If we do not provide a function API then you're free to structure your code however you like. \n",
    "- Submit only this Jupyter notebook to Moodle.  Do not compress it using tar, rar, zip, etc. "
   ]
  },
  {
   "cell_type": "code",
<<<<<<< HEAD
   "execution_count": 2,
=======
   "execution_count": 1,
>>>>>>> 7d8b01f0a8c86c6622d67f1196d3c6bf33aa0805
   "metadata": {
    "collapsed": true,
    "scrolled": true
   },
   "outputs": [],
   "source": [
    "import pickle, gzip\n",
    "import numpy as np\n",
    "import pandas as pd\n",
    "import matplotlib.pylab as plt\n",
    "%matplotlib inline"
   ]
  },
  {
   "cell_type": "markdown",
   "metadata": {},
   "source": [
    "### [25 points] Problem 1 - MLE and SGD for the Exponential Distribution Rate Parameter\n",
    "***\n",
    "\n",
    "Suppose you're given $n$ numbers $x_1, x_2, \\ldots, x_n$ (think training data) and told that they're samples from the exponential distribution $Exp(\\lambda)$ where the rate parameter $\\lambda$ is unknown. Recall that the probability density function for $Exp(\\lambda)$ is given by  \n",
    "\n",
    "$$\n",
    "f_\\lambda(x) = \\left\\{\n",
    "\\begin{array}{rl}\n",
    "0 & \\textrm{if } x < 0 \\\\\n",
    "\\lambda e^{-\\lambda x} & \\textrm{if } x \\geq 0\n",
    "\\end{array}\n",
    "\\right.\n",
    "$$\n",
    "\n",
    "In this problem we'll use Maximum Likelihood Estimation to estimate the rate parameter by hand and with Stochastic Gradient Descent. \n",
    "\n",
    "**Part A**: Write down the likelihood function $L(\\lambda)$ for the data set $x_1, x_2, \\ldots, x_n$. "
   ]
  },
  {
   "cell_type": "markdown",
   "metadata": {
    "collapsed": true
   },
   "source": [
    "The likelihood function is:  \n",
    "$$\n",
    "\\prod_{i=1}^n f_\\lambda(x | \\lambda) = \\prod_{i=1}^n \\lambda e^{-\\lambda x_i}  \n",
    "= \\lambda^n e^{-\\lambda \\sum_{i=1}^n x_i}\n",
    "$$"
   ]
  },
  {
   "cell_type": "markdown",
   "metadata": {},
   "source": [
    "**Part B**: Write down the associated Negative Log-Likelihood $\\textrm{NLL}(\\lambda)$ and simplify it algebraically. "
   ]
  },
  {
   "cell_type": "markdown",
   "metadata": {
    "collapsed": true
   },
   "source": [
    "$$\n",
    "-(n log(\\lambda) + -\\lambda \\sum_{i=1}^n x_i) \\\\\n",
    "= -n log(\\lambda) + n\\lambda\\bar{x} = n(\\lambda\\bar{x} - log(\\lambda))\n",
    "$$"
   ]
  },
  {
   "cell_type": "markdown",
   "metadata": {},
   "source": [
    "**Part C**: Find a formula for the MLE of the rate parameter $\\lambda$ by taking the derivative of $\\textrm{NLL}(\\lambda)$, setting it equal to zero, and solving for $\\hat{\\lambda}$. "
   ]
  },
  {
   "cell_type": "markdown",
   "metadata": {
    "collapsed": true
   },
   "source": [
    "$$\n",
    "\\frac{d}{d\\lambda} L(\\lambda) = n(\\bar{x}-\\frac{1}{\\lambda}) \\\\\n",
    "\\lambda \\bar{x} - 1 = 0 \\\\\n",
    "\\lambda = \\frac{1}{\\bar{x}}\n",
    "$$"
   ]
  },
  {
   "cell_type": "markdown",
   "metadata": {},
   "source": [
    "**Part D**: Use the formula you found in **Part C** to estimate the rate parameter $\\lambda$ for the following training data.  "
   ]
  },
  {
   "cell_type": "code",
   "execution_count": 3,
   "metadata": {
    "collapsed": true
   },
   "outputs": [],
   "source": [
    "lam = 3.0; x_train = np.random.exponential(1/lam, size=10) # Note: numpy's exponential sampler expects 1 over rate parameter"
   ]
  },
  {
   "cell_type": "code",
   "execution_count": 4,
   "metadata": {},
   "outputs": [
    {
     "name": "stdout",
     "output_type": "stream",
     "text": [
      "MLE for Lambda = 3.712\n"
     ]
    }
   ],
   "source": [
    "lamhat = 1/(np.mean(x_train))\n",
    "print(\"MLE for Lambda = {:.3f}\".format(lamhat))"
   ]
  },
  {
   "cell_type": "markdown",
   "metadata": {},
   "source": [
    "**Part E**: Describe a **Stochastic** Gradient Descent algorithm based on the $\\textrm{NLL}$ you found in **Part B**. **Hint**: Think of what the loss function would be if the training set contained just a single point. "
   ]
  },
  {
   "cell_type": "markdown",
   "metadata": {
    "collapsed": true
   },
   "source": [
    "If we wanted to perform Stochastic Gradient Descent based on the NLL, we would use the NLL as our loss function. Since we can consider the likelihood as a measure of how well the model fits the data, the -likelihood is a loss. Minimizing the NLL is the same as minimizing the -likelihood, so the NLL suffices as a loss function. Therefore, to do stochastic gradient descent using the NLL as the loss function, we would take the derivative wrt $\\lamda$ for the NLL at that lambda. Starting at $\\lambda = 0$ we would get the NLL for a single data point to be: \n",
    "$$\n",
    "\\lambda x_i - log(\\lambda) \\\\\n",
    "\\frac{d}{d\\lambda}L(\\lambda|x_i) = x_i - \\frac{1}{\\lambda}\n",
    "$$\n",
    "Using this derivative we evaluate with $\\lambda = \\lambda_0$ and then shift by the negative of the derivative at that point times some learning rate $\\alpha$."
   ]
  },
  {
   "cell_type": "markdown",
   "metadata": {},
   "source": [
    "**Part F**: Implement the scheme described in **Part E** and run it on your training set.  Does it converge to the MLE that you found in **Part D**? "
   ]
  },
  {
   "cell_type": "code",
   "execution_count": 5,
   "metadata": {},
   "outputs": [
    {
     "name": "stdout",
     "output_type": "stream",
     "text": [
      "3.71101965485\n"
     ]
    }
   ],
   "source": [
    "epochNum = 1000\n",
    "lamHat = 1\n",
    "alpha = 0.01\n",
    "ranX = x_train\n",
    "for i in range(epochNum):\n",
    "    np.random.shuffle(ranX)\n",
    "    for x in ranX:\n",
    "        lamHat = lamHat - alpha*(x-1/lamHat)\n",
    "print(lamHat)"
   ]
  },
  {
   "cell_type": "markdown",
   "metadata": {},
   "source": [
    "Yes, it converges to the MLE, but we need a ton of epochs. "
   ]
  },
  {
   "cell_type": "markdown",
   "metadata": {},
   "source": [
    "### [20 points] Problem 2 - Regularized Logistic Regression Intuition \n",
    "***\n",
    "\n",
    "Consider the training set shown below where red dots correspond to training examples with label $y=1$ and blue dots correspond to training examples with label $y = 0$. Suppose you fit a logistic regression model of the form \n",
    "\n",
    "$$\n",
    "p(y = 1 \\mid {\\bf x}) = \\textrm{sigm}(\\beta_0 + \\beta_1 x_1 + \\beta_2 x_2) = \\dfrac{1}{1 + \\exp(-\\boldsymbol{\\beta}^T{\\bf x})}\n",
    "$$\n",
    "\n",
    "where here in $\\boldsymbol{\\beta}^T{\\bf x}$ the vector ${\\bf x}$ has had a $1$ prepended so that it looks like ${\\bf x} = (1, x_1, x_2)$. "
   ]
  },
  {
   "cell_type": "code",
   "execution_count": 6,
   "metadata": {},
   "outputs": [
    {
     "data": {
      "image/png": "iVBORw0KGgoAAAANSUhEUgAAAUkAAAFGCAYAAADn3G19AAAABHNCSVQICAgIfAhkiAAAAAlwSFlz\nAAALEgAACxIB0t1+/AAAADl0RVh0U29mdHdhcmUAbWF0cGxvdGxpYiB2ZXJzaW9uIDIuMS4wLCBo\ndHRwOi8vbWF0cGxvdGxpYi5vcmcvpW3flQAAIABJREFUeJzsnXl8lNW9/99n1uw7AZIAIew7YZHN\nBUWtG7ihUBXR3kJbbXuv/d3bxbbqbe1iq9XuSq9tQVyqqIi4VAXUVhDZZd9CgLAlJJnss5/fH0/I\nTGLWyTPzTCbn/XrxYs6ZZ/nMZOYzZ/1+hZQShUKhULSOyWgBCoVCEc0ok1QoFIp2UCapUCgU7aBM\nUqFQKNpBmaRCoVC0gzJJhUKhaAdDTFII8YAQYq8QYo8Q4kUhRJwROhQKhaIjIm6SQohc4NvAFCnl\nWMAMLIy0DoVCoegMRnW3LUC8EMICJACnDdKhUCgU7WKJ9A2llKeEEI8DJ4AG4D0p5XvBxwghlgJL\nARISEiYPHz480jJbxefzYTabjZYBKC2t4dl/oOmxddRIQzRICQdL6/A37mQbmpWAzWL80H+0/I0M\n1+F1Yq4sAr+XbWf856WUfTo6RUR6W6IQIh14FVgAOIBXgFVSypWtHV9YWCh37NgRQYVt43A4SEtL\nM1oGoLS0xv6Ro5oejzqw3xANu046uPGPnwCQnWxj84NXIoQwREsw0fI3MlTHmV2w4iZoqABA/G/1\nNinllI5OM+In7krgmJSyTErpAV4DZhqgQ6HQnY1Hy5seXzQwNSoMUgGc2gbL5zYZJPaUTp9qhEme\nAKYLIRKE9gmaAxjzs69Q6MzGo+ebHk8ZlGqgEkUTJzZrLUhnlVaOS4W7V3f69IibpJRyM7AK2A7s\nbtSwLNI6FAq9cXv9bC2ubCpfpEzSeIo/gZW3gKtaK8dnwOI3IXdypy8R8YkbACnlw8DDRtxboQgX\nu0ocNHh8AAzMSCAn1djlvx6Ph5KSEpxOJ36/nzNnzhiqB4isDq8TamuJm/RD8rY/htVqhbvfgL5j\nunQZQ0xSoYhFNh4JjEfOKMg0UIlGSUkJycnJ5Ofn4/P5sFiM/7p7vd7I6HBWQ0URMqMP5XXplFge\nZvCEWdBnRJcvZfzaBIUiRthUFBiPnDnUeJN0Op1kZmb2vskjZxVUFAESIQSZyfE4+08NySBBmaRC\noQtOj4/txx1N5WhoSQK9zyAbHFBxDGhc2mi2IfoMB1PorVdlkgqFDmw7Xonb5wdgaHYS2SkqHEHE\naaiEyuYGSeZQsNi7dVllkgqFDgQv/YmWVmQssHr1avbt29fqc4888gi5ublMnDiRkSOG8Y2vLcXv\n136oMNsha1i3DRKUSSoUurApaBH5zCHKJPXA6/W2a5IADzzwADs/Wce+dS+x+8ARPtq0DSxxmkGa\nbbroUCapUHSTWpeXXSVVTeXpqiUJQHFxMSNHjmTx4sWMHz+e+fPnU19fD8BPfvITpk6dytixY1m6\ndCkXtkfPnj2bBx98kMsuu4zHHnuMNWvW8D//8z9MnDiRo0ePfvEm7lqoOoHb7cHpcpGe2UfrYput\nur0O49cEKBQ9nC3HKvD5tS/5qP4ppCfq04LRk6E/+mfYrl38y+vbfO7gwYM8++yzzJo1i6985Ss8\n/fTTfPe73+Wb3/wmDz30EACLFi1i7dq1zJ07F9D2d3/00UcAHD58mBtuuIH58+d/8eLuOp58Zjkr\nn3+R46fOcO2cS5l42Vww62trqiWpUHSTTUWqq90WAwYMYNasWQDcddddfPKJFvxjw4YNTJs2jXHj\nxrF+/Xr27t3bdM6CBQs6vnDtOXBV88CSO9n5/kuU7ttIncfES6+s0v01KJNUKLpJ8KSNMsnmtFyC\nJITA6XRy3333sWrVKnbv3s2SJUtwOp1NxyQmJrZ/0ZqzUB0UgtaaiLXfKK659lo+/vhjPeUDqrut\nUHQLR72bvae1fcFmk+CiwRkGK2qdI49+yZAdNydOnGDTpk3MmDGDF198kVmzZjUZYlZWFrW1taxa\ntar17jSQnJxMTU2NVpBSM8jas4EDzHbIHIIUJjZu3MjEiRN1fw2qJalQdINPiyq4EJJ1bG4qyXH6\nTRjEAqNGjWL58uWMHz+eiooKvva1r5GWlsaSJUsYN24cN910E1OnTm3z/IULF/LrX/+awsJCju7a\n+AWDfHLZc0ycNJmxY8fi9Xq57777dH8NqiWpUHSDT9V4ZLuYTCaefvrpprLX6wXg0Ucf5dFHH/3C\n8R9++GGz8qxZs9i3dy9Un4K6ssAT9hQe+eVTPPKr34VFdzDKJBWKbqDGI8OMlFBVAvWB9xl7KmTk\ng4hMR1iZpEIRImU1Lg6dqwXAahZMGRSd45FGkZ+fz549e0K/gJRQdRLqA6114tIgfVDEDBKUSSoU\nIRPc1S4ckE68zfhEWzGDlOA4EUi3ABCfDmmDIMJBO5RJKhQhEpzPZobqauuHlFB5HJyBKO/EZ0Da\nwIgbJCiTVChCZlNwUAtlkvog/VBZHMhHA5CQCakDDDFIUCapUITEaUcDxeXaPmS7xUThQOPTtfZ4\npF+LBXkhHw1AQhak5hlmkKDWSSoUIREc9WdqfgZ2ixqP7BZ+vxZNPNggE7NZvWEr+/a3nUx1xYoV\njB07ljFjxjB69Ggef/xx3aUpk1QoQkCNR+qI3wcVR8FVE6hL6os3IZvVb7zRZqi0d955h6eeeor3\n3nuPvXv3sn37dlJT9c9QqUxSoegiUko1HtkJOh0q7Z47kI0GOXv+Eh584m9cNvfLPParX7UbKu0X\nv/gFjz/+ODk5OQDExcWxZMkS3V+HGpNUKLrIiYp6Tldp+4+T7BbG50Z/fm3Lo2E08keq2nyq3VBp\nP3oQyotY9PUHWPv+x8y9+jIw23A0eDsVKm3Pnj1Mntz5/NmholqSCkUXCe5qXzQ4A4tZfY3aos1Q\naes+YNrUyYy79HrWb9zC3kNFkJIDZlvnQqVFEPXXVSi6SLPxSBWFvF1aDZVWV6uFSnv6l+xe9zJL\n7rgZJ3ZI6gt0IlRaI2PGjGHbtm26a25JxLvbQogRwD+CqgqAh6SUT0Vai0LRVbTxyJ43aeP9UXl0\nhEqbMR3n6b2AJCsjjdq6ela98zHzb2+99dgsVFoLfvCDH/Dd736XtWvX0q9fP1wuF8888wzf/va3\ndX0NEW9JSikPSiknSiknApOBeuD1SOtQKELhSGkt52tdAKTGWxndP8VgRdFNs1Bp5ee57/arSEu0\nseSOmxl35e3ctPRBpk6b3ub5zUKltZi4ue6667j//vu58sorGTNmDJMnT26KMqQnRk/czAGOSimP\nG6xDoegULbvaJpNxi5x7Ak2h0rxuKD8CPu0H5tHv3c+jv/gVJDQPCtJqqLR2siXee++93Hvvvbrr\nDsZok1wIvNiyUgixFFgKkJubi8PhiLSuVmmr2W8ESkv7hOsz89GBM02PJ+YktHsfo98Xv9/f1LIK\nfhwpLtzP62rA7ChC+NwASMCfOhBpS4EIafL7/SF/JgwzSSGEDZgH/KDlc1LKZcAygMLCQpmWFj1b\nvpSW1okGLWeCHodDj98v2XYyYHxzxuaRlpbc7jlGvi9nzpxpGof0er0RH5McOnQoe3Zua2xBXjBI\ngUjPxxwf2ffFZDKF/LcwsiV5LbBdSnnOQA0KRafZd6aaqgYPAFlJdoZmJxmsKMrxODWD9HsaKwT+\ntEERN8juYqRJfplWutoKRbTScla75fIWRRCehkaDvNCdFpBRgLQkGCorFAxZJymESACuAl4z4v4K\nRSio/NqdpKVBChNkDoG4nrkSwJCWpJSyHlCfMkWPwePzs1mZZMe46zWDlD6tLEyQMQTsPXdoQu24\nUSg6we5TVdS5tS9+TmocAzN6Xrcx7LjrWhikGTKHdssgV69e3eYSoEceeYTc3FwmTpzIsGHDuOWW\nW9pdLhQqyiQVik7QfDwyS41HtsRV24pBDgFb57YYtobX623XJAEeeOABdu7cyeHDh1mwYAFXXHEF\nZWVlbR4fCsokFYpOEGySqqvdAleNFg9S+rWyyQKZQyk+Xda5UGlLlyKlBGD27Nk8+OCDXHbZZTz2\n2GPthkpryYIFC7j66qt54YUXdH15Ri8mVyiiHpfXx5biQNa+nrJfO5jC5wvDdu3dV60Emhsk1nig\ng1BpDz0EwKJFi1i7di1z584FtI0AnQmV1hqTJk3iwIEDur4+1ZJUKDpgxwkHLq9mAvmZCeSkxRus\nKNq4YJBWyBzWZJDQTqi0DRuYNm0a48aNY/369ezdu7fpnO6ESrvQItUT1ZJUKDqg5XikohVMVsga\nCpa4ZtWthkpzOrnvvvvYunUrAwYM4JFHHsHpdDYd09lQaa2xY8cOpkyZEvL5raFMUqHogFgYj9xx\n5w79tiU2OLS0rzS22sw2rYttsX/h0C+ESps1q8kQs7KyqK2tZdWqVW12p9sLldaSV199lffee48n\nnngilFfVJqq7rVC0Q4Pbx46TlU3l6b09yG59BVQeo7lBDmvVIKFFqLSKCr72ta+RlpbGkiVLGDdu\nHDfddBNTp05t83bthUoDePLJJ5uWAK1cuZL169fTp08fPV5pE6olqVC0w9bjFXh8miEM75tEn+TW\nzaBXUF8OjhOBstmudbHNtjZPaQqV1siFyECPPvoojz766BeO70qotEceeYRHHnmk8/pDRJmkQtEO\nG5t1tXvxeGTdeag6GShb4rQuttlqnKYIoUxSoWgHlV8bqCuDqpJA2RKvLRTvwCDz8/PZs2dPmMWF\nH2WSCkUbVDs97C7RArUKAdMH90KTrC2F6lOBsjUeMoaCufdYR+95pQpFF9lyrAJ/4/zEmJwUUhNi\nv2vZjJpzUHM6ULYmaC1IU++yjd71ahWKLtCrxyNrzkJNUKx3W6IWzcdkNk6TQSiTVCjaoFfm15ZS\nM8faoIQBtiTIKOiVBglqnaRC0SqVdW72n6kGwGwSTB2c0cEZMYCUUH26hUEmG2qQnQ2VduFfOBLA\nKZNUKFrh06AAuxPyUkmyx3inS0ptgqauNFBnTzHUILsSKu3Cv3AkXlMmqVC0Qq9a+iOltsSnLigO\nY1wqZAwGU+gWUVxcHNFQaeEixn8eFYrQ2Hj0fNPjWJi0OTx2XNiuPerA/jafC3eotCeffJKVK1cC\nkJ6ezoYNG/R8aYBqSXYKr9tNXUUFdZUO3I2/hEbhcbmoLS+n3lGFJyhyikI/SqudHC2rA8BmNjF5\nULrBinou4Q6VFtzdDodBgmpJtomUkvPHjnFg3XrO7N2HMJsRSYn4qqpJ6duXUVfNYcCEiZit4X8L\npd/P2QMH2f/BOsqKijAFackcNJBRV15J/zGjMXWja6QIEJwVcdKgNOKsvXNWVw8iHSotHCiTbAVn\ndTUf/vlpakrL8Hk82piNz4fw2JE+H1WnT7P1pZfZ9vIqLln6VbKHDg2blprSUjb88c+46+rwulwA\n+IK0nC86xqblK7DG2Zl9/32k9u8fNi29hY1Hgpf+9PyuNsCwPbsDodKkXwt15qwKHJCQCakDtK1F\nOhLJUGnhQjU9WtBQXc27j/2aqtNn8LndmkG2gtflwtPQwEd/epoz+9oek+kOVWfP8t6vn6C+srLJ\nINvS0lBVzftPPEnlyZI2j1N0jmb5tYfG2KSN3w8Vx5obZGKfsBgkRC5U2oV/xcXFur8GEY5w53pS\nWFgod+zYEZF7+f1+3v35L6kpK0P6/V94XiQnI1v5VbPYbFz9vf8hJTtbNy0ep5O1//tTXLW1rT7f\nlhZbQgLXP/Qj7BHssjgcjrAsvegq+0eOanrc3mRCe5ysqOeSX2ljW/FWM7sevhqbJbS2hNHvy/79\n+xk1SntPvF4vFpMJKou0xF0XSMyGlJywGGRxcTE33HBDsyAXXq9Xv+C/XSD4vbiAEGKblLLDMOaq\nJRnE2f37qXc4WjXI9vB5vex//wNdtRzb/Blet7vL53k9Ho5+slFXLb2J4FbklPz0kA0y6pB+LaNh\nsEEm9Q2bQcYShnwChBBpQohVQogDQoj9QogZRuhoyf4P1rXbrW0L6fdzYtt2PA36zDZLKTmwbr3W\n3e8ifo+Hgxs+xN9Fo1dofBqL+7X9PsyOYnAH9UqS+0Fy/7AaZKyESjPqZ/K3wLtSypHABCA8g3pd\noKG6mvLi46FfQAhO7typi5aK4ydw19WFfL7P46Hs8BFdtPQmpJQtglr0/PFI6fNA+VGEJ+jzlNw/\n7AYZTXR3SDHiJimESAEuBZ4FkFK6pZT6b7jsIvUVlZi7MVbic7upKy/v+MBOUFdR0a0PsJSSusqK\njg9UNOPY+TrOVmu9geQ4C2NyUgxW1D3irGbKi/chg1uQKblaK7KXIKWkvLycuLi4jg9uAyOWABUA\nZcDfhBATgG3Af0opm37qhBBLgaUAubm5Ydm03pKqmhpITERY244ZKBIS2r1Gvduti9aahnpISkTY\n2s4d0p4WYbFQ2+CMyPsGGL5EozVCee3r9gRCg03KS6a2prpbGox8X0RDBf3W3c/ZQTdTlloACPxx\naVBZhvb1Mwa/3x/x9bxWq5WMjIyQvw9GmKQFmAR8S0q5WQjxW+D7wI8vHCClXAYsA212OyIzhPX1\nyNpaZAdjkq3NKAMIk4nkpCRdZjPrUlKhrh7ZwY6atrRgt5OanBzRmdVomN0Oin4Ykp6dZ4qaHl86\nsr8ur8mQ96W2FF6/E0r3MfjMZ4Cgfs7PSSi8L/JaWmD0jH8oGDEmWQKUSCk3N5ZXoZmmoaT07Yvo\nxi+cyWKh7/DhumjJKhiMvzGrXCj4fT76DB2ii5begt8vW0za9NDxyOoz8PfrofRC5BwBN/4R97g7\nDJXVk4m4SUopzwInhRAjGqvmAG3HQooQJrOZYZdeginEccmEtDQy8wfposWemEjuuHEhj0v2HT6M\nhB72a200h0prKK/TVhOkJ1gZ0TfZYEUhUFUCf78Ozh/SysIMt/wFCu80VlcPx6jZ7W8BzwshPgcm\nAj83SEczhl1ycUjnmW02Rl01R1ctI+dcHtJEktlmY+QcfbX0Bja1CI1mMvWwmd/K4/C366CiccjA\nZIH5z8L424zVFQMYYpJSyp1SyilSyvFSypuklJVG6GhJfGoqE2++CXM7EyYtMVksZA3OJ/+ii3TV\nkjloEEMunoXZ1vnkU2ablUGTJ5E9LHx7yWOV5vEje9j6yIoizSAdjUvYTFa4fQWMudlYXTFCjGwn\n0I/hl17C2GuuwdzOLPcFzDYrWQWDuWTpkrDM2BXedCP5U6d2yrTNNht5EyYwZeGCL0ReUbSPzy+b\nRSLvUflszh/WDLK6cc++2Q4LX4CR1xurK4ZQUYBaYdRVc0gfkMvut97BceoUfp+v2VZFi92ONS6O\nEXOuYPill2AyhyeUljCZmLpwAX2HD2fPO+9SV1ERiEoEIARmq5X41FTGXPMl8qdOUQYZAntPV1Hj\n1CbKspPtDOkTXaG62qR0PyyfF0i5YImHL78AQ64wVleMoUyyDfqNHEm/kSOpKS2l6NPPqCs/jwtI\nTkggb+IE+g4fHjFDGjipkIGTCqk4eZLiLVu1qEBmMylJSQyaMoWMQQOVOXaDluORPeK9PLsbVtwI\n9Y3arYlwxz9g8CXG6opBlEl2QHJ2NhPm3QAYv8YrY8AAMgYMiAotsUTweOSsnjAeeXoHrLgJnI2L\no23JcOcrMCgqQiDEHMokFb0aj8/PluLAFs6oT/pVshWeuwVcjfEg7amw6DXI6zDilyJElEkqejWf\nlziod/sAyEuPZ0BG+1tPDeX4Jnj+NnA37rSKT4dFr0NOobG6YhxlkopeTXCqhqjeZXPsX/DCArgQ\nzSchE+5+A/qFLwuiQkOZpKJX0yPyax9dDy/eAd4GrZyYDYvXQPao9s9T6IIySUWvxenxse1EYB9D\nVCb9OvQe/OMu8DUGXknuD4vfhKxhxurqRSiTVPRatp+oxO3V1r8W9EmkX2roMQfDwoG34OXF4Pdo\n5ZQ8rQWZqYKXRBJlkopeS7P1kdG2y2bv6/DqV8HfGA0qbZDWgkzXJ4iKovMok1T0WjZFaz6bz1+B\n15dqybsAMoZoLcjUPGN19VKUSSp6JXUuLztPBiJVTy/IMFBNEDuehzfuBxq3nmYNh7vXQEp/Q2X1\nZpRJKnolW4or8Po1IxrZL5nMJLvBioCtf4O1/xUoZ4/Wlvkk6ZfPXdF1lEkqeiUt92sbzmd/gbf/\nO1DuNw4WvQGJUaCtl6NCpSl6JZuKomg8cuMfmhtkTqHWxVYGGRWolqSi11FV72HPKW3vs0nARYMN\nHI/81xOw7ieBct5FcNcqiEs1TpOiGcokFb2OzcfKaRyOZGxuKqnxnY/+rhtSwkePwYe/CNQNnAl3\nvgz2HphfJ4ZRJqnodQR3tQ0Zj5QS1v9Ua0VeYPCl8OWXwNZDAv72IpRJdgKP04mzpoba6mrizGbi\nko37pXfX1+OsraWupoZ4qxV7onFfKmdNLe66Ourq60iw27HFxxumpSuEc32kX0oqalzUOj34nE7i\nE33YrUGR66WE934Em/4QqBsyBxY+D9ae8f71NpRJtoGUktJDh9m/bh2lhw5rqWaTEvFXVZOYkcGo\nq+YwcNIkLF1IGhYqfp+P03v3sf+DD6g8cTKgxVFFam4Oo6+8ktzx48KWRiIYn8fDyZ072f/+OmpK\nS5tpyRpSwKgr59BvxIhu5TAPJ+W1Lg6c1UKNWUyCKYPSdbmuo87FOztO8PrmYhrcXswmQYbdT1mD\nYPaYHG6ZNpjB2cnwzvfgs2cCJw6/Bm5bDtYo2xKpaEKZZCs0VFWx4Q9/0tIkuLTAAn6fD2GzIb1e\nakpL2b7qNbaveo2Lv/of9Bs5ooMrhk7V2bN8+Ic/4XE6v6jF56PyxEk2P/8C5petzL7/G6TnhW9X\nRtnRo3z8zF+Qfn+rWkoPHabi+AnikpO5/Fv3k5gRJQu0g/i0KBBgd+KANBLt3f8KrN58jGfXHwBo\n2gsO4DZL3F7BB5+X8NGeEn6c8DxTHW8FThx5A8z/G1jC/0OrCJ3o/Lk3kHqHg3cf+xU1paVNRtAa\nXpcLr8vFv5b9hVO794RFi+P0ad5//Dc0VFV1qMVVW8u6J39L+fHjYdFy9uBBPvzjn/E0NHSopa6i\nnH8+9mtqz5e3eZxRbDx6vumxHvEjn/voEH/dcBC319/MIJvh9/NNz9PNDXLMLXDb35VB9gCUSQbh\n9/vZ8Ps/4K6rb5YdsT18Hg8b/76cqrNnddXibmhgw+/+0K4htcTrdvPhH/+Ms6ZWVy215eX8+y//\np2Vq7ATSL/E0NLD+d7/H5/HqqqW7BI9HTu+mSf57/xle2XgUl8fX5jEm6eO/5Z+5Wn7cVLc77Sq4\n5S9gNmBWXdFllEkGcWbvPhqqqjttkBfwe73sf+8DXbUc27wZbydNqaWWo598oquWg+s24PO2bQSt\nIaXEXV9Pya5dumrpDmernBSd1yJ72ywmJg0MfTxSSsmz6w7gaqv1CJillx/IPzBHBv4e74rZ/LDu\nXkpru/63VRiDISYphCgWQuwWQuwUQmw1QkNr7P/ggy613C4g/X5O7tyJu6FBFx1SSg6s24DP7e7y\nuT6Ph4MffoS/i0bfFl63m6LNm5G+rpkkaF3v/R/o++PRHTYVBbraUwalE2cNfaLr4GkH5bVtf1as\n0sO3nL/nUrm5qW6tmMNT4qv4hYk3t4ZnWEShP0a2JC+XUk6UUkZFmreGqioqTpwM/QJCcHLHTl20\nVBw/jqcbhuv3eik9dFgXLad37+lWHuqa0jJqysp00dJd9Mxns3brcdxttK6t0s2P/U8xxRf4/X9d\nfInfi68ghQmPz8/b20906/6KyKG6243UVzowW0Kf6fS53dRVVHR8YCeoq6js+KB2kFJSX9m9azRp\nqazs9Fhka5gsZuq7+Xr0Qs98Nqcq6pHyi/V26eIR/xNMY0dT3cviBp4Wd0PQj02d04PP38oFFFGH\nUUuAJPCeEEICz0gplwU/KYRYCiwFyM3NxeFwtHIJfamqqYHERIS17cF0kdB+utEGt1sXrTUN9ZCU\niGhnDWZ7WoTFQq3TqYuWerdbe1/aOabd98Vmo7q2FnsE/obBtHztpxxOTjm01nm81cTApC8e0xXs\nuOgT39zk7NLJd5xPMIZ9TXWrrTexxjafPgKaYkQCAkF5RQU2S/jXtgLU1NRE5D4dES06uoJRJjlL\nSnlaCJENvC+EOCBlYPqv0TSXARQWFsq0tLTwK6qvR9bWIjsYk5Rt/JGFyURyUhJ6aK1LTYW6eqTT\nGZIW7HZSU1J00ZKcmIhoaMDvbX+Wui0tMs5OekaGLlo64kzQ45b3++fhQPd2WkEmfTK7t4ZT2BIo\na6hvKifIer7v/zVjONhUt8o2n7/4boFW/oxmk6BPZka3hjK6SkS+R50gWnR0FkO621LK043/lwKv\nAxcZoSOYlL59u7VjxWSx0G/USF209Cko6NCU2sPv85E9bKguWvqNHNG9L7KE9LxcXbR0h40657O5\neGS/pomfRFnHz/2/ZGyQQT4rFrLadnOb548dEFmDVIROxE1SCJEohEi+8Bi4GgjPauwuYDKbGXbZ\npdo2uxBIzEgnY8AAXbTYEhIYMGFCyF+ifiNHEJ+SoouWlL59Sc0JLXWAyWxmyMwZmNsZwogEUkrd\n92tfMS4XCSTLWn7p/zmjONL03NPiLl42zWvz3HibmdtmFnRbgyIyGNGS7Av8WwixC/gMeEtK+a4B\nOr7A0ItnhWRMZpuNUVdeqauWEXMuD8mwzTYbI+dcoauWUVdeGdIedWEyMezSS3XVEgpHy+oordGG\nUVLiLIzO6f4PSLzNwvUjEviV/BnDOdZU/3txL6+bruvw3MlD+nRbgyIyRNwkpZRFUsoJjf/GSCl/\nFmkNbRGfkkLhrbd0qeVjslrIHjqE/Kn6rmTKGDCA4ZdditnWeS1mm43B0y4ie6g+Xe0L5E0YT//R\no7r0vphtNsbdcD1JWcZH194UtBVxWkEmZpMO3dyacyw59T8USG29ox/Bk2IJa01XtXua3WLiodsm\nY1Jd7R6DWgLUgqGzZjLuhus7ZQhmm5XsoUOZ9R9fCUvUm/Hz5jJk5kzMnWjFmW02Bk4qZPL8W3XX\nIYRg+uK76T9qVOe0WK2Mvuq8vkBHAAAgAElEQVRKRl5xue5aQqF5qgYdTLv6NPz9ekzntaAWfkw8\nZf4G75rafr0mAXFWMw8vmMKoPH0iDykig4oC1Aojr7ic9AF57Hn7HcqLj4OU+IN2nFhsNmyJiYy6\n6kqGzJqJKUxhwYQQTLr1FrKHDmXPu+9Sc64Uv88X2DYpBGarhaTMLMZ86WoGTCoM22SA2WJh1n/c\nS9Gnm9n//gc0VFc32xEkzGaESZCel8fYa6+lv06TWN3F79d5PNJxEpbPhcrGLrYw4577JzKrCkna\nWozPL2lwBz4rdosJv4SZI/py12XDGZiV1L37KyKOMsk26DtsGH3/cxi158sp3rKF2vPluJAkJySQ\nN2ECfYYURGx2Mm/CePImjMdx+jTHt26jweHAbTKRkpzMoEmTSB8QmaT1wmRiyMwZFMyYTnnxcU7u\n3Imzqhqv1UpaWir5U6eQnB1d6U8PnK2hsl5bDJ+ZaGN4326YVGWxZpCOxuVEJgvM/ytxo29kMXDn\npcPYdOgcu4rLqa53k2rzkZOdxZzxuaTEq2g/PRVlkh2QlJXJ2GuvAbTFx0au8UrLySFtXo7hWoQQ\nZA3OJ2twvuFaOiI4NNr0IZmh/7CVH4Xl86C6RCubbVqw3JGBSRqL2cQlo/pzyShtNUA0vy+KzqNM\nUhHTfKrHeGTZIa0FWdsYDs9sh4UvwDB9VzQoohNlkoqYxevzszkoEnlI45Hn9sGKeVDXGKTDEg9f\nfhGGRMeklCL8KJNUxCx7TldT49J2LvVLiSM/s/2991/gzOew4kZoaDRaa6KW8jX/Yp2VKqIZZZKK\nmKX5rHYXxyNPbYfnbgZnYxAMWzLctQoGTtdZpSLaUSapiFmCJ226FBrt5BZYeQu4qrVyXCrc9Trk\nTdZZoaInoExSEZO4vX62FgfiWHbaJI9vhOdvA3djnqD4dFi0GnImhkGloiegTFIRk+wqcdDQmKBr\nYEYCeemdGI8s+gheXAiexhBoCVlw9xvQb2wYlSqiHWWSipiky6kajqyDl+4Ab2Pwx6S+cPcayI6O\nnUMK41AmqYhJujQeeeif8I+7wNe4zTI5Bxa/CVn6BgpR9EyUSSpikh0nAqkZ2g2yu/9NeOVe8Dfm\n8UkdAIvXQIaK96jQUCapiEncPi0IyNDsJLJT4lo/aM9r8OpXQTYGpEgbBPeshbSBEVKp6Akok1TE\nNG2OR+76B6z+OsjGiEoZQ7QudqrxqSYU0YUySUVM02pXe8dKeOObNGUvzBqhdbGT+0VUm6JnoILu\nKmKa6S1Ncutf4Y37aTLI7DFwz1vKIBVtolqSiphldP8U0hOD4jhufgbe+W6g3G+8tg4yoXvpZRWx\njWpJKmKWZkt/Pvldc4PMmaR1sZVBKjpAtSQVMUvTpM3Hj8P6nwaeGDAN7nxF25OtUHSAMklFTGI2\nCS7KT4cNv4CPfhl4YtAsuOMfYE82TpyiR6FMUhGTjM1JIfmTn8O/nwxUDr5MC5hrSzROmKLH0aUx\nSSHEYCHEOiFEkRDiN0KIuKDnPtNfnkIRGj+yrGxukEOv1FqQyiAVXaSrEzd/Al4DbgMygHVCiAv9\nls5nrlcowszUsy8GCsOv1XLSWOONE6TosXTVJPtKKf8opdwmpbwHWItmlKk0LTzrGCGEWQixQwix\ntov3VyhapazG1foTo+bB7SvAYo+sIEXM0NUxyWafNCnlL4QQHmAd0JWR8P8E9gMpXby/QtEqm46W\nMqxl5dhb4eZlYFZD74rQ6eqn55AQ4iop5fsXKqSUjwsh/MDjnbmAECIPuB74GfCdjo4/4DjAuOXj\nuihT0Rt5OejxuMEDoW4LrCw0TI8iNuiwuy2EmBRUXAh83PIYKeVvgAGdvOdTwHcBfzv3XCqE2CqE\n2NrJayoUCkVY6MyY5AYhxOUAUkqXlLLVwR8p5amOLiSEuAEolVJua+84KeUyKeUUKeWUTuhTKBSK\nsNGZ7vYLwNtCiLuklK8GPyGEuBj4pZSys4mIZwHzhBDXAXFAihBipZTyrrZOGJk2kh2Ld3Ty8uHF\n4XCQlpZmtAxAacHjhJcXweH3mqr2k9P0ePfi3ZHV0wq9/m8UxToAxD2dSzHcYUtSSvkN4BfAS0KI\nrwMIIcYJId5E63qnd1aUlPIHUso8KWU+Wtd9fXsGqVC0irseXlzQzCD/7J1roCBFLNOpJUBSyp8A\nXwd+J4T4CNgBjAW+AqhZFUXkcNXCC7dD0YdNVX8138Zj3oXGaVLENJ2a3RZCZADDAR9wCbARmC2l\n9IZ6Yynlh8CHoZ6v6IU4q7Wc2Cc/bapyTP8uP/lQ5cRWhI/OzG4/DBQB9wNPoLUepwC/Ca80hSKI\nBgc8d1Mzg+Sqn/BOxiLjNCl6BZ1pSf4Q+D/gf6WU5wCEECeA14UQfYG7pJSeMGpU9HbqKzSDPLMr\nUHfNL2H6N9j4YnRM6ilil86Y5Cgp5dHgCinl+sZlQW8D7wJzwiFOoaC2TDPIc3sCddc/AVO/ipSS\nTUfLjdOm6BV0Znb7aBv124GLgXydNSkUGjVnYfkNQQYpYN7vYepXAThSWsv5Wm3Zbmq8iq+iCA/d\n2tQqpTwihJiplxiFoonq07B8LpQf0crCBDf9GSYEZrE3BrUiW82KqFDoQLd3/l8Yp1QodMNxUjPI\nymNaWZjh1r9oASuC2Hj0fNPjGW3l11YouokKj6KILiqOwfJ5UHVCK5usMP+vMHpes8P8fsmnRRVN\n5ZlDMgl5PZpC0Q4qW6Iieig/Cn+/PmCQZhsseO4LBgmw70w1VQ3aooqsJDtDs5MiqVTRi1AtSUV0\nUHZQ62LXNo7eWOJgwfMw7MpWDw+e1Z4xJBMhOrcPV6HoKsokFcZzbq/Wxa5vHGO0xMMdL0HB7DZP\n2VQUMMmZajxSEUaUSSqM5cwuWHETNDSOL9qS4I6XIX9Wm6d4fH42K5NURAhlkgrjOLUNnrsZnFVa\n2Z4Cd70KAy5q97Tdp6qoc/sAyEmNY2BGQriVKnoxyiQVxnBiMzw/H1zVWjkuFRa9DrmTOzy1+Xhk\nlhqPVIQVZZKKyFP8iRbuzF2rleMz4O7V0H9Cp04PNknV1VaEG2WSishS9CG8+GXw1GvlxD5w9xvQ\nd0ynTnd5fWwpDqyPVIvIFeFGmaQichz5AF66E7xOrZzUDxavgT4jOn2JHSccuLxaDrn8zARy0uLD\noVShaEKZpCIyHHwHXr4bfG6tnJILi9+EzCFdukzL8UiFItwok1SEn31rYNW94G/cOJg6UGtBZgzu\n8qXUeKQi0iiTVISXPa/Cq0tAakt2SM/XWpBpA7t8qQa3jx0nK5vK01XkH0UEUCapCB+7XoLV3wCp\njSGSOVQzyJSc9s9rg63HK/D4JADD+ybRJ9mul1KFok2USSrCw/bnYM23AM3U6DMS7l4DyX1DvuTG\nZl1tNR6piAwqCpBCf7b8H6z5Jk0G2Xcs3PNWtwwSmpuk6morIoUySYW+fPpneOv/Bcr9J2hd7MTu\ntfyqnR52lzgAEAKmF2R063oKRWdRJqnQj09+C+9+P1DOnax1sRO6b2hbjlXgb2yYjslJIS3B1u1r\nKhSdQY1JKvTho1/DhkcD5QHT4c5XIC5Fl8urfDYKo4i4SQoh4oCPAXvj/VdJKR+OtA6FTkhJ3KYn\nYPPvAnWDLoY7/gF2/aKFb1KTNgqDMKIl6QKukFLWCiGswL+FEO9IKT81QIuiO0gJHzxMXLBBFsyG\nhS+CTb/wZZV1bvad0aIFmU2CqYPVeKQickTcJKWUEmgM/4K18Z+MtA5FN5ES/vkgfPqnQN3Qq2DB\nSrDG6XqrT4MC7E7ISyXJrkaJFJHDkE+bEMIMbAOGAn+UUm5u8fxSYClAbm4uDocj8iJboaamxmgJ\nTRiqRfqJ3/AQ9s+fa6ryFFxN3TV/gDon4NT1dhv2n256XJib1KnPQzR8ZtTn5YtEi46uYIhJSil9\nwEQhRBrwuhBirJRyT9Dzy4BlAIWFhTItLc0Ima3S67X4/bD2PyHIIN3DrsO2cAVpZmtYbrm9pLbp\n8RVjctt83WeCHkfL3yladED0aIkWHZ3F0CVAUkoH8CFwjZE6FJ3E74M37oPtKwJ1426j/trfQ5gM\nsrTayZFSzSRtZhOTB6WH5T4KRVtE3CSFEH0aW5AIIeKBK4EDkdah6CI+D7y2BHa9GKibcAfc/AyY\nwtchCc6KWDgwjTirOWz3Uihaw4judn9geeO4pAl4WUq51gAdis7idcOr/wH71wTqJi2GG54CU3h/\nZ9XSH4XRGDG7/TlQGOn7KkLE64KXF8OhdwJ1U5fAtb8Ku0FCi6AWQ9UickXkUWspFG3jaYB/3KWl\nXbjA9PvhSz/TNlCHmZLKek5UaLlw4q1mJuT1rAF/RWygTFLROu46LWHXsY8CdRc/AHMejohBQvOu\n9pT8dGwWFWpAEXmUSSq+iKsGXlgAxz8J1F32fZj9/YgZJKjxSEV0oExS0RxnFTx/G5wMWt9/xY/h\n0v+OqAwpZfOgFiqfjcIglEkqAjRUwnO3wOntgbqrH4WZ34q4lOLyes5Wazt3ku0WxuboE01Ioegq\nyiQVGnXl8NxNcPbzQN21v4JpXzNEzsaj55seTyvIwGJW45EKY1AmqYDaMlhxI5TuDdTd8CRM+Yph\nkjaq/NqKKEGZZG+n5iwsnwfnDzZWCLjxD1B4l2GSpJR8qoLsKqIEZZK9mapTsHwuVBzVysIENz0N\nExYYKuvQuVrK69wApCdYGdkv2VA9it6NMsneiuOEZpCVxVpZmOHW/4OxtxgqC5qPR84YkonJFLll\nRwpFS5RJ9kYqirQudtVJrWyywm1/g1FzjdXViMpno4gmlEn2Ns4f1gyypjGQrdkGtz8HI6IjWp3P\nL9lcpCZtFNGDMsneROkBWDEPas9pZUscLHwBhs4xVlcQ+05XU+30ApCdbGdIn0SDFSl6O8okewtn\n92jLfOobx/usCfDll6DgMmN1taDleKSI4DZIhaI1lEn2Bk7v1BaKN1RqZVuSlhN70ExjdbVCcJDd\nmWoroiIKUCYZ65Rsg5U3a3uyAewpcNerMOAiY3W1gsfn57NjFU1lFdRCEQ0ok4xlTnwKK+eDuzFD\nXVwaLHodcicZq6sNPi9xUO/2AZCXHs+ADP1ydysUoaJMMlYp/jc8fzt46rRyQiYsWg39xxurqx02\nHlFLfxTRhzLJWOToBi1grrdBKyf2gbvXQN/RxurqgGbjkSpVgyJKUCYZaxx+H166E3wurZzUDxa/\nCX2GG6urA5weH1uPVzaVZxSo8cjuUu/ycrqijga3F+lpwBqXSGJceFL/dkR1g5tzjgaqHFWkOwW5\nmUk9JvOlMslY4sDb8Mpi8Gn7nknJ1Qwyc4ixujrB9hOVuL1+AAqyEumXGmewop7LsXPVvLr5GB/t\nPY3FZEIIyLD7OVe/m1kj+3Hr9AKG9U8Nuw4pJftKKlm1qYgtR8qwWkxk2v2UO034pOSq8bncPG0w\neZlJYdfSHZRJxgr73oBVXwG/thCbtIGaQabnGyqrs3yqopB3G5/fz2/e/Jx/7TuDxyfxS4kb7Ycn\nwSRxewUf7T3NxoPnmDqkD9+7eSI2S3hac063l0de3sb+kkpcHh8SbfVCoklS79Y0vbPjJO/tKuH6\nSQNZevVoTFG6JlZFMo0Fdq+CV+4NGGT6YLjn7R5jkNAidaxa+tNlfH7Jw//Yyr/2n8Hl9eOXstXj\n/BJcHh9bjpTy4POf4fX5ddfi8vj4zt83sfdkBc5Gg2xLs9vr5+0dJ3lizS5kG5qNRplkT2fnC/Da\nEpDa0hkyh8G9b0PaAGN1dYE6l5edJx1N5ekFGQaq6Zms/OgQnx8vx+XpnOm5vH4OnXGw7P39umv5\nzZu7OFle2zR80qEWj49/7T/Lmi3FumvRA2WSPZlty2H1fSAbP4x9RsI9b0FKjrG6usjW45V4/Vor\nYmS/ZDKT7AYr6lm4PD5e23ys0wYZOM/PuztOUOfy6KalvMbJJwfOddogA1p8vPCvI/j80deajLhJ\nCiEGCCE2CCH2CyH2CiH+M9IaYgHbrhXw5rfhQmem7zjNIJP7GqorFFru11Z0jY/3nSHU0TwhBOs+\nP6WblrXbjod8rsvrY9vRMt206IURLUkv8P+klKOA6cD9QojoXsAXbWz6Ewkbfhwo958Ii9dAYs8c\ny9uk4kd2izVbimnw+EI61+nxsWZrsW5a3tl+Ak+I45wNbh9v6qhFLyJuklLKM1LK7Y2Pa4D9QG6k\ndfRY/v0k/PMHgXLuFLj7DUjomeN4VQ0e9pzS9pWbBExTJtllztc4u3V+Za1bJyVQ3dC9rntpVfde\nSzgwdAmQECIfKAQ2t6hfCiwFyM3NxeFwfOFcI6ipqTH0/vbNvyV+02+ayt6cqdTO+xu4AJdx71F3\n3pcPD5dzYRhqZN8kpKsOh6v7mqLhMxOpz0uq1Yc5vv2xvDR728/HWXy6vF9SSjLs7bci29MBkGT2\nRMXfLhjDTFIIkQS8CvyXlLI6+Dkp5TJgGUBhYaFMS0szQGHrGKJFSlj/KAQZpCdvBtZFq0izR8dC\n3FDfl11nA+Nhl4zI7tb7e0YHPXoTCR0eYaeswdvhcWUNrY9cZiXbdNNZ67PQ4G6/69+WDoA+mfFR\n87e7gCGz20IIK5pBPi+lfM0IDT0GKeH9h+BfjwfqCi6n7sa/QZQYZHdQ45Hd59Ix/bGaQ/sqW0yC\ni0f1003LRUOzCTVvW5zVzOVjo29lhhGz2wJ4FtgvpfxNR8f3aqSEd38AG38XqBv2JS2iuDXeOF06\nUV7r4sBZrUtqMQmm5vfMcVWjuWHyoJDPNZkEN07N103L/BkFWEPcxSOlZM746JueMKIlOQtYBFwh\nhNjZ+O86A3REN34/vPUd2PznQN3IG2DBSrDGxr7mT4sCAXYnDkgj0a52yYZCZnIckwqyMHexCWc2\nCUbkpJGToV8eoeE5afRLi+/ykiSrWTB7TA6JdmMCcLSHEbPb/5ZSCinleCnlxMZ/b0daR1Tj98Gb\n34Ktfw3Ujb4Jbvs7WGyGydKbTUVqfaRefGfueFITbJ3e/yyAxDgr37+5UHctD902mfgu/OCZTYI+\nKfF87UvRuRJQ7biJNnxeWP0N2LEyUDfudrj1WTBH369sd9ioglroRlqinafunUlWih2bpf2vtdVs\nIj3JzpP3zCArRf9eSV5mEo/fPZ3kOCuWDlq3douJ3IxEfnPPzKhsRYKKAhRd+Dzw2lLYGzSXNfFO\nmPd7MPWM2Hud5WyVk6IyLWq6zWJi0sB0gxX1fPqmJfD00kt5Y0sxr28+hsfnx+kOBJiIt5kxm0zM\nmzqImy8aTEpC+HolQ/ql8szXL+W1zcd4a9sJQDbNegsgzmYm3mbh1ukF3DB5IHG26LWi6FXW2/C6\nYdW9cGBtoG7yvXD9b8AUew3+4K725IHpPSYAa7STGGfljkuGsWDWULYcKeXo2WpqGtykWLwMyu3L\ntGHZWEKcCe8qmclxLLlyFItnD2fjwXOcPF+Lq6GWhMRkRuSmUTg4K2rDowWjTDIa8Di1YLmH3g3U\nXfQ1uPYx6AEfolDYdFSljg0nZpNg+vC+TB+u7eV3OByGrT+0WczMHpNjuI5QUSZpNJ4GeOkOOLo+\nUDfjm3D1ozFrkNAifqTKZ6OIYpRJGom7Dl5cCMc+DtRd8v/gih/HtEGerKinpFJLUpZgMzM+r2e1\nLBS9C2WSRuGq0VK+ntgYqJv9IFz23Zg2SGje1Z6anxHybhGFIhIokzQCZxWsnA8lnwXq5jyktSJ7\nAcHxI9V4pCLaUSYZaeorYOUtcHpHoO7qn8HMbxqnKYJIKVU+G0WPQplkJKkrh+duhLO7A3XX/hqm\nLTVOU4QpOl9HaY0WCy0lzsLonBSDFSkU7aNMMlLUlsKKG6F0X2OFgBuehCn3Gior0gS3IqcVZHZ5\nv7FCEWmUSUaC6jOwYh6cP9RYIeDGP0LhnYbKMoJNajxS0cNQJhluqkpg+VyoKNLKwgQ3L4Pxtxmr\nywD8ftks8o/ar63oCSiTDCeVxzWDdDRmkDNZ4Nb/gzE3G6vLIA6eq6GiTsunkploY3h2ssGKFIqO\nUSYZLiqK4O9zobpEK5uscPtyGHm9sboMJHg8cvqQTExqPFLRA1AmGQ7OH9ZakDWNWVfMdi1Y7vCr\njdVlMCpVg6InokxSb0r3w/J5UFeqlS1x8OUXYcgVxuoyGK/Pz+YiFdRC0fNQJqknZ3dry3zqG83A\nmgB3/AMGX2qsrihg7+lqalxaRr9+KXEMztIvZYBCEU6USerF6R2w4iZwNuYMtiXDna/AoBnG6ooS\nNrVoRYoY35+uiB2USepByVZ47hZwVWlleyoseg3ypuh6Gykl1efO4aypoba+AdHQQEq/fj3CcFpO\n2sQqTo+P42U11Do94KlnsCWOjCRjErfVOj2cPF9LvduL8DQw1J5ASrwxOZIcdS5OVdRRXV1Feh0M\n6pNEfBRHIw+mZ6iMZo5vgudvA7eWGpX4dFj0OuTol2DJ43RSvGUrBz5Yh7O2FpPZBAmJ+GtqsCUk\nMHLO5QyeNg1bfHSmmXV7/Ww5FlgfGYvjkSfP1/L6Z8f44PNTmE0CAWTY/Zyt28fYgRncNrMgYpG4\nD5+pYtWmo2w8eK4pwlKG3c+5+r1cNDSb+TMKGJmbFvYfVyklnx+v4JVNR9l5rBybxUSG3U+5y4TP\n52f22BxumVZAfpQvBVMm2R2O/QteWAAeLVcLCZlw9xvQb5xutzhfdIyPnn4av8+Pz62tMfQBwmJF\nut00uN18/uZb7F77Npcs+Sp9RwzX7d56savEQYNHy28yMCOBvPQEgxXph5SSZ9cd4I0txfj8Ep9f\nNj2XYJJ4fIIdx86z/1QlA7OS+Pkd00iOD0/CK4/Pz+Nv7GTToVI8Xh9+qf1AXdDi9go+OXiWrUfL\nmDg4kx/eOglbiDmyO6Le5eXHL23hyNkqXI15djw+PwkmSb1L0/T+rhI+3HOaqybkcd81Y6N2i6oK\n5BcqR9drLcgLBpmYDfe8patBlh09yoY//BFPg7PJIFvD53bjdbn4+JllnNl/QLf760WsLv2RUvLb\nt3azZutx3F5/M4NsidPto+hcNd969t/UOT26a/H5JQ+9uIVNB8/h8mgG2bpmbUhge9F5vvfcZjw+\nv+5anG4v//W3Tzh4ytEsEVlL/BJcXj/vf17CY6t3IGXb75+RKJMMhUPvwQsLwatF1ya5P9z7NmSP\n0u0WzppaPvrzM/g8nf9C+TwePnn2WeorHbrp0INm8SNjKFXDuztPsn7PaVyNreSO8Pok56ud/OzV\n7bpr+dv6A+wtqcDl7Zzpub1+jp6t4s//3Ku7ll+/sYszlfWdNmCXx8+nh0p5ffMx3bXogTLJrnLg\nLS0njU8L90VKntaCzBqm622ObtyI9Hf9V97v83Po4487PjBCOD0+th8PmHastCSllKz86HCnDfIC\nHp+f3ScqOFVep5sWp8fHm1uP4/J07fPi8vp5f1eJri3bsuoGNh8ubermd1qLx8eL/z7SbmvcKCJu\nkkKIvwohSoUQeyJ97+5iPfQWvHw3+Bs/VGkDtRZk5hBd7+P3+zn04UddakU2nev1cvTfn+DzenXV\nFCrbj1fibmxRDOmTSHaKMTO9erPreLk2gx0Cfr/k9c/0azV9tPd0yOcKIXjv8xLdtKzdejzkcz0+\nP1uOlOqmRS+MaEn+HbjGgPt2j89fIeGdb4K/0XwyCuDedyB9kO63Ol9UFJJBXkBKybmDB3VUFDqx\nGoX87W0ncHaxFXkBr1/ygY7G9OaW4pC1uDy+bhlbS97dcTLkcc4Gt9YijjYibpJSyo+Big4PjCZ2\nPA+vLUHIxj9+1nC4521IzQvL7Rqqqrt1vpSy29fQi1jNZ3OuqqFb5zvdPrw6TZqU17q6db6jrnvn\nB1PTza57WXX33tdwEJVLgIQQS4GlALm5uTgcxk1E2Ha/QMK6HzSVfZkjqL35eaQ/HsKkq87ZAEmJ\nCFvbC39FQtvLaITFQr3bFbH3raamptX6OpeXz0uqmsqjsiwR0xTu+ySYPPSJb3/8LM3e9vMCqHRU\nYjV3fwlOqtWHuRta4ix+Xd4vKSUZ9vaNvz0dAMlmr6Hf99aISpOUUi4DlgEUFhbKtDSD8jJ/9hcI\nMkhvn9FY7llLamJ4W0T1aemIunqk09nucbINc8JuJzU1lUi+b63da8fBUryNA/Gj+qeQ379PWDWc\n6UCPnphtCZQ1dDz5UtbQ+to/i0nQJ1Ofz5HHZKesoeMx6La0ZKXYdHu/an1WGtzta2lLB0B2VnxE\nP7edQc1ut8XGP8Db/x0o5xRSd+uLEGaDBOgzdAh+X2hjTAB+n4++w41fVL7paOxG/bl8bA7xttBa\ngQKYPES/H4zZY3JCzl1uMQsuHdVfNy3Th2eHvKsozmrmirE5umnRC2WSrfGvJ+C9HwbKeVPh7jeQ\ncZH5hbPa7eRPnYIwdf3PI4Qgb/x47InGR9mJZZO8ZHToxmK3mrltRoFuWq6fPDDkc01CcOPUfN20\n3Dq9AKslNFuRUnLFuPCM83cHI5YAvQhsAkYIIUqEEP8RaQ1tIiV8+EtY95NA3cCZ2l7suNSIShl+\n+WxMIYxXmSwWRs4xPnZlVb2HPae18UiTgKmDMwxWpC82i5nrJg3E1kVDEEBaop2xA/V7PzKS4pgy\npA+WLm7rM5sEo/LS6afjNtFh/VPpn55AVxuTVrOJK8blkmCPvhFAI2a3vyyl7C+ltEop86SUz0Za\nQ6tICet/Ch/+IlA3+FK4axXYI78BP7VfP8bPuwGzrfP7fM02G6OvvoqMgQPCqKxzfHqsnAu7zMbl\npZESF579ykZyz+UjGJCZhNXceUeIs5n56cIpugeX+M7c8aQl2jvd1TUJSI638v2bJ+qqA+Dh2yaT\n0IUIPxaToF9aPF+7erTuWvRAdbdBM8j3fqR1sy8w5Aq442WwGddtHTF7NmOvuw6ztWODMdusjJxz\nBaO/FB0pImK5q30Bm6cvHw8AAAs3SURBVMXMr+6eTkHfFOzW9lv9VrMgKc7Cr++ewcA++v/opiTY\neOorM+mbFt9h69ZmMZGRHMdT984KSxi3nIxEfnPPTFISbB2OldqtJgZkJfHEPTOjNnRadKqKJFLC\nO9+Dz54J1A37Ety+AqzG7w4ZNecK+hQMZt97H3D2wAGEEE0Lzc1WK1JKsocNZfTVV5E9dKjBagPE\nalCLliTFWXninpm8v/MkL28qorLWhcenBbsQQLzNjBCC6ycP5OaLBpOZHL7PVJ+UeP605BLe2n6c\n1z49RoPb2xR4w9SoxWYxc/O0fOZOyScpjK37/Oxk/vL1S3njs2LWbNUiJF3Ywmk2CaxmEykJNm6b\nUcCXJg7o8EfGSES0Rt64QGFhodyxY0d4Lu73w1sPwLa/B+pG3gDz/waWL65RdDgchi5PaKiupmTX\n5zirq3FJSWpKCrnjx5Fg8JKJlu/L+VoXUx79ANBaULsevrpL3a9Q2T8yEGBk1IH9Yb9fS6SU7D/l\nYO+JCmqcHhJMHnKzs5g+om/Is8+h4peSHcfOc+RMNXVOD0kWD/k5fZk8pE/EQ5J5fX4+O1zKifO1\nuBpqiU9MZlRuGmMHZhgaMFoIsU1K2WFk7N7bkvT7YM23YOfzgboxt8Aty8AcneNn8SkpDLvkYsB4\nw26PT4NSNRQOSI+IQUYDQghG56UzOi8dMPZvZBKCyQV9mFzQx3AtFrOJmSP7MdNgHaHSOz69LfF5\nYfU3YPfLgbrxC+HGP4K5d74letJbUjUoege9zxF8Hnj1q7BvdaCu8C6Y+zswRe+4SE+iN0zaKHoP\nvcskvS5Y9RU4sDZQN+UrcN0TEMLCbcUXOVPVwLHz2nY9u8VE4cCe1bVSKFrSe0zS44SXF8Hh9wJ1\n074O1/ySLq98VbRJcCtyan4G9jDlUFEoIkXvMEl3vRZNvGhDoG7mt+GqnyiD1Jng8cgZqqutiAFi\n3yTddVpGw+J/Beou+W+44kfKIHVGStl8faQySUUMENsm6ayGF26HE5sCdZf/EC77rnGaYpiTFQ2c\ncmhBU5PsFsbnRna/u0IRDmLXJBscsPJWOLU1UHflI3DxA0YpinmCo5BPzU/HEuEF1ApFOIhNk6yv\ngOduhjM7A3Vf+jnMuN84Tb2AWM1no+jdxJ5J1p2HFTfBud2Buuseh4uWGKepFyClZFORGo9UxB6x\nZZI152DFjVB2Yd+ugLm/hcmLDZXVGzhaVktZjZZQKjXeyuj+KQYrUij0IXZMsvo0LJ8H5Ye1sjBp\n2wwn3mGsrl5Cs62IBRmYIhxEQaEIF7Fhko6TsHwuVDYmfBdmLVDFuPnG6upFbFLjkYoYpeebZGWx\nZpCOE1rZZIH5f4XRNxoqqzfhbzEeqfZrK2KJnm2S5Ue1LnZ1iVY2WbVguSOvM1ZXL+NQaR2Oei0Q\ncFaSnaHZSQYrUij0o+eaZNkhrQVZe1Yrm+2w8HkYdpWxunohW45XNT2eMSTT0ECqCoXe9EyTPLcP\nVsyDujKtbImHL78IQy43VlcvJdgkVVdbEWv0PJM887m2zKehQitbE+HOlyH/YmN19VK8Pj/bTlY3\nlWM5n42id9KzTPLUdm0njdOhlW3JWsrXgdON1dWL2XO6mjq3luApJzWOQZn65XBWKKKBnmOSJ7fA\nylvA1dhqsafCotchb7Kxuno5wfu1ZwzJUuORipijZ5jk8Y3w/G3grtXK8emwaDXk6J9YXdE1VGg0\nRaxjSJgWIcQ1QoiDQogjQojvt3usu1aL5nPBIBOyYPFaZZBRgNvrZ0txRVNZmaQiFom4SQohzMAf\ngWuB0cCXhRCj2zre5CgGT71WSOoL97wF/cZGQKmiI3aedOD0+AHIz0wgNy3eYEUKhf4Y0ZK8CDgi\npSySUrqBl4C2t8dI7UtIcg7c8zZkj4yERkUnaD4eqVqRithESCkje0Mh5gPXSCm/2lheBEyTUn4z\n6JilwNLG4lhgT0RFtk0WcL7DoyKD0tI6SkvrRIuWaNEBMEJKmdzRQUZM3LQ2/dnMqaWUy4BlAEKI\nrVLKKZEQ1hFKS+soLa2jtESvDtC0dOY4I7rbJcCAoHIecNoAHQqFQtEhRpjkFmCYEGKwEMIGLATW\nGKDj/7d3f6F+z3Ecx58vm7CxqC1mU6OVuMFawmppQ/4l7ixccEMxw4UikRu5kHaDaPNnmWk2XMif\nyZ9GMdofzUwYw5kxJYzIv5eL72d1mnO+G3V+n+/v5/Wo0znnd76n76tf3/M+3+/nb0TEPvX8cdv2\nH5KuA14CxgEP297S8isP9SbZfkmWkSXLyJLln7qSA/YzS887biIi+kn2/IyIaJEiGRHRotNF8t9M\nXxzjHA9L2iWp+nhNScdIek3SVklbJC2qmOVgSe9Ieq9kubNWlpJnnKSNkp6rnGO7pM2SNu3vMJMx\nzHK4pFWSPizXzOmVchxf3o89Hz9KuqFGlpLnxnLNvi9phaSDRz22q22SZfriR8DZNMOG3gUW2P6g\nQpa5wE/AMttV50RKmgpMtb1B0mHAeuDiSu+LgIm2f5J0IPAmsMj2273OUvLcBMwGJtm+sEaGkmM7\nMNt29UHTkh4D3rC9pIwmmWD7+8qZxgE7aCaRfF7h/NNortUTbf8iaSXwvO1HRzq+y3eS/2764hiy\nvRb4bp8H9oDtnbY3lK93A1uBaZWy2HZZeYQDy0eV/7qSpgMXAEtqnL+LJE0C5gJLAWz/VrtAFvOB\nbTUK5DDjgUMkjQcm0DJWu8tFchrw5bDvh6hUDLpK0gzgFGBdxQzjJG0CdgEv266VZTFwM/BXpfMP\nZ2CNpPVlim0txwHfAo+UZoglkiZWzLPHpcCKWie3vQO4B/gC2An8YHvNaMd3uUjuc/ri/5mkQ4HV\nwA22f9zX8WPF9p+2T6aZOXWqpJ43R0i6ENhle32vzz2KObZn0ax0dW1prqlhPDALeMD2KcDPQLW2\nfYDyyH8R8FTFDEfQPJUeCxwNTJR0+WjHd7lIZvriKEr732pgue2na+cBKI9xrwPnVjj9HOCi0hb4\nJDBP0uMVcgBg+6vyeRfwDE3TUQ1DwNCwu/tVNEWzpvOADba/qZjhLOAz29/a/h14GjhjtIO7XCQz\nfXEEpbNkKbDV9r2Vs0yRdHj5+hCai+/DXuewfYvt6bZn0Fwnr9oe9c5gLEmaWDrUKI+251BpFSvb\nXwNfSjq+vDQf6HkH314WUPFRu/gCOE3ShPL3NJ+mbX9End2+4T9MXxwzklYAZwKTJQ0Bd9heWiML\nzV3TFcDm0hYIcKvt5ytkmQo8VnorDwBW2q46/KYDjgSeKXv9jAeesP1ixTwLgeXlRuNT4MpaQSRN\noBmtcnWtDAC210laBWwA/gA20jJFsbNDgCIiuqDLj9sREdWlSEZEtEiRjIhokSIZEdEiRTIiokWK\nZEREixTJiIgWKZLRdyTNlPT73utXSnpA0m5JndiyNAZDimT0Hduf0CyJdqOkyQCSbgeuAi6xXXWh\n2xgsmXETfUnSUcA24H6a+eIP0SzKvLJqsBg4uZOMvlQWb1hMMzf5QeD64QVS0q1l64+/JF1cK2f0\nvxTJ6GcfAwcBb9m+b6+fvQKcD6zteaoYKCmS0ZckzaO5g3wLmCPppOE/t73O9rYq4WKgpEhG35E0\nC3iWpvPmTJr1Ae+qmSkGV4pk9BVJM4EXgDXAwrJJ3J3A+RW3SYgBliIZfaP0aK+hWUX6Mtt7Nv1a\nRtPDfXetbDG4OrsyecTeSo/2cSO8/idwQu8Txf9BxknGQJJ0G3ANMAXYDfwKzC6FNmK/pUhGRLRI\nm2RERIsUyYiIFimSEREtUiQjIlqkSEZEtEiRjIhokSIZEdEiRTIiosXfalRH7JIrgb0AAAAASUVO\nRK5CYII=\n",
      "text/plain": [
       "<matplotlib.figure.Figure at 0x28947ad5be0>"
      ]
     },
     "metadata": {},
     "output_type": "display_data"
    }
   ],
   "source": [
    "X = np.array([[1,2,1], [1,1,5], [1,2,5], [1,3,5], [1,1,6], [1,2,6], [1,5,1], [1,6,1], [1,7,1], [1,6,2], [1,7,2], [1,5,5]], dtype=float)\n",
    "y = np.array([1 if ii < 6 else 0 for ii in range(X.shape[0])], dtype=float)\n",
    "fig, ax = plt.subplots(nrows=1, ncols=1, figsize=(5,5))\n",
    "ax.scatter(X[:,1], X[:,2], color=[\"#a76c6e\" if ii < 6 else \"steelblue\" for ii in range(X.shape[0])], s=250)\n",
    "x1vec = np.linspace(0,8,10)\n",
    "ax.plot(x1vec,(-3+x1vec)*4, lw=3, label=\"part B\") # TODO \n",
    "ax.plot([0,8], [0,8], lw=3, label=\"part C\") # TODO \n",
    "ax.plot([0,8], [4,4], lw=3, label=\"part D\") # TODO \n",
    "ax.plot([4,4], [0,8], lw=3, label=\"part E\") # TODO \n",
    "ax.grid(alpha=0.25); ax.set_xlim([0,8]); ax.set_ylim([0,8]); ax.set_xlabel(r\"$x_1$\", fontsize=16); ax.set_ylabel(r\"$x_2$\", fontsize=16)\n",
    "ax.legend(loc=\"upper right\");"
   ]
  },
  {
   "cell_type": "markdown",
   "metadata": {},
   "source": [
    "**Part A**: Suppose you use the the standard Logistic Regression decision rule such that a query point ${\\bf x}$ is predicted to be $\\hat{y} = 1$ if $p(y = 1 \\mid {\\bf x}) \\geq 0.5$ and $\\hat{y} = 0$ otherwise. Describe the decision boundary of such a classifier.  How could you plot the decision boundary in a 2D feature space like the one shown above?  "
   ]
  },
  {
   "cell_type": "markdown",
   "metadata": {
    "collapsed": true
   },
   "source": [
    "The decision boundary would be found by finding at which points $(x_1, x_2)$ cause the $P(y = 1|{\\bf x}) = 0.5$. This gives the equation $\\frac{1}{1+exp({\\bf -\\beta^t x})} = 0.5$ i.e. $\\beta_0 + \\beta_1 x_1 + \\beta_2 x_2 = 0$. To plot this boundary, we could choose some $x_1$ points on the domain and then solve for the associated $x_2$ points using the boundary equation."
   ]
  },
  {
   "cell_type": "markdown",
   "metadata": {},
   "source": [
    "**Part B**: Suppose you learn a Logistic Regression classifier from this training set by minimizing the negative log-likelihood \n",
    "\n",
    "$$\n",
    "NLL(\\boldsymbol{\\beta}) = -\\displaystyle\\sum_{i=1}^n \\left[y_i \\log \\textrm{sigm}(\\boldsymbol{\\beta}^T{\\bf x})       + (1-y_i)\\log(1 - \\textrm{sigm}(\\boldsymbol{\\beta}^T{\\bf x}))\\right]\n",
    "$$\n",
    "\n",
    "Describe a possible decision boundary that you could learn as a result.  Plot the decision boundary on the graph above and label it \"part B\". How many training examples does your learned decision boundary misclassify? "
   ]
  },
  {
   "cell_type": "markdown",
   "metadata": {},
   "source": [
    "I chose the weights $\\beta_0 = -3, \\beta_1 = 1, \\beta_2 = \\frac{1}{4}$. The boundary misclassifies 0 points.    "
   ]
  },
  {
   "cell_type": "markdown",
   "metadata": {},
   "source": [
    "**Part C**: Suppose you learn a Logistic Regression classifier from this training set by minimizing the negative log-likelihood with the parameter $\\beta_0$ so strongly regularized that it approaches zero, and the other parameters unregularized.  \n",
    "\n",
    "$$\n",
    "\\textrm{Loss}(\\boldsymbol{\\beta}) = NLL(\\boldsymbol{\\beta})+ \\lambda \\beta_0^2\n",
    "$$\n",
    "\n",
    "Describe a possible decision boundary that you could learn as a result.  Plot the decision boundary on the graph above and label it \"part C\". How many training examples does your learned decision boundary misclassify? "
   ]
  },
  {
   "cell_type": "markdown",
   "metadata": {
    "collapsed": true
   },
   "source": [
    "If we regularize $\\beta_0$ to 0, we can still use the same $\\beta_1$ and $\\beta_2$. Our boundary still misclassifies one point at (2,1)."
   ]
  },
  {
   "cell_type": "markdown",
   "metadata": {},
   "source": [
    "**Part D**: Suppose you learn a Logistic Regression classifier from this training set by minimizing the negative log-likelihood with the parameter $\\beta_1$ so strongly regularized that it approaches zero, and the other parameters unregularized.  \n",
    "\n",
    "$$\n",
    "\\textrm{Loss}(\\boldsymbol{\\beta}) = NLL(\\boldsymbol{\\beta})+ \\lambda \\beta_1^2\n",
    "$$\n",
    "\n",
    "Describe a possible decision boundary that you could learn as a result.  Plot the decision boundary on the graph above and label it \"part D\". How many training examples does your learned decision boundary misclassify? "
   ]
  },
  {
   "cell_type": "markdown",
   "metadata": {
    "collapsed": true
   },
   "source": [
    "If $\\beta_1$ is regularized to 0, the line becomes a horizontal line. That means a good weight is $\\beta_2 = -\\frac{1}{4}$. Our line will misclassify 2 points at (2,1) and at (5,5)."
   ]
  },
  {
   "cell_type": "markdown",
   "metadata": {},
   "source": [
    "**Part E**: Suppose you learn a Logistic Regression classifier from this training set by minimizing the negative log-likelihood with the parameter $\\beta_2$ so strongly regularized that it approaches zero, and the other parameters unregularized.  \n",
    "\n",
    "$$\n",
    "\\textrm{Loss}(\\boldsymbol{\\beta}) = NLL(\\boldsymbol{\\beta})+ \\lambda \\beta_2^2\n",
    "$$\n",
    "\n",
    "Describe a possible decision boundary that you could learn as a result.  Plot the decision boundary on the graph above and label it \"part E\". How many training examples does your learned decision boundary misclassify? "
   ]
  },
  {
   "cell_type": "markdown",
   "metadata": {
    "collapsed": true
   },
   "source": [
    "Since $\\beta_2$ is regularized to 0 we need to choose new weights. I chose $\\beta_1 = \\frac{1}{2}$ and $\\beta_0 = 0$. This doesn't misclassify any points."
   ]
  },
  {
   "cell_type": "markdown",
   "metadata": {},
   "source": [
    "### [30 points] Problem 3: SGD for Regularized Logistic Regression \n",
    "***\n",
    "\n",
    "In this problem you'll implement a Logistic Regression class that trains a classifier using Stochastic Gradient Descent with $\\ell_2$-Regularization. In Problem 4 you'll use this class to do document classification. Here your job will be to implement the following methods: \n",
    "\n",
    "- `train`: Takes in learning rate, regularization strength, and number of epochs to do, and learns model parameters using SGD \n",
    "- `predict`: Takes in a matrix of examples and predicts binary labels in $\\{0,1\\}$\n",
    "- `accuracy`: Takes in a matrix of examples and true labels, makes predictions, and returns accuracy as value in $[0,1]$ \n",
    "\n",
    "Note that you should assume that all features have been prepended with a $1$ so that each example is the same length as the parameter vector `beta`. \n",
    "\n",
    "There are some optional methods that you may implement if you like which might make your life easier in later problems.  These will not be unit-tested or graded though.  They are \n",
    "\n",
    "- `predict_proba`: Takes in a matrix of examples and estimates $p(y=1 \\mid {\\bf x})$ for each example. \n",
    "- `mean_loss`: Takes in a matrix of examples and true labels and evaluates the negative log-likelihood  \n",
    "\n",
    "Finally, the method `best_text_features` will not be needed until **Problem 4**. \n",
    "\n",
    "The section below the class skeleton contains more details as well as unit tests. Note that the unit tests are based on a subset of the toy data in **Problem 2**.  "
   ]
  },
  {
   "cell_type": "code",
<<<<<<< HEAD
   "execution_count": 102,
=======
   "execution_count": 4,
>>>>>>> 7d8b01f0a8c86c6622d67f1196d3c6bf33aa0805
   "metadata": {
    "collapsed": true
   },
   "outputs": [],
   "source": [
    "class LogReg:\n",
    "    \"\"\"\n",
    "    Class to train a logistic regression classifier on the training data\n",
    "    \"\"\"\n",
    "    \n",
    "    def __init__(self, X_train, y_train, X_valid=None, y_valid=None):\n",
    "        \"\"\"\n",
    "        Initialize classifier \n",
    "        \n",
    "        :param X_train: ndarray of training features (with column of 1s prepended)\n",
    "        :param y_train: ndarray of training labels {0,1}\n",
    "        :param X_valid: ndarray of validation features (with column of 1s prepended)\n",
    "        :param y_valid: ndarray of validation labels {0,1}\n",
    "        \"\"\"\n",
    "        \n",
    "        self.X_train = X_train \n",
    "        self.y_train = y_train \n",
    "        \n",
    "        self.X_valid = X_valid \n",
    "        self.y_valid = y_valid \n",
    "        \n",
    "        # Array of logistic regression weights \n",
    "        self.beta = np.random.randn(self.X_train.shape[1])\n",
    "        \n",
    "        # list for storing loss function histories \n",
    "        self.train_history = [] \n",
    "        self.valid_history = [] \n",
    "        \n",
    "    @staticmethod\n",
    "    def sigmoid(z, threshold=20):\n",
    "        \"\"\"\n",
    "        Evaluate the sigmoid function \n",
    "        :param z: argument of sigmoid function \n",
    "        :param threshold: threshold parameter to prevent over/underflow \n",
    "        \"\"\"\n",
    "        \n",
    "        if np.abs(z) > threshold:\n",
    "            z = np.sign(z) * threshold\n",
    "            \n",
    "        return 1.0 / (1 + np.exp(-z))\n",
    "    \n",
    "    def train(self, eta=0.01, lam=0.0, num_epochs=10):\n",
    "        \"\"\"\n",
    "        train LogReg model using SGD with regularization \n",
    "        \n",
    "        :param eta: the learning rate \n",
    "        :param lam: the regularization strength\n",
    "        :param num_epochs: number of epochs to perform in training \n",
    "        :return : returns nothing, just updates weights\n",
    "        \"\"\"\n",
    "        \n",
    "        ranX = self.X_train;\n",
    "        ranY = self.y_train;\n",
    "        example_num = 0;\n",
    "        for i in range(num_epochs):\n",
    "            ranInd = np.random.permutation(len(self.X_train))\n",
    "            ranX = self.X_train[ranInd]\n",
    "            ranY = self.y_train[ranInd]\n",
    "            for j,x in enumerate(ranX):\n",
    "                z = np.dot(self.beta,x)\n",
    "                sig = self.sigmoid(z)\n",
    "                change = sig-ranY[j]\n",
    "                for k,xk in enumerate(x):\n",
    "                    if( k != 0):\n",
    "                        self.beta[k] -= eta*(change*xk+2*lam*self.beta[k])\n",
    "                    else:\n",
    "                        self.beta[k] -= eta*change*xk\n",
    "                if(example_num%50 == 0):\n",
    "                    self.train_history.append(self.accuracy(X_train,y_train))\n",
    "                    self.valid_history.append(self.accuracy(X_valid,y_valid))\n",
    "                    example_num = 0\n",
    "                example_num += 1\n",
    "        \n",
    "    def predict_proba(self, X):\n",
    "        \"\"\"\n",
    "        predict probability p(y = 1 | x) for each row of X (this function is optional)\n",
    "        \n",
    "        :param X: ndarray of features \n",
    "        :return : ndarray of probabilities \n",
    "        \"\"\"\n",
    "        return np.zeros(X.shape[0])\n",
    "    \n",
    "    def predict(self, X):\n",
    "        \"\"\"\n",
    "        predict binary labels {0,1} for each row of X\n",
    "        \n",
    "        :param X: ndarray of features \n",
    "        :return: ndarray of binary labels {0,1}\n",
    "        \"\"\"\n",
    "        predictions = [];\n",
    "        for i,x in enumerate(X):\n",
    "            prob = self.sigmoid(np.dot(self.beta,x))\n",
    "            if(prob >= 0.5):\n",
    "                predictions.append(1)\n",
    "            else:\n",
    "                predictions.append(0);\n",
    "        return predictions # TODO \n",
    "    \n",
    "    def accuracy(self, X, y):\n",
    "        \"\"\"\n",
    "        report accuracy of prediction\n",
    "        \n",
    "        :param X: ndarray of features \n",
    "        :param y: associated true labels\n",
    "        :return: accuracy as a float in [0.0,1.0]\n",
    "        \"\"\"\n",
    "        yHat = self.predict(X)\n",
    "        correct = 0;\n",
    "        wrong = 0;\n",
    "        for i,p in enumerate(yHat):\n",
    "            if(p == y[i]):\n",
    "                correct += 1\n",
    "            else: \n",
    "                wrong += 1\n",
    "        return correct/(wrong+correct) \n",
    "    \n",
    "    def mean_loss(self, X, y):\n",
    "        \"\"\"\n",
    "        report mean log-likelihood (this function is optional)\n",
    "        \n",
    "        :param X: ndarray of features \n",
    "        :param y: associated true labels\n",
    "        :return: average log-likelihood\n",
    "        \"\"\"\n",
    "        from sklearn.metrics import log_loss\n",
    "        return 0.0\n",
    "    \n",
    "    def best_text_features(self, vocab):\n",
    "        \"\"\"\n",
    "        Print 10 best features for each class \n",
    "        \n",
    "        :param vocab: list of vocab words\n",
    "        :return: returns nothing \n",
    "        \"\"\"\n",
    "        class0 = []\n",
    "        class1 = []\n",
    "        class0betas = np.argsort(self.beta)\n",
    "        class1betas = np.argsort(-1*self.beta)\n",
    "        class0 = class0betas[0:9]\n",
    "        class1 = class1betas[0:9]\n",
    "                \n",
    "        print(\"\\nbest words for class 0\")\n",
    "        print(\"----------------------\")\n",
    "        for ind in class0:\n",
    "            print(vocab[ind])\n",
    "\n",
    "        print(\"\\nbest words for class 1\")\n",
    "        print(\"----------------------\")\n",
    "        for ind in class1:\n",
    "            print(vocab[ind])\n",
    "        \n",
    "        "
   ]
  },
  {
   "cell_type": "markdown",
   "metadata": {},
   "source": [
    "**Part A**: Implement the `train` method so that it performs **unregularized** SGD updates of the model parameters by minimizing the negative log-likelihood loss function discussed in lecture:  \n",
    "\n",
    "$$\n",
    "\\textrm{NLL}({\\bf \\beta}) = -\\displaystyle\\sum_{i=1}^n \\left[y_i \\log \\textrm{sigm}(\\boldsymbol{\\beta}^T{\\bf x})       + (1-y_i)\\log(1 - \\textrm{sigm}(\\boldsymbol{\\beta}^T{\\bf x}))\\right] \n",
    "$$\n",
    "\n",
    "\n",
    "Note that your SGD updates should be vectorized, utilize Numpy routines as much as possible, and not make any assumptions about the number of features. When you think you're done, execute the following code cell to perform three unit tests. "
   ]
  },
  {
   "cell_type": "code",
   "execution_count": 8,
   "metadata": {},
   "outputs": [
    {
     "name": "stderr",
     "output_type": "stream",
     "text": [
      "testPosUnregUpdate (__main__.TestLogReg) ... ok\n",
      "testNegUnregUpdate (__main__.TestLogReg) ... ok\n",
      "testShuffelUnregUpdate (__main__.TestLogReg) ... ok\n",
      "\n",
      "----------------------------------------------------------------------\n",
      "Ran 3 tests in 0.006s\n",
      "\n",
      "OK\n"
     ]
    },
    {
     "data": {
      "text/plain": [
       "<matplotlib.figure.Figure at 0x28947ef5cf8>"
      ]
     },
     "metadata": {},
     "output_type": "display_data"
    }
   ],
   "source": [
    "%run -i tests/new_tests.py \"prob 3A\""
   ]
  },
  {
   "cell_type": "markdown",
   "metadata": {},
   "source": [
    "**Part B**: Update your implementation of the `train` method so that it performs **regularized** SGD updates of the model parameters to minimize the regularized loss function discussed in lecture\n",
    "\n",
    "$$\n",
    "\\textrm{Loss}({\\bf \\beta}) = -\\displaystyle\\sum_{i=1}^n \\left[y_i \\log \\textrm{sigm}(\\boldsymbol{\\beta}^T{\\bf x})       + (1-y_i)\\log(1 - \\textrm{sigm}(\\boldsymbol{\\beta}^T{\\bf x}))\\right] + \\lambda\\displaystyle\\sum_{k=1}^p \\beta_k^2\n",
    "$$\n",
    "\n",
    "Note that you should **NOT** regularize the bias parameter $\\beta_0$. When you think you're done, execute the following code cell to perform two unit tests. "
   ]
  },
  {
   "cell_type": "code",
   "execution_count": 9,
   "metadata": {},
   "outputs": [
    {
     "name": "stderr",
     "output_type": "stream",
     "text": [
      "testPosRegUpdate (__main__.TestLogReg) ... ok\n",
      "testNegRegUpdate (__main__.TestLogReg) ... ok\n",
      "\n",
      "----------------------------------------------------------------------\n",
      "Ran 2 tests in 0.003s\n",
      "\n",
      "OK\n"
     ]
    }
   ],
   "source": [
    "%run -i tests/new_tests.py \"prob 3B\""
   ]
  },
  {
   "cell_type": "markdown",
   "metadata": {},
   "source": [
    "**Part C**: Implement the `predict` function to take a matrix of examples and use the learned parameters to return a vector of predictions of $\\{0,1\\}$ for each example. When you think you're done, execute the following code cell to perform one unit test. \n"
   ]
  },
  {
   "cell_type": "code",
   "execution_count": 11,
   "metadata": {},
   "outputs": [
    {
     "name": "stderr",
     "output_type": "stream",
     "text": [
      "testPredict (__main__.TestLogReg) ... ok\n",
      "\n",
      "----------------------------------------------------------------------\n",
      "Ran 1 test in 0.001s\n",
      "\n",
      "OK\n"
     ]
    }
   ],
   "source": [
    "%run -i tests/new_tests.py \"prob 3C\""
   ]
  },
  {
   "cell_type": "markdown",
   "metadata": {},
   "source": [
    "**Part D**: Implement the `accuracy` method to take a matrix of examples and a vector of true labels, make predictions, and return the accuracy of those predictions as a decimal value in $[0,1]$. Execute the following code cell to perform one final unit tests. \n"
   ]
  },
  {
   "cell_type": "code",
   "execution_count": 10,
   "metadata": {},
   "outputs": [
    {
     "name": "stderr",
     "output_type": "stream",
     "text": [
      "testAccuracy (__main__.TestLogReg) ... ok\n",
      "\n",
      "----------------------------------------------------------------------\n",
      "Ran 1 test in 0.001s\n",
      "\n",
      "OK\n"
     ]
    }
   ],
   "source": [
    "%run -i tests/new_tests.py \"prob 3D\""
   ]
  },
  {
   "cell_type": "markdown",
   "metadata": {},
   "source": [
    "### [25 points] Problem 4: Baseball vs Hockey \n",
    "***\n",
    "\n",
    "In this problem you will train a Logistic Regression classifier to determine if a document is talking about baseball or hockey. The following code cell will load training and validation sets, as well as a list that encodes the map from feature index to particular words.  "
   ]
  },
  {
   "cell_type": "code",
<<<<<<< HEAD
   "execution_count": 59,
   "metadata": {},
   "outputs": [
    {
     "name": "stdout",
     "output_type": "stream",
     "text": [
      "[0 0 3 0 0 0 0 0 0 0 0 0 0 0 0 0 0 0 0 0 1 0 0 0 0 0 0 0 0 1 0 0 0 0 0 0 0\n",
      " 0 7 0 0 0 0 0 0 0 0 0 0 0 0 0 0 0 0 0 0 0 0 0 0 0 0 0 0 0 0 0 0 0 0 0 0 0\n",
      " 0 0 0 0 0 0 0 0 0 0 0 0 0 0 0 1 0 0 0 0 0 0 0 0 0 0 1 0 0 0 0 0 0 1 0 0 0\n",
      " 0 0 0 1 0 0 0 0 0 0 0 0 0 0 0 0 0 0 0 0 0 0 0 0 0 0 0 0 0 0 0 0 0 2 0 0 0\n",
      " 0 0 0 0 0 0 0 0 0 0 0 0 0 0 0 0 0 0 0 0 0 0 0 0 0 0 0 0 0 0 0 0 0 0 0 0 0\n",
      " 0 2 0 0 0 0 0 0 0 0 0 0 0 0 0 0 0 0 0 0 0 0 0 0 0 0 0 0 0 0 0 0 0 0 0 0 0\n",
      " 0 0 0 0 0 0 0 0 0 0 0 0 0 0 0 0 0 0 0 0 0 0 0 0 0 0 0 0 0 0 0 0 0 0 0 0 0\n",
      " 2 0 0 0 0 0 0 0 0 0 0 0 0 0 0 0 0 0 0 0 0 0 0 0 0 0 0 0 0 0 0 0 0 0 0 0 0\n",
      " 0 0 0 0 0 0 0 0 0 0 0 0 0 0 0 0 0 0 0 0 0 0 2 0 0 0 0 0 0 0 0 0 0 0 0 0 0\n",
      " 0 0 0 0 0 0 0 0 0 0 0 0 0 0 0 0 0 0 0 0 0 0 0 0 0 0 0 0 0 0 0 0 0 0 0 0 0\n",
      " 0 0 0 0 0 0 0 0 0 0 0 0 0 0 0 0 0 0 0 0 0 0 0 0 0 0 0 0 0 0 0 0 0 0 0 0 0\n",
      " 0 0 0 0 0 0 0 0 0 0 0 0 0 0 0 0 0 0 0 0 0 0 0 0 0 0 0 0 0 0 0 0 0 0 0 0 1\n",
      " 0 0 1 0 0 0 0 0 0 0 0 0 0 0 0 0 0 0 0 0 0 0 0 0 0 0 0 0 0 0 0 0 0 0 0 0 0\n",
      " 0 0 0 0 0 0 0 0 0 0 0 0 0 0 0 0 0 0]\n"
     ]
    }
   ],
=======
   "execution_count": 5,
   "metadata": {},
   "outputs": [],
>>>>>>> 7d8b01f0a8c86c6622d67f1196d3c6bf33aa0805
   "source": [
    "f = gzip.open(\"data/baseball_hockey.pklz\", 'rb')\n",
    "X_train, y_train, X_valid, y_valid, vocab = pickle.load(f)\n",
    "f.close()"
   ]
  },
  {
   "cell_type": "markdown",
   "metadata": {},
   "source": [
    "**Part A**: Look at the encoded features in `X_train` or `X_valid`.  Which of the text models discussed in class do these features represent? Briefly justify your response. "
   ]
  },
  {
   "cell_type": "markdown",
   "metadata": {
    "collapsed": true
   },
   "source": [
    "The datasets represent a bag-of-words model since it has a vocabulary 'vocab' and the X_train is a sparse matrix of counts. We know it is counts because some of the values aren't 1 or 0, they are positive integers."
   ]
  },
  {
   "cell_type": "markdown",
   "metadata": {},
   "source": [
    "**Part B**: There are two additional files in the data directory called `positive_raw` and `negative_raw`.  These are a subset of the actual documents that were cleaned and featurized to obtain our training and validation data.  The documents in `positive_raw` correspond to examples with true label $y=1$ and the documents in `negative_raw` correspond to examples with true label $y=0$. Inspect some of the documents and decide which label corresponds to documents about baseball and which label corresponds to documents about hockey. "
   ]
  },
  {
   "cell_type": "markdown",
   "metadata": {
    "collapsed": true
   },
   "source": [
    "The positive_raw examples are about hockey, so $y=1$ corresponds to hockey. The negative_raw examples are about baseball so the label $y=0$ corresponds to baseball."
   ]
  },
  {
   "cell_type": "markdown",
   "metadata": {},
   "source": [
    "**Part C**: Use the class you wrote in **Problem 3** to train a logistic regression classifier to predict baseball vs hockey and report accuracy on the training and validation set.  Do you see any signs of overfitting?  \n",
    "\n",
    "**Hint**: You won't need to run very many epochs before convergence on this data. "
   ]
  },
  {
   "cell_type": "code",
   "execution_count": 17,
   "metadata": {},
   "outputs": [
    {
     "name": "stdout",
     "output_type": "stream",
     "text": [
      "validation set accuracy   0.8190954773869347\n",
      "training set accuracy   0.9256474519632414\n"
     ]
    }
   ],
   "source": [
    "\n",
    "classifier = LogReg(X_train,y_train,X_valid,y_valid)\n",
    "classifier.train()\n",
    "predictions = classifier.predict(X_valid)\n",
    "trainaccuracy = classifier.accuracy(X_train,y_train)\n",
    "valaccuracy = classifier.accuracy(X_valid,y_valid)\n",
    "print('validation set accuracy  ', valaccuracy)\n",
    "print('training set accuracy  ', trainaccuracy)"
   ]
  },
  {
   "cell_type": "markdown",
   "metadata": {},
   "source": [
    "The training set has an accuracy of ~93% which is very good, but the validation set accuracy is only ~80% which is much lower. This suggests some mild overfitting since the two accuracies aren't all that close. The performance on the validation set is still good however so there is either not that much noise in the data to overfit to or the model is only overfitting slightly."
   ]
  },
  {
   "cell_type": "markdown",
   "metadata": {},
   "source": [
    "**Part D**: Modify your code so that it periodically records accuracy on the training and validation sets throughout the training process (try recording after every $50$ training examples).  Experiment with the learning rate `eta` and produce plots like we showed in lecture. Which value of `eta` appears to give the best-ish convergence? "
   ]
  },
  {
   "cell_type": "code",
   "execution_count": 38,
<<<<<<< HEAD
   "metadata": {},
=======
   "metadata": {
    "collapsed": true
   },
>>>>>>> 7d8b01f0a8c86c6622d67f1196d3c6bf33aa0805
   "outputs": [],
   "source": [
    "etaArray = [0.001,0.01,0.1,1]\n",
    "train_accuracy = []\n",
    "valid_accuracy = []\n",
    "for eta in etaArray:\n",
    "    classifier = LogReg(X_train,y_train,X_valid,y_valid)\n",
    "    classifier.train(eta = eta)\n",
    "    train_accuracy.append(classifier.train_history)\n",
    "    valid_accuracy.append(classifier.valid_history)\n"
   ]
  },
  {
   "cell_type": "code",
   "execution_count": 40,
   "metadata": {},
   "outputs": [
    {
     "data": {
      "image/png": "iVBORw0KGgoAAAANSUhEUgAAAiQAAAEKCAYAAAAivU6rAAAABHNCSVQICAgIfAhkiAAAAAlwSFlz\nAAALEgAACxIB0t1+/AAAADl0RVh0U29mdHdhcmUAbWF0cGxvdGxpYiB2ZXJzaW9uIDIuMS4wLCBo\ndHRwOi8vbWF0cGxvdGxpYi5vcmcvpW3flQAAIABJREFUeJzsnXl0FGW+979V1fuSpDuddPaN7CSE\nGFYFA4jiwiqIjhKBAZkZx6uD3BEvOne8MNfRwUFHBUZHUMH3uhAUZWBwYV8USYCQhGyE7El30knv\ney3vH500CemERULUqc85nENXP1X1dHel6vv8VoLjOPDw8PDw8PDwDCfkcE+Ah4eHh4eHh4cXJDw8\nPDw8PDzDDi9IeHh4eHh4eIYdXpDw8PDw8PDwDDu8IOHh4eHh4eEZdnhBwsPDw8PDwzPs8IKEh4eH\nh4eHZ9jhBQkPDw8PDw/PsMMLEh4eHh4eHp5hRzDcE7hWNBoNl5CQMNzT4OHh4flJUVxcbOA4Lmy4\n58HDMxA/OUGSkJCAoqKi4Z4GDw8Pz08KgiAahnsOPDyDwbtseHh4eHh4eIYdXpDw8PDw8PDwDDu8\nIOHh4eHh4eEZdn5yMSQ8PDw8PD68Xi+am5vhcrmuOPbrr7/OLikpqR/6WfHwBIQFUEbT9PK8vLz2\nQAOGTJAQBLEVwEwA7RzHZQV4nwDwNwD3AnAAWMJx3Omhmg8PDw/Pz43m5mYolUokJCTAd0sdGIZh\n6KysLMNNmhoPTx9YliU6OjoydTrdOwBmBxozlC6b9wDcPcj79wBI6f63AsDmIZwLDw8Pz88Ol8uF\n0NDQK4oRHp7hhiRJLiwszAygn4HCP2aoTs5x3BEAXYMMmQNgG+fjOwAhBEFEDtV8eHh4eH6O8GKE\n56cCSZIcBtEdwxlDEg2gqdfr5u5tbcMzHZ4fA6yLBmv3Dj6IA7x6O+guFwiSgDBGCUohBAAwNi+8\nzVZwLHcTZguwNi88LTZwNHtTzvdzh+n+HikBCY4DOI4DSRJgGQ6ESgJxhAyU0Hc/87oZMN7A37tA\nSEEg9h3D2GaH0+a7pgiGhcDqAScgwVEEBLYrXGu9EIopsAznn+NwQMUqEfdIxrCdn4dnKBlOQRJI\n1gd8ihAEsQI+tw7i4uKGck48PxDG5oHznAHilBAIw2RXvR9tcKJrRzU8jZYBrgKefyeYQBubrPCe\nu7r93b3+TwFQ/PApAfAt7YYzNdH8IxO+Op2OmjJlShoAGAwGIUmSnFqtpgHg7NmzFRKJ5Ip/zQsW\nLEj4wx/+0JaTk+O+0tjeTJkyJdlqtVLFxcVV1zf74WPDhg2adevWRWu1Wr8i/vjjj2uFQiF37Ngx\n+YoVK4xDdW6Hw0Hcf//9iefPn5ep1Wp6x44dF1NSUjyXj/v444+DV69eHcuyLBYvXtyxbt06PQCU\nl5eLH3rooSSz2Uzl5OTYCwsL68ViMbd7927lM888E1tTUyN99913awsKCkzXOrfhFCTNAGJ7vY4B\n0BpoIMdxbwN4GwDGjBnDP65uEq6qLlgPN4M2OEGpJVAvTANHs2DMAe4bHOCqNsJ+sg2clwWpEEKz\neCRYF91njLPcAFeVEei2YAijFZCkqWA50ATW4gEoAlSQCLiCGZoKFkMUKQfrYeBttoL1+G7UpIiE\nMEYJUnLlS5vjOLjsXtDu/jd5gYiERCHsYw6nvQzcDhoSuRCUwPdYYgnAJRNCES6FWCoc8FwMw8Lc\n7gDtuXQu2svCqLeDdjEQSgRQqMQwG5xgvSwkSiFoN4vmaiNY5sZe8vIgEZQaKWgPA3O7A1KlCPIQ\nMQgAXi8Lk84Or4eFWCqALFgMc4cDLMNBphRBKKFgMTjBXTYlt8MLLqCKuDYkCgE4AG4bDRAASRFg\naQ4iMQm1mALhYsB1n5ykCAhFVMDjeD2M/3sTSSgEhcl8lxRBwCMVgKJZECwHt1wI7ipcHjTNwKxz\nQiihEBQqueL1OVQExd4oaXVjiIiIYCorK88DwNNPPx2lUCiYtWvX6nuPYVkWHMeBogL/VoWFhfXX\nel6dTkdVVVVJxWIxV1NTIwr0QL0ReL1eCIUD/13/EObNm9e1devW3l4C7Nq1S/nJJ5+oh1KQbNiw\nISw8PJzet29f2aZNm9SrVq2K/uKLL+p6j3G73cSqVaviDhw4UBUbG+vNycnJeOCBB0yjRo1yr1y5\nMubpp5/WLV261Pjggw/Gv/nmm6GrVq0ypKSkuN9///26devWRVzv3IZTkHwB4AmCID4CMB6AmeM4\n3l1zBbw6O0AAlEoCd40JHMMCHEB3OUHrHX2MC1SQGIqJkRCoJP5t9mI9LF81QJKugjgpBHSXC7Te\nDhAEBFoZODfjc5s4aDhLOvz7MRYP2jedBXsVJm5SKQRr9aJ949krjmUsXXBV+EKNRInB0CzOvCox\ncTUYdXYYmm0QCEmEJwSBIAgc+agaDeWdAMeBZTmw9MAPe5IiQFK9BEmPmCAAQbfbgPayfouOQDTw\n2pmhuZvmRroiJg/QaLv0un2AlFGTB2hz9H09COkTIpAzPRYEQcBp86K93gLay6Kr1QaLwQWBiMSI\nW8Khv2iGqd0JAKAEBJLztIhOU0GqFEIeLAYA2M1uUAISQjEFm9ENZagEJEnA62ZgMThBkASCw6Wg\nqMDfOUOzMLc7wYFDSLjMLyB5bg5lZWXiefPmJY8dO9Z65swZxd69e2vWrFkTVVpaKnO5XOTcuXO7\nXnnllTYAyMvLS3vjjTcax44d61Sr1aMLCgo69u/fHyyVStk9e/ZciI6Opi8//vbt21UzZswwBQcH\nM9u2bVP1rN4bGxsFS5cujW9qahITBIHNmzc3TJs2zf63v/0tdOPGjVqCIJCdne0oLCysnzNnTuKC\nBQuMPSt5mUyW63A4zuzatUv5l7/8JVKtVtPV1dWS6urq89OmTUvW6/VCt9tNPv744/qnn37aAAAf\nffRR8Nq1a6MYhiE0Go338OHDNUlJSVmnTp2q0Gq1DE3TSEhIyC4uLj6v1WqvKNmff/75mIaGBnF6\nenrmokWLDPPmzTM/+uijCQ6HgyJJknvjjTcap02bZv8hv82ePXtCXnrppWYA+OUvf2l87rnnYi8f\nc/DgQXlycrIzNTXVAwBz5swx7tixIyQzM1N/6tQpxd69e2sBYOnSpZ0vvfRSxKpVqwzp6ekeACDJ\n6/9bG8q03w8BTAGgIQiiGcAfAQgBgOO4vwPYC1/K7wX40n6XDtVcfg7QBifsRTpYDzcDHECIKXDu\nKy9JbUebIYxSgJQLAZaD+4LPimY/qYP9pG7QfQkhiaDpcZBkhqJz23nQHU6AJCBODAq4QqSCRFDc\nFg0qRIyOt8+BMbshjFSA6PVQF6glkI+PBKkQAjQL++l20AYnxPFBkI/VghAGXkVdCx1NVhTvrUft\nmY4rjlWoxAjR9nctWTtdMHc4+1gnKAGJ4HApTPpLlg6SJBASKYO5w9nH+hEIdZQcsiCR/zVJEgiN\nVkChlsDa5YK53QFNrBISuQBdbQ4wHgYZk6J8K/IbBMty6Gq1w2JwgRIQ0MQoYel0wmn1CU2SIhAW\np4QsSASLwQlrlwthsUqIpAJ0ttjgdTEIi1P2E1+UkIRUIeqzLSZNFXgS0/rd//rRI0wAIDhM6v+/\nUEwhNPrKVgJKQEIdJb/iuJ8TCc/uudIQGdCQd63HrX/pvuLrmU9tba3knXfeqcvPz28EgNdee61Z\nq9UyXq8XEyZMSCsuLjbm5eX1UcM2m42aMmWKddOmTS3Lly+P2bhxo+bFF1/sd6PasWNH6Isvvtis\nUqmYgoKCxB5B8thjj8XfcccdljVr1nR4vV5YrVby22+/lb722msR3333XaVWq2X0ev0VbzJnz56V\nl5SUlPdYXj788MM6rVbLWK1WcvTo0RkFBQVGp9NJrFy5Mu7w4cNVqampHr1eTwkEAsybN69ry5Yt\n6jVr1nTs3LkzOCcnxx5IjHz22WfqEydOKHuds+JPf/pT85tvvhn+zTff1AKA1Woljx49Wi2Tybgz\nZ85IFi9enHDu3LnKy4+Vm5ub7nQ6+ymB9evXN82aNcvae5tOpxMmJiZ6AEAikXBSqZQ1GAyURqPx\nz7GxsVEYFRXlX4HExMR4SkpKZK2trYKQkBBaIPBJh4SEBI9Op+v7h/8DGDJBwnHcL67wPgfgt0N1\n/p86HMfBdb4TVJAYzvJOWA91W/YIn1Dg3AyE0QoI1L6HFSkXQhStANG9EuQAuKu64DhngLfF1ufY\nyqmxPiuIzevfDwA8LTYQIhKkVAjW6oF8fASEWt9NXbM0C7ZjLZDlhkMUq8SV0P7uFt90r2DaDr4z\nvs9rr5sBy7AQy/qaSRmaRXuDtXvVzUChkkATowBBdh+fA0ztDlScaEP9OV+pBUpAIjZTDdrD+Ffr\nUSkhyH84zffA67Z0DDRH2sP0cU2QAgIURYJhWL9lhaQIUAISLMOCGcTaQpC+QMsfA0Gh0j6vtYlB\nAccp1ZJBX/PwDEZsbKw7Pz/fb2LbunWrevv27RqapomOjg7huXPnpJcLEolEwi5cuNACAHl5eY6j\nR4/2U591dXXC1tZW0bRp0+wkSYJhGOLMmTOS3Nxc18mTJ5VffPHFRQAQCoVQq9XsV199pZw7d66x\nRxRcjaVi9OjRtt5uoBdffFG7b9++EADQ6/WiiooKcX19vWjixInWHitCz3Eff/xxw/z580esWbOm\n49133w1dvnx5wNovgVw2l+NyuYhly5bFV1RUyCiK4pqamsSBxp05c6afSBkIjuP63fAuvwcONOZq\n9v0h8JVaf4RwHAfzvnrYDjf7Qn85ACQBaaYailujIdDKwNq9EIRJB70Y5LnhCLm/O8aiOxtBECyG\nMCLwylE+duA5CdQShMweEfA9m9EXUyKSUuhqs4PrNhTIg0Vob7Di3MEmKFQSRKeGwKR3oKGs0/+g\nD4tVIC4rFEadAy6bF9Xf60B7WIRGyxGVHILwxCDUnzOgobTT5x65CgRCEiNvj0bunXGQhwT8+726\n4wwQn0BRJC53h5MUCfLHoTd4/k2pf+m+Qd8vKytzZGVlVdyk6UAqlfr/YEtLS8VvvfWWtqioqEKj\n0TBz5sxJdDqd/W5eAoHAr+opiuIYhuk35v3331ebzWYqNjY2GwCsViu1fft2dW5ubivgTy31w3Ec\nEeg+KRAIOJb1TZGmafQ+l0wm8899165dyhMnTiiLi4srFAoFl5eXl+Z0OkmO4wLef9PS0jzBwcH0\n7t27leXl5bJ58+ZZrvBVDci6deu0MTExnl27dtV5PB5CqVTmBhp3LRaSyMhIT11dnSguLo52uVyE\n0+kkQ0ND+4i0+Ph4T2trq9/y0dzcLIqKivJER0d7TSaTgKZpCAQC1NfXi7Ra7Q2L3+EFyY8Q66Em\nnxgh4Y9PCJkzAorxl8q0UPKrC7QiRRTESSFDMEsf9ecM2Pd2mS8Vskc8BcSMmlP6fltNegdqivpW\nESYFBDpb7OhssQOHW/zbVREyRCaHQCwVoKvNDovB2Wc/WZAI0WkqjJwc3cc1wsPDM7yYTCZKLpcz\nKpWKaWhoEB45ciRoxowZ5us5VmFhofqf//xndY/1pbS0VDxr1qyUDRs2tE6YMMGyfv36sDVr1nTQ\nNA2LxULec889loceeihp9erV+h6XjVarZeLj4z1FRUXyxYsXm7Zv365imMCGE5PJRIWEhNAKhYIr\nKiqSlJaWygFg2rRptmeffTa2urpa1OOy6bGSLFmyxLBs2bLEBx98sHOgYN5ABAUFsXa73b+D2Wym\nkpOT3SRJYuPGjaHc5dHk3VyLheTee+81bdmyRZOfn9+4detW1aRJk/oJpqlTp9qXLVsmra6uFsXG\nxno///xz1Y4dO2oFAgHGjBlj2759u2rp0qXGd999N3TmzJnXnE0zELwg+ZHgNThh+rQGdKcTjNkD\nEID6FxkQqMRgrB5IM0Jv6nxoDwOnzYuywy0wt/usrgTli3lwWj2wG91w2rzQ1ZrBshwoIQmW4aCO\nlkMo8tV/MLX7sjPGzUwEJSDRWmMCJSSROSkKUoUQDM2h6rs2mNqd0MQqIBRTiE1XQxUpQ3u9Fa01\nRujrLFBFyDFqWgwUKt5lwMPzU+S2225zpKSkuFJTU0fGxcW58/LybFfeqz/l5eVig8EgnDx5st8V\nlJ2d7RaJROzRo0dlb7/9duOSJUsS3nvvvTCKorBp06b6qVOnOp566indpEmT0imK4kaNGmX/5JNP\nGp566qmOmTNnJmdnZwdNnTrVLBKJAj7tFy5caH7nnXfC0tLSMpOTk12jRo2yA0BsbCz96quvNs6e\nPTuZ4zhotVrvkSNHagCgoKDA9OSTTyasWLFiwFL9l8eQbNq0qeHWW291MAxDpKWlZRYUFBiefvrp\n9gceeGBEYWGhOj8/3zLQHK+FlStXdsyfPz8pLi4uS6VS0Z988slFALhw4YJwxYoV8QcOHLggFou5\n9evXN951112pDMPg0UcfNfSkZb/66qvNDz30UNIf//jH6FGjRjmeeOKJTgD45ptv5I888sgIi8VC\nHTlyJGjdunVR1dXV569lbsRAiuvHypgxY7iioqLhnsYNw6u3w7jrAjyNVqBXAGXQjHgETR2amiuM\nl0XFt204+3UjGJpFYk4YLAYnaC8LZagEDrMHjeWdV3cwAsi9Mw4T5iSBZbk+cRIcy/m8TeTwpEjy\n8PzcqaioQEbG1RVKu9kum39n9u/fL1+zZk30yZMnq4d7Lj82SkpKNDk5OQmB3uMtJMMI52XQ+UGF\nL3uFAGSjw6CYHAPOzUA0QKDhtWLSO2AzuVF+tAVShQiJORoc2Fbhj/sAgNJDzf32I0gCAhGJ2Aw1\nkvPCQRC+lMuORiskcgFUkXIIxRS0CUGQKn3ukctjKAiSCFj9joeHh+fnyurVqyO2b98etm3btovD\nPZefGrwgGUbMXzaA7nBCEC5F+K9zQMp+WAEer4dBV6sdwWFSiGUCHP6/KpQf7Vtrrkd8qKPkGHNv\nAkRSAXS1ZoRGKyCWCtDZagPHAum3RvRL4wSAjFv5dkM8PDw8A/Hyyy/rXn755cFrKvAEhBckNwmO\n4+Cq6IKn2QrllFgwXS7YTrT4YkUWpl2zGOE4DoYmG0JjFPjqnTI0VRhBuxmw3cW3gsOkMHc4QQlI\nqCJliBwRgurvdXA7aGTeFokpj6T7U2bjR16KT4nNVN+4D83Dw8PDw3OV8ILkJsBxHDo/qICrOy6D\nlArhquoCWEA+MRKimCvX9bicox/XoPRQM1SRchjbugv3EUCIVgZLpxPmDl8Gyh1LMpAyRgsAGD09\nFoZmGxJHaS7V7+Dh4eHh4fkRwAuSm4CzzOAXI4Cvn4un3gJCTPUrDDYYHMfh+9116Gyxoa7EF7zd\nI0amLkpH6jgtBCIKtJeBvs4CkiQQmXwp5TdII0WQRhrw2Dw8PDw8PMMJL0iGENbDwHq4GfaTvhY9\nsjFaOIr08NT70r7FicGDumosBieaK43wuGhEp6oglglQtLfe/37CKA0aSg2IGBGMjFsj/VYPgZBC\ndOoAZbt5eHh4eHh+hPAdp4YAxuoBbXLDvOcirPsbwdq8EMUpfZVOe7lKRPGBXTU2oxtfvlOG7X/4\nFgc/qMTxwgv45MVTOLajxj9m0sIU3POrLCxaNxGz/mM074Lh4eG56YwbNy5t586dfVIC165dG75o\n0aJBaxbIZLJcAKivrxfefffdSQMd+8iRI/0bTQFobW0VCASCW9avX6+53rkPJ+PGjUtLSEjISk9P\nz0xPT8/s+Q62b98eUlxcPKQFl44ePSpLTU3NjIuLy1qyZElsT7Xa3rAsiyVLlsTGxcVlpaamZh47\ndsz/O7zxxhuh8fHxWfHx8VlvvPGGPwDxP/7jP6IjIiJG9fy21wMvSG4w7gYLdK8UQbf+FOzf6wAS\nUD+cjrDHRoEUURD2auR2ocmG9549jr2bz6FkfxNqTulRtLcOH//pe1woagdJEhiRG4b4LN9v3uOm\nmTA3CTnTYkFSJII0UgjFfM1yHh6em88DDzzQ+eGHH/aJhN+5c6d60aJFXVezf0JCgnffvn3XnB67\nbds2VU5Ojn3Hjh1DWjHS671yd/PrZdu2bRcrKyvPV1ZWnu/5Dnbt2hVy7ty5IfWrP/744/GbNm1q\nqK+vL7t48aKksLCwX42JHTt2BF+8eFFSX19ftnnz5obHH388DgD0ej318ssvR33//fcVRUVFFS+/\n/HJUR0cHBQBz5841nTx58gfVueEFyQ+AddMw/fMiTHvrwJjdoI0uGLaU+brwMhzAAYqJUZCNCgPR\n3a5eGNXdK4oATn2rg93kRl2JAcd21OCrLeU4+UUdXHYv4jLVWLRuIu7+VTamPJLe57yRI4Jv9kfl\n4eHh6UdBQYFx//79wT19aaqqqkTt7e3Cu+66y2Y2m8mJEyemZmZmZqSmpmZ+8MEH/XpYVFVViVJS\nUkYCgM1mI2bOnJmUmpqaed999yW5XK4Bzb47duxQv/LKK006nU5YV1fn93sXFhYGZWZmZqSlpWVO\nnDgxFQDMZjO5YMGChNTU1MzU1NTM9957LwS4ZKUBgHfffVc1f/78BACYP39+wvLly2PGjx+f+vjj\nj8ccPHhQlpubm56RkZGZm5ubXlJSIgZ8/W9WrFgR03Pc//3f/w3//PPPlXfeeae/6ddnn30WdNdd\ndwVuAnYZX3/9tfybb74Jef7552PS09Mzy8vLxX/96181WVlZGWlpaZkzZswYYbVaf9Azu6GhQWiz\n2cjp06fbSZLEI4880rlr165+/v3PP/885JFHHukkSRJ33HGH3WKxCBoaGoS7du0Kvv322y1arZYJ\nCwtjbr/9dsunn34aDAB33HGHPT4+/gcpOD6G5DphbB50/P0c6O5+KvaTbRAnh4DzMJCkqSAfHwlP\nowXKy6qtiqIVcBTr4RCQoDkgZawWsRkqtNWa4XUxkCpFiElX9cmEUajECE8IQnu9L1A1PP7GFE3j\n4eH5GfHC4AuVLECGQuRd+3HNxQO9FRERweTk5Nh37twZvGjRItP777+vnj17tpEkSchkMnbPnj0X\n1Go129bWJhg/fnz6ww8/bCLJwM/UV155JVwqlbLV1dXnT548Kb3tttsyA427cOGC0GAwCKdOneqY\nPXu28f3331e/8MIL+tbWVsETTzyRcOjQocr09HSPXq+nAODZZ5+NDAoKYnrKmPes6AejtrZWcvz4\n8WqBQICuri7y+++/rxQKhdi1a5fymWeeifnyyy9r//rXv4Y1NDSIy8vLzwuFQuj1eiosLIz53e9+\nF9fa2iqIioqit27dGrpkyZKA5eMfffTRJIlEwgJAfn6+5a233mqePn26aebMmealS5caASA0NJRe\ntWqVAQCefPLJqNdff13z3HPP9Wn+tXv3buXvf//72MuPL5VK2ct73DQ0NAgjIyP9oiE+Pt7T1tbW\nL5Cxra1NmJCQ4G+aFxkZ6WloaBC2tLQIY2Ji/Nujo6M9LS0tP6yAVi94QXKd2L/XgTY4IQiXgVII\n4b5o9mfSKO+IgzguCNJMnzXR46Lx3We1MDTbICaBGJpFnZ0GKSAwcd4IKNUSZNwaNej5kkZr0F5v\ngSZOOWAXWh4enp8HLMei3lwPhUgBqUCKWlMtOHAIEYcgMThxuKfXh4ULF3Z9/PHHqkWLFpk+/fRT\n9TvvvFMPACzLEr/73e9ivvvuOwVJkmhvbxc1NzcL4uLi6EDHOXbsmOLJJ59sB4Dx48c7U1NTHYHG\n9YgeACgoKOhatmxZwgsvvKA/dOiQfNy4cdb09HQPAPQ0ujty5EjQRx995HcLhYWFBe6i14v777/f\nKBD4Ho9dXV3Ugw8+mFhfXy8hCILzer0EABw4cCDo17/+dYdQ6Hse95xv4cKFnf/4xz/Uv/3tbztP\nnz6t+PTTT+sCnWPbtm0Xb7/99oCfsYfi4mLpf//3f0dbrVbKbrdT+fn5/RoSzpo1yzpr1qyr6hkT\nqFVMoI7FA4272v2vF16QXCfOUp/oDb47AaI4JXSvFINz0RBGyiGKvRSs6nHRKHypCEbdpeuuWUQi\nPjsMs/KjoVRfXfxS5m1RaKs1I/O2wYULDw/Pj4tqYzUogkJScNKAN2+WY/FR5Uf4sv5L1Fvq4aSd\ncNI+6ysBAlx3G+27E+7G+vz1gU/0wuDNc4eql80jjzxiev7552OPHTsmc7lc5KRJkxwA8NZbb6k7\nOzsFpaWlFWKxmIuOjs52Op2Duhyu5uG2c+dOtcFgEH766adqAGhvbxeWlpaKOY4b8OEaaHvvbT0u\npx4UCoU/0nP16tXR+fn51q+//rq2qqpKNG3atLRex+33hP7Nb37Ted999yVLJBJu1qxZxh7Bcj2s\nWLEisbCw8MLEiROdr7/+eujhw4f7ZUJci4UkISHB29si0tDQIIqIiOjnZomKivLW19f7S3W3tbWJ\n4uLivDExMd7ec2hpaRHl5+dbr/sDXgYvSK4DutMJb5sdhJiCJEUFQkgiZGYijJ/WQDktrs+FXnG8\nDUadA8HhUkyYMwIeF43EURp//5erRaoUYeZvc270R+Hh4fkBMCwDB+3Ad23f4ZTuFCZHT8bo8NFo\nsDSg3dGOZmsz1hf5BESUPAoToibgcNNhhMnCMDV2KqbETkGZoQx76/aiWN/XMxIuC4fNY4OH9SAl\nJAViSoz4oKuvW3SzCA4OZidMmGBdvnx5wv333+8PZjWbzZRGo/GKxWJu9+7dytbW1kFvepMmTbJ9\n8MEH6lmzZllPnTolqa6u7pdhU1JSInY4HFR7e/u5nm0rV66M2rZtm3rlypUdq1atiq+srBT1uGy0\nWi0zZcoUy4YNG8K3bt3aBPhcNmFhYUxoaKj39OnTkpycHNfnn3+uUigUAS0nFouF6nFTvPXWW/6s\nnunTp1v+/ve/h913333WHpeNVqtlEhISvFqt1vvXv/418l//+tc1NddTKBSMxWLxizaHw0HGxcV5\n3W438dFHH6l7u1t6uBYLSXx8vFcul7P79++XT5061f7//t//C/3tb3/bfvm42bNnmzZt2hT+2GOP\ndR08eFCuVCqZ+Ph479y5c81r166N7nF7HT58OOjVV1/t3wztOuEFyRXgOF9wau+0WmeZzzoiyVD7\ng1XlYyIgu0XbZxzLsDi7vxG38M3kAAAgAElEQVQAcOv9yUgaHXYTZ87DwwMAdq8dZ9vPwsN4MDlm\nMgSk77bXaGnE8dbjIEFiatxUhMvC/fuY3WbIhXIAgIfxQCaUweaxwewxo9XWihpjDQxOA3ZU74DJ\nbfLv92HlhwHnoJao0Wpvxac1nwIAOl2dqOyqxOaSzX3GPDP2GYzRjoFEIEGwOBg0S4PjOAipG+am\nHxIeeuihrsWLF4/48MMP/a6R5cuXd91zzz3JWVlZGSNHjnQkJia6BjvGf/7nf7Y/9NBDiampqZkj\nR450ZGdn2y8f8/7774fee++9xsvObXz44YeT1q9f3/b666/Xz5s3L5llWYSGhnpPnDhR8+c//7lt\n6dKlcSkpKSNJkuTWrFnTunjxYtP//M//tMyZMyc5MjLSm56e7rTb7QGtN6tXr9YtX7488fXXX4+Y\nPHmypWf7ypUrO6qrq8Xp6ekjBQIBt3jx4o41a9Z0dM+pc+PGjYK8vLwBP3PvGBK1Wk2fOHGi+pFH\nHun6zW9+k/D3v/9dW1hYWPvss8+2jhs3LiM6OtqTkZHhsNlsP9hfv2nTpoZly5YlulwuYurUqZYH\nHnjADAB/+ctfwgDgmWee6Vi4cKF5z549wfHx8VlSqZTtccNptVrm97//fWteXl5G99jWHlfVr3/9\n65jPPvtM7XK5SK1WO+qRRx4xbNiwoXWAaQSECOQT+jEzZswYrqio6Kadz/xVPaxHWqD93S0Qdlc5\n1b95Bt5mG0IXZUCaNXAa/PljrTj4QSVCtDI8/MfxfK0QHp4hwEk70WhpBAcObsaNf9b+E52uTuRp\n87Cvbh9KDaVgON/iN1uTDRElgtVjxQXTBbCczzIfLA7GA6kPoMvVhWJ9MRosDZAJfAt0F+PCWO1Y\nnG4/DS/bP4lAKpAiXBaOydGTcaDxAMweMzRSDSJkEagz1+GxUY9hYdpC7G/cj3JDOabGTYXdY8cH\nFR/govkisjXZyNPm4a6Eu6CWXFsvqYqKCmRkZFzV2KFy2fD059FHH43Lzc11rFy5MmBA678zJSUl\nmpycnIRA7/EWkivgLO8EaBbuC0YINVLQRhe8zTYQIhKStIGroVq7XDhe6CtkNubeBF6MDAEsy8Ji\nsSAoKAg9kfssy6KzsxM0fSluTigUIjQ09KqDr1wuFxiGgVwuH3SM0WiEWCyGWq0Gy7I4ffo0LBYL\nJk2aBKvVCo/HM+D+MpkMwcE3Pn3b4/HA7XZDqbz2/kg3AqfTCZZlB/3uBoPjOJhMJgQHB+PybAy7\n3Q6LxbdAtXqt+KbzG3zb9i3KDeUQeAVwUk6g10/8dcPXkHvlCOaCkRSSBJ1bh1JDqf99ASHAXQl3\nodPViVO6U3in9B3/eyJSBAfti/siQOCk7iQIEIiQR0AlViEzNBNSgRT5sfkYHzHef22tHrd6wM92\nZ/yduDP+Tv/rW6Nv7TfG6/Wis7PTHzyoVqshFouv9uvj+REwcuTIDKlUyr711ltNwz2Xnxq8IBkE\njmZBd/huSnS7L8DM765JV4MQBraecSyHA9sq4HExSBilQeo47c2Z8BBC0zRaW1vBML6Vplqt7vdA\n9Xq9aG1tBcdxiIqKgkjU32VM0zRaWlrQUx0wKioKBoMBhw8fBsMwiImJQXx8fB/xwHEcWlpa0NDQ\n0CfKu729HVarFSEhIQgN9WU0dXZ2wmQy4XJCQ0MREtKvDEI/GIZBU5PvPjJ9+nSoVCpUV1dDKBQi\nOTkZAoEARqMRX331FVwunzU2PDwcJElCp/N1HP/222+vqqDSmDFjQNM0ZDIZkpKSQFFXtsZ2dXWh\nurq6j+DqgWVZNDc3w+v1IiIi4rpFwfVC0zSamprAsixiYmKu60FqNBrR1dWF2NhY5Ofno729HTW1\nNajvrAdrYkH0UhwOygGFUIEZnhkQs2K4xC54RV4oRApIKAlsNhuEjm5XRwsQj3jkq/IRnRIN0kXC\nZXFB3iZHQmIC8jryYONsCI4KRpwkDtYWK2wOGwCABQuTy4QgURBkThngBNB9idVU1aAGNbickJAQ\npKWlIVBAo9vtRmVlJazWvrGAPde52+32bxMIBIiJifFfG/Hx8bj99tuv+XvluXmUl5fzVqjrhBck\ng+BtdwDdsdbebmHiLPOl9g7mqik70oLmSiMkCiGmLkq/oWlRQwXDMNizZw9YlkVubi7i433Bczqd\nDsXFxSgrK4PT6fSPJ0kSeXl56OjogNfr9XU07uz030xVKhUWLFiA6Oho/z56vR6FhYXo6Ojwb1Mo\nFKAoCmazL0Ogtrb2muYtEAhgMpn6iBCFQtHnYWy1WtHZ2YnOzs5AhxiQL7/8ss/rkydP9nmtVqvh\ncDjQ3u6LCZNKpZDJZOjs7IRUKkVQ0MD1Ytrb29Hb9XjixIlrmttgCAQCvzi62RAEAYqi0Nz8w+Lc\nmpqa8MEHH/TZxoGDRWgBR3AQMSLIGBlkjM+tIhAIIHFLIHH7stbccEMIISQSiV84m0wmuIwu1H7f\n9xqrrLyUiOCsdUKHwN+dHf1CGgaluHjA8h2DolarIRQKwTAMDAYD6uvr/e9JJENaVZyHZ1jhBckg\neHWXbkB0uxMcy8HT4ls1SVICu2tsRjdOfOa74U15OA2yoGvLpulNa2srZDLZVa3srxe3242Wlha0\nt7fj9OnTAICzZ88iLy8PEokEJ06c8FslNBoNFAoFaJpGc3MzTp061e94Wq0WHo8HRqMRW7ZsQVZW\nFgwGA9LT03H8+HG43W4EBwdDpVLBYrGgq8sXlB8REYH8/HxUVVUFtHAolUqkp6f3WXXLZDJERET0\nWVWKxWJER0f3MfczDOO3HFwN4eHhaGxsxJkzZ8CyLOLi4uB2u/0PeYIgkJmZiTFjxviPTdM0oqKi\nIBQKodPpEBUVNajFo6mpCcePH0dUVBSsVmsfkTYYIpEI6enpA4odtVoNhUKBlpYWvzVrqOE4DkaX\nETRHQ6VRQSPXwGKw+K8bN+PGRfNFNFub+1i4JAIJIuWRaLO3weF1oKSjBDXWGtgENow0jYTcK4eH\n8qBF1oJgeTBWTl2JjMgMECBAERSM7UY4nU4olUpoNJp+vzFFUYiNjUVPPQmv14vq6mpUVFRAoVAg\nKSkJFosFtbW10Gq1cDqd0Ov1oCgKKSkp0Giur00Kx3FoaGgYUJQRBIG4uDjExMT0W6wEBwcjLOxS\n8LvRaOwjpBUKxXXNiYfnpwAf1DoIpr11sB25dFPRrrwF+ldPg1QKEfXchID7fLWlHDWn9EgaHYZ7\nfp193ec2Go144403oFKp8MQTTwyZlWXHjh0oLy/3vx45ciQqKirQu+FSXl4exo4di4iICP+2qqoq\nVFRUICUlxb8ClclkUKvVoGkaX3/9dT+LAgCkpaVh/vz5EIlEcLlc2L59Ozo7O7F06VJotT9919bP\nCZvHBpPbhBhlTMD3DU4DjrUcw6c1n+JM+xn/dgklweSYyWi2NsPFuNBkbQLNBqyF1Q8JJYFMKEOK\nKgV52jwEi4LRYmvBo5mPQivnr4/L4YNaeX5q8EGt10lvCwkAOCt8q3mBJmADStSVdKDmlB6UkMRt\nC5J/0Llramr8AZpfffUVioqK/Cve6OhoTJo0CRcuXMD58+fhdDoRHh6OWbNm9VldAYDFYkFlZaU/\nwFIikSAjIwMqlQoul6uPGImJicGCBQvQ1taG06dPg2VZZGVlISmpfzPOtLQ0pKWlBZy7QCDAPffc\ngxEjRqC+vh4KhQKHDx/2H7/Hry6RSLB8+XJ4vd6A8SY8w0OHowNrv12LIy1HwHIsbgm/BUkhSagx\n1qDV1oogURAezngYfzv9N1g8viBThVABtUQNlmPRbGvG1w1f+49HEiQyQzORrcmGVHCpb5jBaUCN\nsQZJIUnQyrSIVkRj9ojZkAkD/33x8PD8vOEtJAPAeRm0vXwKrM0LYaQc3jY7RLFKeJqskI+LgOr+\nFP9Yh8WDqpM6nPpnHbxuBhPvH4Fb7rr6AkYsy+LkyZOIjY2FUChEdXU16uvrrzme4lqYMWMGpFIp\ndu3ahbCwMOTm5iIrK2vQuIcfAsMwIEnyJxFP83PEw3hAgBiwngXH+VJmT+lO4fnjz6PL1QUBIYCI\nupRtEohRmlG4L+k+zEme46/bUdlViZL2EqSoUhAkCoJWroVSNDxZPz93httCotPpqClTpqQBgMFg\nEJIkyanVahoAzp49WyGRSK74gFmwYEHCH/7wh7acnBz3lcb2ZsqUKclWq5UqLi6uur7ZDx8bNmzQ\nrFu3Llqr1fp9jB9//HGtUCjkjh07Jl+xYoVxsP1/CA6Hg7j//vsTz58/L1Or1fSOHTsupqSk9EsJ\n/Pjjj4NXr14dy7IsFi9e3LFu3To9AKxbty787bffDm9ubhZ3dHSc1Wg01+Qb5i0k1wjHcegqrAFr\n80KgkUKSroa3zQ5Pky8qXqC5tMpzWj0ofKkI1i5fxkXKWC1y77zUUI9hGBw9ehQCgQAjRowImO5Z\nWlqKL7/8EnK5HGKx2B9X0ZuwsDD86le/gsfjwb59+9DQ0ICMjAzk5ORArVZj//79KCkp6eNqAXzW\nitTUVKjVvvoGHR0dKCsrw5dffukXH+PGjcPYsWNvwDc3MFeTQcJz/bAci2Mtx3C0+SgarY3+7XHK\nOFwwXUCRvggkQWJe8jz8atSvoHfoUW2shptxo8xQhmJ9MfQOvX+/8ZHj8edJf4ZEIMHBpoNwep2I\nVEQiVZWKLaVb8FHVR0hTpeEfd/2jn0UjXZ2OdHXfDtU8P08iIiKYysrK8wDw9NNPRykUCmbt2rX6\n3mNYlgXHcQPeAwoLC+uv9bw6nY6qqqqSisVirqamRhTogXoj8Hq9ATOlbgTz5s3r6qke28OuXbuU\nn3zyiXooBcmGDRvCwsPD6X379pVt2rRJvWrVqugvvviiT78dt9tNrFq1Ku7AgQNVsbGx3pycnIwH\nHnjANGrUKPe0adOsDz74oGny5Mk3/I+cFyQB8Dbb4CzpACGiELooA7Spr3AXhPkEidPqwd7NpbB2\nuaCJVWD09Dgkjwn3WwE4jsPu3btx9uxZAMA333wDACgoKMCIESP8Y44fPw7AV2fBbu/rJqIoCgzD\nYOLEiRAIBBAIBLj//vv7zfnee+/Fvffee1WfLzo6Gl9++SUsFgsEAsFVr7B4hheWY1Fvqe8nOi+Y\nLuAfpf9AtbF/leoT8GXvUAQFlmOxs2YndtbsDHh8ASmAXCjHkpFLsHTkUlCk7wEye8TsPuPWjF+D\n+5LuQ6oqlXev8ASkrKxMPG/evOSxY8daz5w5o9i7d2/NmjVrokpLS2Uul4ucO3du1yuvvNIGAHl5\neWlvvPFG49ixY51qtXp0QUFBx/79+4OlUim7Z8+eC9HR0f0CkLZv366aMWOGKTg4mNm2bZuqZ/Xe\n2NgoWLp0aXxTU5OYIAhs3ry5Ydq0afa//e1voRs3btQSBIHs7GxHYWFh/Zw5cxIXLFhgLCgoMAGA\nTCbLdTgcZ3bt2qX8y1/+EqlWq+nq6mpJdXX1+WnTpiXr9Xqh2+0mH3/8cf3TTz9tAICPPvooeO3a\ntVEMwxAajcZ7+PDhmqSkpKxTp05VaLVahqZpJCQkZBcXF5/vqWg6GM8//3xMQ0ODOD09PXPRokWG\nefPmmR999NEEh8NBkSTJvfHGG43Tpk27tnSvy9izZ0/ISy+91AwAv/zlL43PPfdcvz44Bw8elCcn\nJztTU1M9ADBnzhzjjh07QkaNGqW/7bbbnJePv1EMqSAhCOJuAH8DQAF4h+O4ly57Px7AVgBhALoA\nLOI47obVxb9evAbf9y1JV0EYIYcgTApSIQRr81nXBGEyWLtc2PlyEexmD+TBvj4z8pC+dRdKSkpw\n9uxZfw2LigqftVSn0/kFSW1tLdrb2yESifxxHklJSbh48SImTZoEmUwGnU6HUaNG3bDPN3HiRMTE\nxKCrqwvh4eF85P6PGC/jxYeVH0JMifHZhc9Q3lk+4NhwaTgWpC7ASM1IUAQFhmNQ1VUFqUCKuclz\n0WpvxZ+++xOarc0IEgVhpGYkpAIpRoSMwBjtGIwIGQGSGLT3GQBflsjo8NE38mPy3ACy379iEL0M\nxci71uOWLi69rvzl2tpayTvvvFOXn5/fCACvvfZas1arZbxeLyZMmJBWXFxsvLy0us1mo6ZMmWLd\ntGlTy/Lly2M2btyoefHFF/vlYe/YsSP0xRdfbFapVExBQUFijyB57LHH4u+44w7LmjVrOrxeL6xW\nK/ntt99KX3vttYjvvvuuUqvVMnq9/orm2rNnz8pLSkrKeywvH374YZ1Wq2WsVis5evTojIKCAqPT\n6SRWrlwZd/jw4arU1FSPXq+nBAIB5s2b17Vlyxb1mjVrOnbu3Bmck5NjDyRGPvvsM/WJEyeUvc5Z\n8ac//an5zTffDP/mm29qAcBqtZJHjx6tlslk3JkzZySLFy9OOHfuXOXlx8rNzU0P1Lhw/fr1TbNm\nzepT8Ean0wkTExM9ACCRSDipVMoaDAaqt+ulsbFRGBUV5bc6xcTEeEpKSoZ89TFkgoQgCArARgB3\nAmgGcIogiC84juvdBOgVANs4jnufIIhpAP4MoGCo5nS1MN0WEapbYBAUCenIUNhP+v4uBCoJSj+v\nhd3sQXi8Enf/KruPGNm/fz9sNpu/PsXdd9+NvLw8HDlyBAcOHIDDcckn31MD4dZbbwVJknC5XLjz\nzjuh0+kQFhbmT1m80cTGxiI2tp8w5vkR4aJd+P3h3+NQ8yH/thBxCEIloX3GSQVSzEuZh7nJcyGi\n+gYH3x5zqYhWqigV2+7ZNqRz5uHpITY21p2fn++/2W3dulW9fft2DU3TREdHh/DcuXPSywWJRCJh\nFy5caAGAvLw8x9GjR/utlurq6oStra2iadOm2UmSBMMwxJkzZyS5ubmukydPKr/44ouLgK9Cs1qt\nZr/66ivl3LlzjT2i4GosFaNHj7b1dgO9+OKL2n379oUAgF6vF1VUVIjr6+tFEydOtPZYEXqO+/jj\njxvmz58/Ys2aNR3vvvtu6PLlywOWjw/ksrkcl8tFLFu2LL6iokJGURTX1NQUsNrg5V19B4PjuH6B\nfJfH9l3NmKFgKC0k4wBc4DjuIgAQBPERgDkAeguSTAAru/9/EMCuIZzPVcOYuwVJ8KXfXj42AvaT\nOgg0UnDgUNUtTiY9kAKl+lKxIpqmcfToUf9rsViM7GzfykUm8wnM3oKkpypoUlIS4uIuxZ5ERkbe\n6I/F8yOFZmn8q+5fONR0yN9zheM4nDOcg8FpQLA4GBMiJyBMGobfjP4NgkRDE3jM89OmdHHpoO/f\n7LRfqVTq9y2WlpaK33rrLW1RUVGFRqNh5syZk+h0Ovs94QQCgT8IlqIojmGYfmPef/99tdlspmJj\nY7MBwGq1Utu3b1fn5ua2AgBJkn0CaTmOIwI9TAUCAdfj/qRpGr3PJZPJ/HPftWuX8sSJE8ri4uIK\nhULB5eXlpTmdTpLjuIAP6bS0NE9wcDC9e/duZXl5uWzevHmWfoOuknXr1mljYmI8u3btqvN4PIRS\nqcwNNO5aLCSRkZGeuro6UVxcHO1yuQin00mGhob2EWnx8fGe3t2Zm5ubRb0tJkPFUAqSaAC91V8z\ngPGXjSkBMB8+t848AEqCIEI5jru2kpo3mB4LiaCXIBHFKBH+xGhYHTS+/awWDrMHwWFSRIzoG6Bq\nNPaNRcrOzvantPYIkp6Kpy6XC3q9HiRJ8gLk34gLxgvYW7cXVcYqRMmjcLz1OJqsgRdKGeoMrLtt\nHdLUgVOseXh+CphMJkoulzMqlYppaGgQHjlyJGjGjBnm6zlWYWGh+p///Gd1j/WltLRUPGvWrJQN\nGza0TpgwwbJ+/fqwNWvWdNA0DYvFQt5zzz2Whx56KGn16tX6HpeNVqtl4uPjPUVFRfLFixebtm/f\nrhqokKDJZKJCQkJohULBFRUVSUpLS+UAMG3aNNuzzz4bW11dLepx2fRYSZYsWWJYtmxZ4oMPPth5\nLQH9QUFBrN1u9+9gNpup5ORkN0mS2LhxY+hAWbHXYiG59957TVu2bNHk5+c3bt26VTVp0qR+gmnq\n1Kn2ZcuWSaurq0WxsbHezz//XLVjx46hS/vsZigFSSD7zuXf5n8CeJMgiCUAjgBoAdAvgIkgiBUA\nVgDoY0UYKvwWkstiQqwEgZ0bz8Hr9l246RMj+ink3oJEIpFg/PhLGkwq9QXD9lhIWlpaAMBf4ZPn\n50WbrQ1F+iI0Whth99pRZijzd5m9nDhlHBZlLkKY9FIdGbVEjdzwXD5Vmucnz2233eZISUlxpaam\njoyLi3Pn5eXZruc45eXlYoPBIJw8ebLfzJydne0WiUTs0aNHZW+//XbjkiVLEt57770wiqKwadOm\n+qlTpzqeeuop3aRJk9IpiuJGjRpl/+STTxqeeuqpjpkzZyZnZ2cHTZ061SwSiQI+7RcuXGh+5513\nwtLS0jKTk5Ndo0aNsgNAbGws/eqrrzbOnj07meM4aLVa75EjR2oAoKCgwPTkk08mrFixYsBuv5fH\nkGzatKnh1ltvdTAMQ6SlpWUWFBQYnn766fYHHnhgRGFhoTo/P98y0ByvhZUrV3bMnz8/KS4uLkul\nUtGffPLJRQC4cOGCcMWKFfEHDhy4IBaLufXr1zfeddddqQzD4NFHHzX0pGW/8MIL2s2bN2s7OzuF\nmZmZI6dPn27+v//7v4YfOi9gCOuQEAQxEcALHMfN6H79XwDAcdyfBxivAFDJcVzgspDd3Iw6JK1r\nvwXroBH53HhQSp91g/Yw+HDtSVgMLkSnhiAyOQS5d8VBJOmr6b777jvs27cPY8aMwX333dfnYaLX\n67F582ZoNBo88cQTOHToEA4dOoSJEydixowZQ/qZeK6OBksD2uxtaLW1osZY429P34PNa0OZoQwO\n2oH4oHjcFX8Xqo3VKOkogUKoQHJIMmxeG07rT6PV3hrwHCJShNnJszEuYhyarE2IU8Zhevx0CEg+\n6Y3n2hjuOiQ8gdm/f798zZo10SdPnuyf+vZvznDVITkFIIUgiET4LB8PAXi49wCCIDQAujiOYwH8\nF3wZN8OG5VATnGc7wDpogCJAyi9ZLRrPd8FicEEVIcPMJ3IgEAU2w/VYSFQqVb+V7eUxJHV1vtRv\nPrh0+HEzbmw+uxlbyrZc9T46uw4n2/qWxy/SXxLLSpESeeF5SFWnQkJJkBGaAY1UgwhZBEIkQ9ef\niIeHZ/hYvXp1xPbt28O2bdt2cbjn8lNjyAQJx3E0QRBPAPgSvrTfrRzHlRMEsRZAEcdxXwCYAuDP\nBEFw8LlsfjtU87kaLPvq/f+ngsUgSMLfKK6hzCc0UsdpBxQjAPxFzVSq/s33elw2TqcTOp0ODQ0N\nEAqFSExMvIGfgqc3HMfhpO4kdtfuxqwRszAhcgKsHiu+qP0Cp3SncFp/Ghw4UASFTlcnSIJEbngu\nQiWhGKkZCTHV120nIATIDM2ESqLCl/VforyzHJmhmcgNz4XJbYLOroOIEiFbk42UkBR/LQ8eHp5/\nD15++WXdyy+/PDzttn/iDKmNmOO4vQD2Xrbtv3v9vxBA4VDO4Wrh6L6m+Z4Mmw8++ACNjY3QevIA\nyBGfNXgH0B4LSU9l1N4IBAJ/vZGDBw8CAHJzc/1ChefGwrAM/njij/i89nMAwN66vVg6cin21u1F\ni62l3/g0VRr+a/x/IU97daUalmUvu6Hz5RkYjmXRWl0Ji6EdYrkccSNzIBig/5GhsR7lRw6gsbQE\nHDikTZyMsbPvB/kTE4f6ixfQ1doMeYgaMZkjf3Lz5+G5VnindTd0Z9/icz3elsZGXxlui7cN4cGZ\n0MQOXESMZdk+LptAyGQyeDweVFVVgSAITJgQuGswz7VhcpngpJ2IkEeA5mh8XPkx/lX/L5zrOAep\nQIqxEWNxpPkI/lH6DwC+7JVfpP8CY7RjAABmjxkjQ0f+6AJI3Q47Lp4+BZfdhsgRqYhITh3uKQWE\nY1nUFn8Pa9elGD5KIEDymAmQBV9yTzG0F42lJSBIEnFZOSC7MxBYhsF3n36EmpMnkHTLWKSMvw3n\nvvkXjG2tyMyfhu8/2wGTvs1/HKFECom8/98iyzKwG/u2Xuiov4jiPbsgDw5BTGYWWqoq4LJaoVCp\nMWLMeEgUCsRkZCE0Jg5GXSvOHzmIi6e/R0h4BKIzsmDStaKxrASjpt+D0JhYdLVeqt3IMQwaykrg\nMJuQOHoMpEFB4FgOLRVlaKut9ofxh8UnID57NAiKgsfhQG3RSdiMXZAolUgeMwHSXj2kxFIZXHYb\nDr73tn+bXKVGxqQpyLx9GsLiEq7vR+Lh+ZHDC5JuaEOf+jwgLgtWJTgKCVmhgz6wrFYrGIbx96QJ\nhFQqhclkAgCEh4cHtKTw9OVQ0yG0O9qxIHVBn0qibsaNo81HcaT5CHZf3A2apREhj4BMIMNFs899\nqxAqsPGOjcgNz8Weuj2o7qqGVq7FwtSFfRrNxeL643hYlkHViaMIiYhEZPIPS8/lOA6VJ47g3Nf/\nQnt9LbxuN7juWgkEQWLaL38NcBzCE0fAbupCZ7MvXdjjcqLu9ClQQiESR+dBJJUhLisHJr0OLO1F\naGw8WqsroU0cgYjkVNhNRtR8fwLx2aMRoo3sPj4BguxfqZVjWVR9exQmfXdhQKEQmrgEfFv4IToa\n6yGRK6BQqdF2oX+Ps+Mff4BgbQQMjb4gfJb2gqF9iXSy4BDEZ49GS9V5OMxm0B5fdpuhqQHff37J\ncNpcUQYAUIaGISo1HV1tLeiovwivK3AFa7FcjvRbb0fqhMlwO2zYv2Uz7CYjnBYzDE2XkgGsnR19\n5iwUS+B1X7oPtNfVovrkcf/rg++9FfhH60Z3YeD4RWtnBy6ePhVwe0f9wKEGI8aMR2dzI0y6NhTt\n/hS62mo8+MeXBhzPw/NThhck3dDd5eLFKSEgRRSC702Ey3Xp5kRSFG65O2HQY7S2+rIqBhMZPYGt\nAKDVan/AjAenubIcxuQo9tYAACAASURBVLYWZE250y+iWirPQ1dbg1HTZ4AgKVACwQ23CLAMA5Ki\nwDIMiKvo7stxHFw2K0hKALFMhipDJb5q+AqNtiYIOBLxqkRsOrsJHDh82/otSILE2fazEAvEcNJO\nWCydIDgCjJCDUqQE22SEotOJpOQIPHb7U5gUNckfQDozaSa4BBYsy4AaoOttD4bGelw49R0Sc8cg\nPHGE/3OwLAO3w4FP//xH2IxdGHHLWHQ2N/kemgSBsbPuR/YdMyCWyf3HEkllEPRK6778M3McB6fV\nAquhAyc/+wQ135/oM5fYzGxIFErUfH8C+7dsuuJvoL/YP624N1FpmXBazDC29XVbiaRSRKePRNuF\naijVoRAIRehqa0ZQaBg6GusHPJ7X5YS1swMShRJpEycB3aKxo/4iWqsr4DCb+ozXxMaDYRgYW5tR\nceyQf7tSE4ZbH3gErdUVfoEXFpeIqm+PYszMuZi44GG/RcVuMoKhvQiEPEQFSnDp+066ZSzsJiO6\nWlvQfL4MkSlpCItLQNuFajRXlPmsUMXfw+2wQyiWIGX8rUibOBmdLU0wt+shlskQpAnDsY+2QyyX\nIz7LZ+noQR0VjSBNOJrKz6GnlkVwWDiS8sZBKBaDoWnUny1GZ4vPskIQBGIyRiIyOQ0djfVoLD2L\n3jUwTLpWNJWfw8T5v8CE+Q+B4zi01VTi/JEDiMnIGvB34OH5/+ydd1hT59//3yc7IWGEEfZQ9hAR\niwsF0do6cK+KFP1ifVrb2rp9aGtb7U9rHW19Wqut1Sq12gqKq7VuRVEUXIgIigzZOztknd8fIZGl\n4sDx9byuy6vknPvc9x0act7nM192Oi3tt7PorLTf+t23IL9QActRXcHv4wjA0HNmw4YNAICuTgGI\nfWdCm+suXLiA8vJyCIVCFBYWIj8/H6+//jr69evX7jrJycnIyjJUVBwyZAj69u371N+LWqXEL7Om\nQyWXof+UaVDJZRBXVSLv/BmAJMG3toFS3AC7Lp6ImvY/YPN4aJTLkX/pAmzdPODd697eNU1PrUxW\n+xYfrVqNS//sA19ojfryUmQeSEHY6Am4cfo49Hodhr4/D04+fmhUKMBgMU03CoW4AeKqShzfsgEV\n+bcAAOZuzqgpLYaaqUeZtRJeJXzUWqhx20mOSptGcJQ0ONZyUC/QgKWhwbPUDDZiw77MbG3AoDEg\nbnqKZ3I48O4VDoJGA5PNhmtgMMpv5yIn9SQaFXL0nRADhaQBFrYiOPsHmgSHTqvF7QvncH7Pn9Bp\nDDc8a2dXOHj5oKa4EBX5t8AVmEMpbVlLiG1mhkaFAmjn74nF5SHy7Rmw7+qF/Ix03Eg9jvpyg3j1\n6TsAdSXFLW74LC4X/d+aBu8+4WByOGCy2CBJEqe3b0H2qWNw8vFHZcFtcPgCuAV1NwlLR28/aDVq\nVN7Jh0Jcj4LLGRBY24LOZKKurASO3n4ozb0BpcRQj0pgbQu1SgF1U6E+slXTvuZw+AIERQ0BjU6H\nrK4W+ZcuomuPMAyImQZxVSVKcq7Dt18EBNb3Yqz0eh2yTx0Dg8mCe3CPpn3SwORwQJIkKvNvoSTn\nOhy8/WDr6gYmm2Oy0JB6PUAQIAgCer2u0+Mn9DodtOpG0Jks0O/TrkGv14EgHi6ynwakXt+utao1\nzzvtNywszGfRokXl48aNM/1BLF261C4vL4/z+++/F9/vOmMju8LCQua7777rcujQoTZmorCwMJ/V\nq1ffHTBggKL1ubKyMoarq2u3FStWFC9YsOC+tT5eVMLCwnyqqqqYHA5HDwDu7u6qQ4cO3UlMTLT0\n9/dXtS6p/zRJTU3lxcfHu6tUKlpUVJR48+bNd2mtPmt6vR7/+c9/XI4fP27B4XD0mzdvLgwPD1cA\nQP/+/b2uXLli1rNnT9mJEyce/PTTDs8r7felQlNt+FJmWN8LMC0vqTb9zLVq++VQUlKCv/9uEbML\ngiAQHBx833WaB7A+DQuJrL4OLC4XLA4X8oZ6pKf8BWlNDVRyQ92h1D9+a7458K1tIKs1/P2W593E\n9oQ5LSckCAyfvQC+fQdA06jC1vnvQ15fD8+wPggYEAW34B6mL2R5Qz2SV3zexuR89s9E0887lyyA\n0Mngd+fwzODTdwBAELh6+KBpDJ3FAqnXQVJUAhZoYGlp8C4x1AuyEbNNoqM96EwWaHQ65NWG98S3\nEsLKwQl3b2Qh+9RR07jLh/a3uO7ktl8e9GsFALh1C0FV4R3UlhSjtuTed6tSKoHA2haD4t9DfVkJ\n6EwmvHuHo6GiHJcO7UfJjax7HXn1eqjkMhzeuK7F3Ew2BzqtBrlpp02vOXwBuoSGoeeIMbAU2bcY\nTxAEIqb+BxFT//PQfXuF3V/kKqUSHN+yEdLaaoz4eDH4VveseXVlJSi9eQMOnt5oqKo0uXpKb2bD\nI6QnBML2A7p5FpZw8GrrqqLR6AgaOKTdawiCgL3n/WNimt+Mn0UwJ41OB4v74N5hzzKotCNi5EVg\nwoQJtTt27BA2FyTJycnClStXdqhJqru7u6Y9MfIwtm3bZhUcHCzftWuXdWcKEo1G02lFK7dt23an\ntdhKSUmx1Gq14s4UJLNmzXJbv359UVRUlDwyMtIrKSnJ3Ng/yMiuXbss7ty5wyksLLx+4sQJs1mz\nZrkam/rNnz+/Qi6X03755Rfb9ld4fChB0oQxqJVhc08wFNy4Z9JubPIty2QyXLp0CeXl5aioMDyN\ne3t7Iy/P4D/29PR8YPfcJxUkkuoq1JWVwNxWBLVSgZ1LFoCg0eHXPxLiygoUX79qGmvl4IT68lI4\n+frDf8Ag2Hf1gpW9IwquZEDo6IyL+3ejLM/wwETQ6LCwtUPh1Uv454c1kFRXgclmQ1xVCQC4efYU\nbp49hfDJb6PXmIkAgNQ/tqK68A7MbUVQySRQK5Xo2rMX8jPSIXRygUdIT1w9/DfqSu+CoNGgkstw\n9YhBwNHodAhsbHGLX40jXW4DBAH7WjbcnH3wFjEI5bk30XdiDOQN9chJPYG6shIw2Ry4BgajuugO\nGGwO/PsPRJfQMNAZDJTmGLrgOvkFgCBoKMq6Akm1obmhtKYKRdeuwMbVDf4DolBXVoqrR/6Gk68/\n6kpLIK5qmaFn6+qBboPegHv3UOi0WhRnXYG0rhZcgQBOvgEoy82BfVcv8IXWQGiY6TozSys4+fq3\nmIskSWSfPIrMv/dCp1FD1MULAQOi4BrUHfUVZTjx28+wtHdERMx0MDkcdDZcgTmGz17Q7jmhozOE\njoa6hDbNAietnag6ORTtExsbW798+XInpVJJcLlcMjc3l1VVVcUcMmSITCwW0958801PsVhM12q1\nxJIlS8qmTp3awn+Xm5vLGjFihNetW7eyZTIZMXnyZI+8vDyOl5eXSqVS3dcUtWvXLuHq1avvxsXF\ndSkoKGB6eHhoACApKcl8yZIlTjqdjhAKhdpz587licViWnx8vOu1a9d4AJCQkFA2bdq0BqOVBgC2\nbNlideDAAYvk5OTCcePGuVtZWWmzsrJ43bp1U0yZMqVu7ty5riqVisbhcPS//fZbQXBwcKNWq8Ws\nWbOcT548aQ4AcXFxNYGBgcoffvjB7siRI/kAsGfPHvOffvrJ9vDhww8tu37kyBGzo0ePWp4/f16w\ncuVKh+Tk5PxDhw4JtmzZYqvRaAh3d/fGpKSkAoFAcH9T5kMoKipiymQy2uDBg+UAEBMTU5uSkmLV\nWpDs3bvXMiYmppZGo2HQoEFyiUTCKCoqYrq5uWlGjRolPXDggKD9FZ4MSpAAUJfKoJeoATphKhdf\nfrsBdwsqTWOM/Wd+//13kxAxMmLECNTX1yM1NRWDBw9+8Frqe/2JHiRcjEhqqlB+yxB4V1dagvO7\n/4ReZwgKFNjYNgUIapF17F8AhuwDbWMjbFxcMWX5t6gquA37rt4m3zsAePcOBwAMfX9ui7VIkkTa\nX7/j/O4/kfrHbyCaYgEGTpsJpVSC88k7kb7nL9h7ekNcVYHs08dAozMw4dOvwORwoBA3wMbVHVUF\n+bBydAKLw0WfcW+h8s5t2Ll3gbS2GjdST6CmuBC9x7+FNWW/4EiRsbAYibDwYVgUtghcRss0aN++\nA/AwXAK6tXjt3q1lD6p+k+41kXb2C0S3QR2rjEtnMOAR0rPFMc/XOp4ZRRAEAge+jsCBr7c5Z+3k\ngvGfLOvwXBQUDyLH98GuGzrAywE6ltPeDL+bOZn3O2dvb68LDg6WJycnW0ydOrVh69atwpEjR9bT\naDTweDz9wYMHbwuFQn15eTmjV69evlOmTGlo7R4wsnr1ajsul6vPy8u7kZ6ezu3Xr59/e+Nu377N\nrKmpYQ4cOFAxcuTI+q1btwq/+OKLyrKyMsYHH3zgfvLkyZu+vr7qyspKOgAsXrzYwdzcXJeXl3cD\nAKqrqx9q6srPz+ecPXs2j8FgoK6ujnbhwoWbTCYTKSkpgoULFzr/+++/+WvWrLEtKipiZ2dn32Ay\nmaisrKTb2trqPv74Y9eysjKGo6OjdvPmzdbTpk1r14Lz9ttvdzG6bCIiIiQbN24sGTx4cMOIESPE\n06dPrwcAa2tr7bx582oAYPbs2Y7r1q2z+eSTT6qaz7N//37BggUL2jw1cLlcfeseN0VFRUwHBwdT\n8JWbm5u6vLy8jQmovLyc6e7ubrpZOTg4qI2C5GG/uyfhlRckeoUGtdsMDYjNeopA0AjUlMiwe/Ul\nyC2lQNNDq1KphFarRWWlQaSEhITg8uXLCAsLg7m5OczNzeHm5vbQ9ToiQoyoZDLs+HQ+ZK3SGB08\nfVB+OxfSGkMg4ZhFS3Ds1w2oLi7A0Flz4ODlAyaHAwaTCUfvjvmXAcPNs9+kWDh4+eKf9d9CJZXA\nwk6E7m8MB41GR3VRIfIzziPpq09N1wS/PhSW9oYsDTNLQ6qzqIun6Tybx4NroEEscPh8+NmaIb08\nHWvvbsKRoiPgM/n4fdjvsDezhxnTDBQUFC8XEydOrPvzzz+tpk6d2rB7927hpk2bCgFAr9cTH3/8\nsfP58+f5NBoNVVVVrJKSEoarq2ubfmUAcObMGf7s2bOrAKBXr15Kb2/vNrEjgKHb78iRI+sBIDY2\nti4+Pt79iy++qDx58qRZWFiY1NfXVw0AxkZ3p0+fNt+5c6fJLWRra9t+F71mjB07tp7RFEtUV1dH\nnzRpkkdhYSGHIAhSo9EQAHD8+HHzd999t9ro0jGuN3HixNpffvlF+P7779deunSJv3v37oL21mjP\nZdOazMxM7pIlS5ykUildLpfTIyIi2jQkjI6OlkZHR9942HsCDA+drWkvJqqj4542r7wgUd1ugE7c\nCKa9GSyjuwIAaksM3ZppXI2pjoBSqUR9fT1IkoSlpSVGjRqFwYMHP3JRs9deew1SqRRBQUEP3pdM\nhiM//x9k9XWwcnCErVsX0Oh0+IVHokuP15C2azvOJe1A+ORYOHr7IWbFWqik0hY1Hx6XLj1ew9vf\nrMOlv/fBp3e4yXfef0oc7mZfA53BgLNfILgCc/SdGNOhOfWkHv93+f+wNXsrNHqDyOYxePhh0A/o\natn1ifdMQfGq43fzwfGqndXLJiYmpuHTTz91OXPmDE+lUtGMwY8bN24U1tbWMrKysnLYbDbp5OQU\npFQqHxgc05GbXnJysrCmpoa5e/duIQBUVVUxs7Ky2CRJ3vfm2t7x5seUSmWLAXw+3+QWWbRokVNE\nRIT0yJEj+bm5uayoqCifZvO2uXO/9957tcOHD/fkcDhkdHR0/ZPEoMycOdMjKSnpdp8+fZTr1q2z\nPnXqVBtXyaNYSNzd3TXNLSJFRUUse3v7NlYPR0dHTWFhoanyYHl5OcvV1bVTrSMAJUhANnXuZTrx\nQTAMfyvippokOpoKaNLSSqUSNTUGy5uNjSG4z8zs0Z/oWSwW3nzzTQBAbcldlOXlwC88EgwWy5Ae\nePUSbpw+jvzMdOg0GjDYbIxZ/AWs7B1bzNN3QgxCh482pZfSaPSnIkaMCIQ2bQIorZ1c8O6GbaAx\nGPfNRGiNRq9Bdk02dubuxME7B0GAQH+n/qZaIH7WHbfgUFBQvHhYWFjoe/fuLZ0xY4b72LFjTeZc\nsVhMt7Gx0bDZbHL//v2CsrKy9kvrNhEeHi77/fffhdHR0dKLFy9y8vLy2kQZX716la1QKOhVVVXX\njMfmzJnjuG3bNuGcOXOq582b53bz5k2W0WUjEol0kZGRkrVr19pt3rz5LmBw2dja2uqsra01ly5d\n4gQHB6v27t1rxefz27WcSCQSurOzsxoANm7caIrsHjx4sGTDhg22w4cPlxpdNiKRSOfu7q4RiUSa\nNWvWOPzzzz+P1FyPz+frJBKJSbQpFAqaq6urprGxkdi5c6ewubvFyKNYSNzc3DRmZmb6Y8eOmQ0c\nOFC+fft26/fff7+q9biRI0c2rF+/3u6dd96pO3HihJlAINB1trsGoAQJSLXhM0gw7wl3SY0SOloj\nNLpGsNls6PV6aDQaU50Ra2vrJ19Xr0fKqqWGgkcH9sDB0xt3LmeYUjJBEHAN6o7eYya2ESNGmte6\neFZ0NPCyUdeI7y99j6S8JCi1hvgbDp2D76O+R1/Hp5/qTEFB8fyYPHlyXVxcXNcdO3aYXCMzZsyo\nGzp0qGdgYKBfQECAwsPD44GZI/Pnz6+aPHmyh7e3t39AQIAiKChI3nrM1q1brYcNG1bfau36KVOm\ndFm1alX5unXrCseMGeOp1+thbW2tSUtLu7VixYry6dOnu3p5eQXQaDQyISGhLC4uruHLL78sHTVq\nlKeDg4PG19dXKZfL27XeLFq0qGLGjBke69ats+/fv78p+HPOnDnVeXl5bF9f3wAGg0HGxcVVJyQk\nVDftqfbHH39kPChbpnkMiVAo1KalpeXFxMTUvffee+4bNmwQJSUl5S9evLgsLCzMz8nJSe3n56eQ\nyWRPnOq1fv36ovj4eA+VSkUMHDhQMmHCBDEAfPPNN7YAsHDhwuqJEyeKDx48aOHm5hbI5XL1Rjcc\nAISGhvrcuXOHo1Qq6SKRqNv69esLm2dZPQmvfB0S6am7EP9TCP4AJ1gO6wIA2L06E4V38yGxugEP\nDw/U1dVBLBbD3d0dhYWFGD58OF577bUHzns3+xpyz6WiS48weHQPhVajhqaxETxzCwBA8fVr2LUs\noc11QicXBEQMgl94ZIuaDi8TBeICLDi1ALn1hmBcDwsPhIpCMd57PAKsA57z7igo/nt43nVIKNrn\n7bffdg0JCVHMmTPnpauR0tlQdUgegF7dVJab0dxCooKWaYgjcXJyglKphFgsRkmJIbX+QRaShopy\nlN/OxeEN66DVqHH1yD/w7tUP1cWFkDfUYfKX3yDz773IPmmokdFj2CjYuXeBVq2GqIsnRF08X7h+\nKu0hbhQjozIDfRz6ILs2GwKWAD5WPtibvxfL05dDqVXCVeCKbwZ8gwAbSoRQUFC8GgQEBPhxuVz9\nxo0b7z7vvbxsvPKCxNjll2AZLGFajQ7yhkZohPcESWmpoR6JtqkHx/0EyfWTR/HvT9+ZXrt1C0FZ\n3s0W/TD++vJ/TUXLQBDoMXQkLOw6r4R8Z0CSJD468REyKzPBoDGg1Rt+L1ZsK9Q3Gqypw7sMx2e9\nP6MyZygoKF4psrOzKSvUY0IJEmMMSZOFRFqrAgkSOqZBNDg5OYHTLG6CyWTCvKkzp16nw6H136JR\nIYe5rR2uHvkHAODo7Qdn/0D0mzgVd29kIWXlUnDMzSGrNVRQJQga/MIjYOfR9aUSI2qdGvvz9+N2\nw21kVmaCRtCg1Wthx7ODXCNHfWM9hBwh5oTOwaiuo14KSw8FBQUFxYsBJUg0RgtJU4ZNtRI6hgJ6\nQgs+nw9zc/MWqb1cGvDnF4sQNf1dVOTntWgOBgC9x05qUYTLLag73lm/BSwuD8nLP0PJjesIjHod\nQ2Z+2Plv7ikhbhTjePFx7Li5Azl198T/kt5L0M+pH6w51mjUNaJWVQsXgUuLjrwUFBQUFBQdgRIk\nRpcN0+CyaahSQCYwVPn19DQU+GpuIVHn30SptB5/fDIX9Kb88uDXh4LDF8CzZ+92e3MYA1mH/M9s\nZJ88ip7RYzvvDT0l1Do1lFolLlZcxPL05ahWGvr6OPGd4G/tD2uONUZ7jga9qUYJk84En9Xxom8U\nFBQUFBTNoQRJs6DW6mIpjh85CQ2nAWwmx1QGvnm5d4a0Hi4B3QytxrVaiLp4YdB/3utQMywre0eE\nT367c97IY6In9ZBpZDBnmUOhUYBBY2DD1Q3Ycn0LtOS9gordbLphWJdhGNl1JASsTmljQEFBQUHx\nCkMJEu09l82+7Scg4RjS6EeNGmUq8/5az564lnERtLv58HqtN0bO+wSS6koUXr0Mj5CeL01nzuZo\n9VqsyViDvfl7IVVLYce1Q7WyGnQaHVq9FgQIcBlcdLXoiiHuQxDrHwsG7ZX/uFBQUDSjoqKCHhkZ\n6QMANTU1TBqNRgqFQi0AXLlyJYfD4Ty0rsT48ePdP/vss/Lg4ODGR1k7MjLSUyqV0jMzM3Mfb/fP\nj7Vr19osW7bMSSQSmYqN/fnnn/lMJpM8c+aM2cyZM+sfdP2ToFAoiLFjx3rcuHGDJxQKtbt27brj\n5eWlbj1u7Nix7idOnLAQiUSamzdvdqjw2pPyyt9hTEGtdALl8jyAAQyMHAT/wHu5/WVXM8DOyQRX\nYI7BM94HQRCwsLNH8OtDn9e2nwiNXoPFpxfjcNFhAACTxkSVsgoMwpAxw6QxsSZiDQa6DnzOO6Wg\noHiRsbe31xlvVnPnznXk8/m6pUuXVjYfo9frQZIk6PT2a3olJSUVPuq6FRUV9NzcXC6bzSZv3brF\nau+G+jTQaDR4ktLvD2LMmDF1xuqxRlJSUgR//fWXsDMFydq1a23t7Oy0hw4dur5+/XrhvHnznPbt\n29em3058fHzNhx9+WPXee++5d9ZeWvPyPdo/ZYwWEqVKCx1hEOghPYIBAOeSduDgulU4vX0LAGDw\njFmmBnIvK9WKaiw4tQCHiw6Dz+RjyxtbcCHmAvaN3oe0KWk4Pek0Do8/TIkRCgqKx+b69etsLy+v\ngClTprgGBAT4FxcXM9966y23wMBAP09Pz4D58+c7GMeGhob6pKWlcTUaDQQCQfdZs2Y5+fj4+Hfv\n3t23tLS03YfmxMREqzfeeKNh1KhRddu2bTN9KRcXFzMGDRrU1dvb29/Hx8f/+PHjZgDw/fffWxuP\njR8/3h0ARo0a5ZGYmGjqt8Hj8UIAgyjo27ev94gRI7oEBAT4A0BUVJRnQECAn6enZ8DatWtNFSt3\n7txp4e/v7+fj4+Pfr18/L61WC1dX10Bjp2GtVgtnZ+cg4+uH8emnnzqnp6cLfH19/b/66iu77Oxs\ndmhoqI+fn59/QECAn/H9PAkHDx60jI+PrwGA//znP/Wpqanm7Y0bPny4rCONCJ8mlIWkKYakoVYF\nkm6wnpmZmaHyzm2k7dpuGufbLwLevcOfyx6fhAZVA765+A3Olp1Fnepe12ABS4CfX/8ZgTaBAAzV\nVAGAy3i0ZoEUFBQvBj++e/xhQ3incDz0Ued9f0NU5uPsJz8/n7Np06aCiIiIYgD47rvvSkQikU6j\n0aB3794+mZmZ9a1Lq8tkMnpkZKR0/fr1pTNmzHD+8ccfbZYvX17Reu5du3ZZL1++vMTKykoXGxvr\nsWzZskoAeOedd9wGDRokSUhIqNZoNJBKpbRz585xv/vuO/vz58/fFIlEuo6IgytXrphdvXo122h5\n2bFjR4FIJNJJpVJa9+7d/WJjY+uVSiUxZ84c11OnTuV6e3urKysr6QwGA2PGjKn79ddfhQkJCdXJ\nyckWwcHBcmMn4Obs2bNHmJaWJmi2Zs5XX31V8sMPP9gdPXo0HwCkUiktNTU1j8fjkZcvX+bExcW5\nX7t27WbruUJCQnzba1y4atWqu9HR0dLmxyoqKpgeHh5qAOBwOCSXy9XX1NTQbWxsnqn4aA9KkDRZ\nSCqrDBYyFp0DOp2Oi/t3m8YEvz4M4W+9WMGoHUGj12DeqXm4UHHBdIzH4KGHqAc+7vExfIQ+z3F3\nFBQU/824uLg0RkREKIyvN2/eLExMTLTRarVEdXU189q1a9zWgoTD4egnTpwoAYDQ0FBFampqm9S9\ngoICZllZGSsqKkpOo9Gg0+mIy5cvc0JCQlTp6emCffv23QEMNaOEQqH+8OHDgtGjR9cbRUF74qA1\n3bt3lzV3Ay1fvlx06NAhSwCorKxk5eTksAsLC1l9+vSRent7q5vPO2vWrJpx48Z1TUhIqN6yZYv1\njBkz2i0f357LpjUqlYqIj493y8nJ4dHpdPLu3bvs9sa17ur7IEiSbFMg6kWpGUUJkqYYkuqaBgAA\nl2sGaW0N8s6fAY1OR/y6TTC3sX2eW3ws6lX1+OTMJ7hQcQHWHGv8PORneFl6vTAfPAoKiqfL+xui\nHnj+Wfey4XK5euPPWVlZ7I0bN4oyMjJybGxsdKNGjfJQKpVtvowYDIYpCJZOp5M6na7NmK1btwrF\nYjHdxcUlCACkUik9MTFRGBISUgYANBqtRSAtSZJEe997DAaD1OsNW9RqtWi+Fo/HM+09JSVFkJaW\nJsjMzMzh8/lkaGioj1KppJEk2e73qY+Pj9rCwkK7f/9+QXZ2Nm/MmDGP3Xhu2bJlImdnZ3VKSkqB\nWq0mBAJBSHvjHsVC4uDgoC4oKGC5urpqVSoVoVQqadbW1s/dOgJQMSSmwmi1tYbPjLmAj6rCfJB6\nPZz9g146MdKgasC6S+swbPcwpJamQsAS4Puo7+Ft5U2JEQoKiudCQ0MD3czMTGdlZaUrKipinj59\nut24hY6QlJQkPHDgQF5paWlWaWlp1tmzZ3N2794tBIDevXtLVq1aZQsYREZdXR1t6NChkj179lgZ\nXTXG/7q5uakzMjLMAENMik7X/j25oaGBbmlpqeXz+WRGRgYnKyvLDACioqJkaWlpgry8PFbzeQFg\n2rRpNfHx8R6jsfZcOAAAIABJREFUR4+uv18wb3uYm5vr5XK56QKxWEx3cHDQ0Gg0/Pjjj9b3a4Z7\n+fLlmzdv3rzR+l9rMQIAw4YNa/j1119tAGDz5s1W4eHhT6VT79OAEiRNLhuxxPD/zVJoCVmdIdbC\n3Mbuue3rUSFJEkl5SXgj+Q38kvULZBoZ+jj0QXJ0MoJtg5/39igoKF5h+vXrp/Dy8lJ5e3sHTJs2\nzS00NFT2OPNkZ2eza2pqmP379ze5goKCghpZLJY+NTWV9/PPPxcfPXrUwtvb2z8oKMj/6tWrnF69\neik/+uijivDwcF9fX1//Dz/80BkAPvroo+qTJ0+aBwUF+V2+fJnLYrHavdtPnDhRrFQqaT4+Pv6f\nf/65Y7du3eQA4OLiov3222+LR44c6enj4+M/YcKELsZrYmNjG6RSKX3mzJn37fa7Z88eoa+vr7/x\n3/Hjx8369u2r0Ol0hI+Pj/9XX31lN3fu3KrExESb4OBg36KiItb99vgozJkzp7qyspLp6uoauHHj\nRrvVq1eXAsDt27eZUVFRnsZxQ4cO7TJw4ECf/Px8jkgk6rZu3br7d5V9ShD3U1wvKj179iQzMjKe\nylykjkTpJ2cAAvhDfRsKQRHCw8PBravE+eQdbcrAv6hI1VJ8ee5L/Fv4LwCgn2M/vBv8LrrbdX/O\nO6OgoOhMcnJy4Ofn9/CBePYum1eZY8eOmSUkJDilp6fnPe+9vGhcvXrVJjg42L29c690DAmpNZjo\nSBoBPd0QvyQQCCDON9SAMbPqdEH4RJAkiT9u/oFNWZtQo6wBj8HDZ30+w4guI5731igoKCheSRYt\nWmSfmJhou23btjvPey8vG53qsiEI4k2CIHIJgrhNEMTids67EgRxgiCIywRBXCMIYlhn7qc1xpRf\nHQnoafcEibzBkHHDtxI+y+08MhuvbcTXF75GjbIG3Wy64a/ovygxQkFBQfEcWblyZUVZWVnW4MGD\n5c97Ly8bnWYhIQiCDuBHAK8DKAFwkSCIfSRJNi9B+ymAv0iS/IkgCH8AfwNw76w9tcYY0KrRkSYL\nCZ/PN8WQvEiCRE/qcbz4OLbnbAeTxoSHhQf+uPkHCBBY3n85hnsMp4JWKSgoKCheWjrTZRMG4DZJ\nkncAgCCInQBGAWguSEgAxmhrCwBlnbifNpAag8tGqydBsu9ZSGT1tQAAM+GLIUgulF/AigsrcLvh\ntunYufJzAIB5PedRVhEKCgoKipeezhQkTgCaF30pAdCr1ZgvABwmCOJDAGYABnfiftpgtJDI0Ghy\n2ZjxeFBIxABBwMzi+ZeJ35q9FWsy1oAECRFPhOmB06HRaVAiK8EYzzEIsAl43lukoKDoIHq1GjQW\nC4AhBgx6PYimtFBSpwNIEgTjlQ7to3iF6cxPfnv+g9YpPW8B+I0kyTUEQfQBkEgQRCBJkvrmgwiC\nmAlgJgC4uro+tQ2SGj1qCSn+4WWABAkzMzM0yqUASYJnYQnaI+SPdwZ59XlYm7kWAPBu8Lt4J+gd\nsOis57onCgqKR4ckSVQu+wr1O3aAFxYGpr095Onp0NXWwqx/f9C4XMhSU0G3tITbtq2AXg99YyOY\njo4gmExoSkpA6nSgmZmBaffylCOgoHgUOjOotQSAS7PXzmjrkokH8BcAkCR5DgAHgE2rMSBJ8meS\nJHuSJNnT1vbJC5VpqhWQppZCfrECdYQMekIPczNLTJo0CXJT/MjzzbAhSRJfX/gaelKPt3zfwvvd\n36fECAXFS0jjnQKUf/YZ6v/4AyBJKNLTId67F9qKCpAaDWTHj0Ny8CD0Egk0xcXIf3MobkcNwp2h\nw3CrXzhuD4xC/pA3cGfoMFR9/fXzfjstCAsL80lOTm5R5Gzp0qV2U6dOfeCTo7GRXWFhIfPNN9/s\n0t6YsLAwn9OnT/PaO1dWVsZgMBg9Vq1a1eZ+8TIQFhbm4+7uHmisQWL8HSQmJlpmZmZyOnPt1NRU\nnre3t7+rq2vgtGnTXIzVaptz+fJlTvfu3X1ZLFaPJUuWiDpzP83pTAvJRQBeBEF4ACgFMBnAlFZj\nigEMAvAbQRB+MAiS6k7cE3QyNSq/u2RIrQGgpRviSBwdnOHq6orbF88DAPjPOX5k963duFhxEZZs\nS8zqPuu57oWC4lWG1Omgun4dbC8v6BoaoFcqwerS5aFB5Hq1GnWbN6P6/34AdDqARoPjyq9B0OnQ\nKxRgeXiA6egIeXo6oNOB5dEF5Us+g/p2Pmjm5qDz+dCUlUEvk4FuYwO6mRnoNi/W/XfChAm1O3bs\nEI4bN85U7TM5OVm4cuXKko5c7+7urjl06NAjp8du27bNKjg4WL5r1y7rBQsW3Lf42JOi0WjAZDI7\nZe5t27bdGTBggKL5sZSUFEutVitu3ePnaTJr1iy39evXF0VFRckjIyO9kpKSzI39g4zY2dlpv//+\n++KkpKRnGrfQaYKEJEktQRAfAPgXAB3AZpIkswmCWAoggyTJfQDmAfiFIIg5MLhzppGdXKlNW6cy\niREA0MGgDs0EBlEqqzdYSMyeQ4aNntRD0ijB9drr+ObiNwCAxWGLYcG2eOZ7oaB41dBUVkJ56RII\nJhO8sDCoCwqgLilBw1+7oEhPB8Fmg2xsBAAwXVxAt7SE5dgxsJw8GQRBQJWbi6pVq8F0cgIIQPLP\nIejFYgCAxejRsIqJATcosM26lqNHm35237EDqpwc8Lp3B8FiofFOAfRyOTgB/iBoL15h7djY2Prl\ny5c7KZVKgsvlkrm5uayqqirmkCFDZGKxmPbmm296isViularJZYsWVI2derUhubX5+bmskaMGOF1\n69atbJlMRkyePNkjLy+P4+XlpVKpVPdVfLt27RKuXr36blxcXJeCggKmh4eHBgCSkpLMlyxZ4qTT\n6QihUKg9d+5cnlgspsXHx7teu3aNBwAJCQll06ZNa+DxeCEKheIyAGzZssXqwIEDFsnJyYXjxo1z\nt7Ky0mZlZfG6deummDJlSt3cuXNdVSoVjcPh6H/77beC4ODgRq1Wi1mzZjmfPHnSHADi4uJqAgMD\nlT/88IPdkSNH8gFgz5495j/99JPt4cOH8x/2uzxy5IjZ0aNHLc+fPy9YuXKlQ3Jycv6hQ4cEW7Zs\nsdVoNIS7u3tjUlJSgUAgaGvS6CBFRUVMmUxGM6Ykx8TE1KakpFi1FiROTk5aJycn7d69ey0fd63H\n4aGCpElUbCdJsv5RJydJ8m8YUnmbH1vS7OcbAPo96rxPAqnUtnitbRIkHB4bOq0Wty6kAQAEwmf7\nJKLRaRDzdwxy6u4VUhziNgTDPJ5paRYKilcOvVoNyb59qFy+AnpF0wMrQQDNno0ILhekUgmCywWN\nzYbm7l1o7t5FRVYWan7aAILBgKa6GtBoWszN9vOD3dy54PcP79Be6AIBzMLC7l3fxaPD72PNpIdm\n2/H+BUI7PGET8/48kHm/c/b29rrg4GB5cnKyxdSpUxu2bt0qHDlyZD2NRgOPx9MfPHjwtlAo1JeX\nlzN69erlO2XKlAbafYTV6tWr7bhcrj4vL+9Geno6t1+/fv7tjbt9+zazpqaGOXDgQMXIkSPrt27d\nKvziiy8qy8rKGB988IH7yZMnb/r6+qqNvWUWL17sYG5ursvLy7sBANXV1Q8NDszPz+ecPXs2j8Fg\noK6ujnbhwoWbTCYTKSkpgoULFzr/+++/+WvWrLEtKipiZ2dn32AymaisrKTb2trqPv74Y9eysjKG\no6OjdvPmzdbTpk1r14Lz9ttvd+FwOHoAiIiIkGzcuLFk8ODBDSNGjBBPnz69HgCsra218+bNqwGA\n2bNnO65bt87mk08+qWo+z/79+wULFixwaT0/l8vVt+4CXFRUxHRwcDB9SN3c3NTl5eWdYwJ6DDpi\nIbGHoYbIJQCbAfzb2VaMzkTfWpAQBpcNk8nEqcRfUZx1BVyBOfwHPLhz5tNme8525NTlgEljwo5n\nh4k+ExHjF0PVFqGgeEJkqakAjQZ+v7bPPuIDB1H51VfQNRge3Hk9e4IECWVGJhi2tuD26AGGrS1s\n/mcmAIDG4zVZLu5AlZODyv+3HNqqe/cHi3FjwbCxBUgS5sOHgePj82ze5HNk4sSJdX/++afV1KlT\nG3bv3i3ctGlTIQDo9Xri448/dj5//jyfRqOhqqqKVVJSwnB1ddW2N8+ZM2f4s2fPrgKAXr16Kb29\nvRXtjTOKHgCIjY2ti4+Pd//iiy8qT548aRYWFib19fVVA4BIJNIBwOnTp8137txpcgvZ2to+tLPt\n2LFj6xlN2U51dXX0SZMmeRQWFnIIgiA1Gg0BAMePHzd/9913q40uHeN6EydOrP3ll1+E77//fu2l\nS5f4u3fvLmhvjfZcNq3JzMzkLlmyxEkqldLlcjk9IiJC3HpMdHS0NDo6+kZ717emvVv3i3SPeagg\nIUnyU4IgPgMwBMB0AD8QBPEXgF9JknyoGepFwyhI6JZs6BoaTRYS6PW4duwQQBAYs+hzWNg9szge\nVCmqsOHaBgDAuqh1CHfq2NMUBcXLAEmSgFYLopkvniRJKC9fgSz1NPQyOeSpqdCrG2H+5lBwAwNQ\n9e13IJhM8PuHg25jA6uJE0G3uOe6VJeUQHrokElIAABodPBe6wluUBBAENBWVaF20yaI9+4DAFhO\nmADLiRNROm8e2B4eoAuFEO/ZAwBg+/pCOC0OFqNGgSAI6GRy0LgcU0puazg+PuD4+MD8zTehrTHU\nLaLxuGA8x9izeX8eeOD5zuplExMT0/Dpp5+6nDlzhqdSqWjh4eEKANi4caOwtraWkZWVlcNms0kn\nJ6cgpVL5QL9TR26OycnJwpqaGqaxw29VVRUzKyuLTZJku9ff73jzY0qlssUAPp9vcossWrTIKSIi\nQnrkyJH83NxcVlRUlE+zedvc4d97773a4cOHe3I4HDI6Orr+SWJQZs6c6ZGUlHS7T58+ynXr1lmf\nOnVK0HrMo1hI3N3dNc0tIkVFRSx7e3tN62ufFx2KISFJkiQIogJABQAtACsASQRBHCFJcmFnbvBp\nYxQkLFcBlA2N0MEglmuLCqDTaODWLQQOXs/uqYYkSXye9jnkGjkinSMpMULxUqNXqaCtrobm7l3I\nz50Hy90N9X/sQGN+PvgDBoBuYQFSr4PiYgY0xcVtrq/bvLnl6zuGB1vp0aNwXLECisxMiPfuhTKj\nfS9C7c8/tzlGsNkASaJh1y407NoFAKa1CTYbooQEWE6c0OIGReebdej90jgcsJydOjT2vxULCwt9\n7969pTNmzHAfO3ZsnfG4WCym29jYaNhsNrl//35BWVnZA9MEw8PDZb///rswOjpaevHiRU5eXl6b\nDJurV6+yFQoFvaqq6prx2Jw5cxy3bdsmnDNnTvW8efPcbt68yTK6bEQikS4yMlKydu1au82bN98F\nDC4bW1tbnbW1tebSpUuc4OBg1d69e634fH67lhOJREJ3dnZWA8DGjRtNvvzBgwdLNmzYYDt8+HCp\n0WUjEol07u7uGpFIpFmzZo3DP//880jN9fh8vk4ikZhEm0KhoLm6umoaGxuJnTt3Cpu7W4w8ioXE\nzc1NY2Zmpj927JjZwIED5du3b7d+//33qx5+5bOhIzEkswHEAagBsAnAApIkNQRB0ADcAvByCRKV\nQZAwHfhQXquBljAI4XKDexFBUW88s71odBqszVyLM6VnYM4yx2d9Pntma1NQPC1IYyrrnhRIjhwB\nqWjfCi09fLjFa4adHcyHDgXD1gZsPz/QeDyI9+2D/HQqzKNHgNejB1S5uWjYsROqq9dwZ9hw07UE\nhwPB4MFg+3ibjumlMkiPHYO22pCoR7BZ4EdEwHr6dJBaLUrnzIX6zh1we/QA3dISuro62C/9Ehxv\nb1A8GZMnT66Li4vrumPHDpNrZMaMGXVDhw71DAwM9AsICFB4eHg8MHNk/vz5VZMnT/bw9vb2DwgI\nUAQFBbXpBbN161brYcOGtYhnnDx5cv2UKVO6rFq1qnzdunWFY8aM8dTr9bC2ttakpaXdWrFiRfn0\n6dNdvby8Amg0GpmQkFAWFxfX8OWXX5aOGjXK08HBQePr66uUy+XtWm8WLVpUMWPGDI9169bZ9+/f\n3xT8OWfOnOq8vDy2r69vAIPBIOPi4qoTEhKqm/ZU++OPPzIelC3TPIZEKBRq09LS8mJiYuree+89\n9w0bNoiSkpLyFy9eXBYWFubn5OSk9vPzU8hksicujrV+/fqi+Ph4D5VKRQwcOFAyYcIEMQB88803\ntgCwcOHC6uLiYsZrr73mL5fL6QRBkBs3bhTl5ORcFwqFjx1Q2xGIh4WDNGXF/EqSZFE75/xIknym\n7ax79uxJZmRkPPb1dUl5UGRUwnKsJxp238YxZhYK6FXglN6BOXSYuf43MDopzas5Co0CHxz/ABcr\nLoJO0LEqYhVed3u909eloOgopEYDTVkZmK6u9zWla+vrUZ7wCWQnTpiOMRwdQOcLwOvdC6qs62C5\nu0M4LQ6q69dNHbZZri7ghYXd1yXSnMY7BShf8hm0FZVgujjDInokBEOGdNiKYUSvUEB+7hzM+vQB\njddueYuXjpycHPj5+XVobGe5bCja8vbbb7uGhIQo5syZ02kpyS8rV69etQkODnZv71xHXDZ/AzCZ\n4QiCEADwJ0ky/VmLkaeBMcuGxja8dV2zGJJeYyc+EzGi0Wnw3tH3cKnqEuy4dlgTuQbd7bp3+roU\nFI9C+ZdfQpyUDPPoaNh//nkbAaDIyEDpvPnQVlaCZm4O4dSpsBg1Eiw3t3bne9wAT3YXD7j//vtj\nXdscGo8HwaBBTzwPBcWDCAgI8ONyufqNGzfeffhoiuZ0RJD8BKBHs9fydo69NBhjSFRaPc5KFFAI\nlQAAM3NzBA95Nim2P2f9bBAjPDtseWMLXM2fXjl8Coqngba+HpKmYFDJ/v1QXrsKh6XL0HjrFiT7\n94MfGYGa9T+B1GjA7d4dTmua6m9QULziZGdnv3QP6i8KHREkRPM0X5Ik9QRBvLTdn4yCRCrXoFyW\nBglfDjD46DP62VhHLlddxi/XfgEAfN3/a0qMULwwNN65A+WlS+CGhEB+5gxIjQac4G4gG9VovHkT\nxXFxprHKq1cBAJaTJ8H+k09aZNBQUFBQPA4dERZ3mgJbf2p6PQvAI5f6fVEwChJxQyNIXS1AM/iS\nHb06P7CtQl6Bj098DB2pQ5x/HF6zf63T16SgaI/aXzej9pdfYNa3D5hOTpCnX4Dq2rU246z/Ew9+\nZARqN25EQ1Iy9I2NsIiORkNSEsyHDoX9kiUvZAVRCgqKl4+OCJJ3AawD8CkM5d2Poanz7suIUZDU\nNzSC1EsBwuAX76x+Bc1Zkb4Cdao69LLvhY9CP+r09SgomtN4pwCSv/+GuqgIkv37AQCSv/8xnaeZ\nmYHXsycUly5BL5WC7e8HwcBIECwWbGfPhs0HHxjqibBYEC1eBILx0hpKKSgoXkA6UhitCobGeC89\npJ4E2agDCKCuSgmSlIFserpjdPKXa3ZNNo7fPQ4OnYMV/VeASaNM3BRPH9nZs5CfTgU/YgDoNjZg\ne3iAYDIhPngQZfMXtCiHbjt3LmgcDvQKOViuruBHRYHG4RgKmen1AI3WIruGoNEAlqGUBCVGKCgo\nnjYdqUPCARAPIACGbrwAAJIk/9OJ++oUjNYRgs3A3ZpcNNrYADRD2mFnWkhIksT3l74HALzl+xZs\nebadthbFq4uuoQGlc+ZCL5GgbutWAADLwwO2H81GxRdfGsqZjxgBbkh3sL28WvRMaQ5BEEAH0nEp\nKCoqKuiRkZE+AFBTU8Ok0WikUCjUAsCVK1dyOBzOQ9uMjB8/3v2zzz4rDw4ObnyUtSMjIz2lUik9\nMzMz9/F2//xYu3atzbJly5xEIpGp0Nmff/6Zz2QyyTNnzpjNnDnzkXvHdZT9+/cLFi5c6HLr1i3u\nli1b8mNjYxseftWzoSOPOYkAbgJ4A8BSADEAXsooYmPKL8GhoQ55AMfBdK4zBUnK7RScKz8HAUuA\n6YHTO20dipcfkiShunYN4r17oWtogOizz8CwatkBXCeTo3LZUhAsFsz69YO2ugbys2ehE4uhl0jA\n8vAAjceDpqoS6oIClH48BwDAHzgQjqu+eaF6V1C83Njb2+tu3rx5AwDmzp3ryOfzdUuXLq1sPkav\n14MkSdDvI3KTkpIKH3XdiooKem5uLpfNZpO3bt1ieXl5qR9n/w9Do9F02r1hzJgxdcbqsUZSUlIE\nf/31l7AzBYmXl1fj1q1bC5YtW2bfWWs8Lh2JRvMkSfIzAHKSJLcCGA4gqHO31TmYMmyYbT+7neWy\nOVx4GCsurAAAJPRKgBXH6iFXUPy3oxOLId6/H+J9+6CpqDAca2hAzYYNuDN0GAonTUb9Hzsg+fsf\nFE+bjqKpsShduBCys2ehratD6ezZEO/dh4ZdSSj9eA4q/9//g+zkSSgvXwYAOK5aBY/kJHgePgzr\nGfHg9ewJ/uBBcFi2lBIjFM+E69evs728vAKmTJniGhAQ4F9cXMx866233AIDA/08PT0D5s+fb3oa\nDA0N9UlLS+NqNBoIBILus2bNcvLx8fHv3r27b2lpabtfzImJiVZvvPFGw6hRo+q2bdtm+lItLi5m\nDBo0qKu3t7e/j4+P//Hjx80A4Pvvv7c2Hhs/frw7AIwaNcojMTHR0ngtj8cLAQyioG/fvt4jRozo\nEhAQ4A8AUVFRngEBAX6enp4Ba9euNZWP37lzp4W/v7+fj4+Pf79+/by0Wi1cXV0DjZ2GtVotnJ2d\ng4yvH8ann37qnJ6eLvD19fX/6quv7LKzs9mhoaE+fn5+/gEBAX7G9/Mk+Pr6qsPCwpT367r8POnI\nXdhoUmogCCIQhn427p22o07EKEhqSEmL4zQa7b7q/Uk4eOcgFqcuBgCM6joKwz2GP+QKiv92tLW1\nKJwyBZqipj4uBAFe715Q3ymAttLwYEm3tYHFsOGQHjmCxtx71mjJvv2mn+nW1rAcMxqNBYWgsdng\n9emNxlu3wO7SBdzAAAAAjcuF3fz5z+7NUTxXShanPvC8JcArQWroo87r/HX/9hsHPYT8/HzOpk2b\nCiIiIooB4LvvvisRiUQ6jUaD3r17+2RmZta3Lq0uk8nokZGR0vXr15fOmDHD+ccff7RZvnx5Reu5\nd+3aZb18+fISKysrXWxsrMeyZcsqAeCdd95xGzRokCQhIaFao9FAKpXSzp07x/3uu+/sz58/f1Mk\nEuk6Ig6uXLlidvXq1Wyj5WXHjh0FIpFIJ5VKad27d/eLjY2tVyqVxJw5c1xPnTqV6+3tra6srKQz\nGAyMGTOm7tdffxUmJCRUJycnWwQHB8uNnYCbs2fPHmFaWpqg2Zo5X331VckPP/xgd/To0XwAkEql\ntNTU1Dwej0devnyZExcX537t2rWbrecKCQnxba9x4apVq+5GR0dLH/Z+XxQ6Ikh+JgjCCoYsm30A\n+ABeyqYrJkGia/n/pzNMcjK1DKsurgIAzA6ZjRlBM6in0/9SSI0GpE4Hgs0GQRDQq9XQS6WQ/Psv\nJHv3QVtdDU63blBkZEBXXw/odGB16QKWmxvkZ89Cce48AIAbHAybD96HWZ8+IBgMWMVMQf327eAG\nB6OxoADivfugKSmBWd++sFu4gOrBQvFC4+Li0hgREWFqbLR582ZhYmKijVarJaqrq5nXrl3jthYk\nHA5HP3HiRAkAhIaGKlJTU/mt5y0oKGCWlZWxoqKi5DQaDTqdjrh8+TInJCRElZ6eLti3b98dwPC9\nLhQK9YcPHxaMHj263igK2hMHrenevbusuRto+fLlokOHDlkCQGVlJSsnJ4ddWFjI6tOnj9Tb21vd\nfN5Zs2bVjBs3rmtCQkL1li1brGfMmNFu+fj2XDatUalURHx8vFtOTg6PTqeTd+/eZbc3rnVX35eV\nBwqSpgZ6EpIk6wGcBtDlmeyqkzAKklqtuMXxpy1IFBoFPk/7HLWqWgTbBiM+KJ4SI/9FaKqqIP3n\nH6jvlkBdWAh5Whqg14Pp6gq6pWW79Tw0ZWWmnzkBAXDZuAEMGxvoxGJI/v0XpFoDq0kTWxQYY7m6\nQvS//2t6bTNrFqDRgGA9sGkqxSuK89f9H3j+Wfey4XK5pkZsWVlZ7I0bN4oyMjJybGxsdKNGjfJQ\nKpVtvhQZDIYpCJZOp5M6na7NmK1btwrFYjHdxcUlCACkUik9MTFRGBISUgYANBqtRSCtoVl92+9f\nBoNB6vWGLWq1WjRfi8fjmfaekpIiSEtLE2RmZubw+XwyNDTUR6lU0kiSbPd73cfHR21hYaHdv3+/\nIDs7mzdmzBhJm0EdZNmyZSJnZ2d1SkpKgVqtJgQCQUh7414JC0lTVdYPAPz1jPbTqZAagzCu07b8\nfDzN+JEaZQ3eOfwObjfcBpvORkKvBNCIF89XR9ESkiShrawEQyQCQRBQZGRA8s8h8HqGQpVzE0wH\ne3C6dUP1d99DfvasIS3WCEEATCY0xcWGtvZ0OggWC7wePWAxejRYLs5QZl0Hr2coWF27gmAyTV9k\ndAsLWE2c2KE9EgRhSruloHiZaGhooJuZmemsrKx0RUVFzNOnT5u/8cYb4odf2ZakpCThgQMH8ozW\nl6ysLHZ0dLTX2rVry3r37i1ZtWqVbUJCQrVWq4VEIqENHTpUMnny5C6LFi2qNLpsRCKRzs3NTZ2R\nkWEWFxfXkJiYaKXTtW84aWhooFtaWmr5fD6ZkZHBycrKMgOAqKgo2eLFi13y8vJYRpeN0Uoybdq0\nmvj4eI9JkybVPko4gLm5uV4ul5suEIvFdE9Pz0YajYYff/zR+n7NcF8JC0kTRwiCmA/gTxj62AAA\nSJKsu/8lLyh6QAMdZGTLrtZPy0IiU8sw/dB0FEoK4W7ujrWRa+Fl5fVU5qZ4OugVCqhu5sJQ4w+A\nXg9FRgbEKXuhLiyE2YD+YLm4on7HDkCvR/327W0nYTLBjxoIs9deA01gDv7ASNDNzaFIT4dOLgc/\nPBw0Lre/jZ5IAAAgAElEQVTFJdzuVPNEileXfv36Kby8vFTe3t4Brq6ujaGhobLHmSc7O5tdU1PD\n7N+/v8kVFBQU1MhisfSpqam8n3/+uXjatGnuv/32my2dTsf69esLBw4cqPjoo48qwsPDfel0Otmt\nWzf5X3/9VfTRRx9VjxgxwjMoKMh84MCBYhaL1e7dfuLEieJNmzbZ+vj4+Ht6eqq6desmBwAXFxft\nt99+Wzxy5EhPkiQhEok0p0+fvgUAsbGxDbNnz3afOXPmfbv9to4hWb9+fVHfvn0VOp2O8PHx8Y+N\nja2ZO3du1YQJE7omJSUJIyIiJPfb46Nw9OhRs5iYmK4SiYR++vRp82XLljnm5eXdeNJ5nwbE/RSX\naQBBFLRzmCRJ8rm4b3r27ElmZGQ81rWSE3dRcDgLe9gXWhx3dHTEzJlPXnx2W/Y2rMpYha4WXbH5\nzc0QcoRPPCdFx9GrVFBcvAgA4IaEgM5v6X6WX7iAsvkLoK2qevhkBAGLkdFQl5aC5eoG2fHj0DU0\nwGrKW7D58MM2qbgUFM+DnJwc+Pn5dWjss3bZvMocO3bMLCEhwSk9PT3vee/lRePq1as2wcHB7u2d\n60ilVo+nvqPnhZ6EnGhbe+dpuGxIksSuvF0AgA9DPqTEyDNAL5dDlnoGpEYNlrsHyhP+F423bgMA\nCA4HgsGDYda3L2h8Q6Zc6dx5gFYLppsrGEJr0zxMJydYjIwGq0tXVH/7LWjmAliOHw9uQIBpjLa+\nHtrKSnB8fZ/tm6SgoHipWLRokX1iYqLttm3bXtqeb8+LjlRqfbu94yRJbnv62+lcSD0JOWEI6iYa\nVSDZhsKzT8Nlc/LuSRRKCmHHs0OES8QTz0dxD+WVK6j7fTsUmYbsQ15oKLhBgaj744976bNNMBwd\nwLS1g/LqVUgOHIDkwIEW561iYiD638X3LX3utGZ1u8cZVlaUVYSCguKhrFy5smLlypVtUpUpHk5H\nTAPNW9JyAAwCcAnASydIQN6zkNAbFdA+JUGy59YefHnuSwDAJJ9JYNCoPh9PCkmSgE6HmvXrUfPT\nhhY9WJoLDVbXrmB38YD8bBroQiHcEreB6eAAdUkpJAf2ozH/DjRlZVBmZsJi3FiIPkmgutNSUFBQ\nvIB0xGXzYfPXBEFYwFBO/uWjmcuG1qg0HX4SQSJVS7Hy4kroSB1i/WOp0vCPQMPuPabCXwSbDf6A\n/mDY26NyxddQnDsHhoMD1Pn5AEFAOH06LMePAwBIjx6DtqoKTEcHWMXEGBrCqQ0lA4wpsSxnJ9i8\n+65pLb1cDoLHo9KvKSgoKF5QHudRXgHgpUwdIfWAHAaXTXNB8iQxJMl5yZBr5Ogp6omFry184j3+\nt0PqdNDLZNBUVKI8IaHFudqff27xWp2fD4atLRxXrYJZ716m4+yuXdvM+7DaHDSzJ664TEFBQUHR\niXQkhmQ/TDmSoAHwx8tal6S5hUStesjgh6PWqfF7zu8AQFlGOkDdtm2o3fQrtLW14IYY0mB5fXqD\nPyAC2upqSI8dhV4qAycgADbvvQv1nTvgR0WBIaQChCkoKCj+2+mIM301gDVN/1YAGECS5OJO3VUn\nQer09wSJxtT1GVqt9rHm231rNyoVlfC09ES4U/hT2eN/K7VbfkPl8hWGlFudDsoMQ4Cqzf+8C+vp\n0yBauACe//4L77SzcP3lZ/B69IDl+PGUGKGgeIEJCwvzSU5ONm9+bOnSpXZTp051fdB1xkZ2hYWF\nzDfffLPdEhJhYWE+p0+f5rV3rqysjMFgMHqsWrXKpr3zLzphYWE+7u7ugb6+vv6+vr7+xt9BYmKi\nZWZmJqcz1/7www+d/n97dx4fVXU+fvzzzJJM9j0BEnYIEEAEkUVxwa0uIFo3XLC2Wr/Wqq1Wq9XW\nor+2altba2sruKNWrYhbpSqKgiiyKvsiOwGy73tm5vz+uDfJJCQQICvzvF+vvJh758y9584NmWfO\n8pwePXqcUHcPupLWBCR7gGXGmEXGmC+BfBHp1661aifV3hq84sPhF/A3ZOU7moCkylvFM2ufAeDW\nE2/VbKyHUP3dd+Q89hgAPR56CHdaGmAtIhd+8tjOrJpS6hhcccUV+a+99lqjbw1vvfVW/HXXXdeq\nxJn9+vWr/fDDD494euycOXPiRo0aVf7mm28mHL700asN+OLa1ubMmbNj8+bNGzdv3ryx7j145513\nYteuXRt2uNcei0suuaRo2bJlXTIfTWs+Rd8EAvJk47P3dTtlNVaGVrffQeDQxqMJSObvnE9OZQ5D\n44dydp+z26iGx6fi/34AQMxl3yfuqitJvveXIELs5Zcj7bDKslKqY8yYMaPw008/jalbl2bLli0h\nOTk57vPOO6+suLjYMXHixPSMjIxh6enpGa+88kps09dv2bIlZPDgwcMBysrKZMqUKQPS09MzLrro\nogFVVVUtjkB/88034//85z/vzcrKcu/cubN+VsLcuXOjMzIyhg0ZMiRj4sSJ6QDFxcWOyy+/vF96\nenpGenp6xosvvhgLDa00AC+88ELcZZdd1g/gsssu63fTTTeljR8/Pv3WW29N++yzz8JHjx49dNiw\nYRmjR48eumbNmlCwPjduvvnmtLrj/v73v09+9913o84999z6QW5vv/129HnnnXfwoLdmLFiwIOKT\nTz6J/fWvf502dOjQjA0bNoQ+/vjjiSNGjBg2ZMiQjO9973sDS0tLj/mb79lnn13et2/f9ou0jkFr\nRnO6jDH1qx4aY2pEpFULaojI+cDfACfwrDHm0SbP/xWYbG+GA8nGmIN+adtKaZUdkDRZr+loApJ3\nt70LwDVDr9HWkUMwxlDyv/8BEDP1YgCizz2X8C8W49S8Hkq1mZkzZx6uSPjcuXNPOorjrmrpuR49\nevhGjRpV/tZbb8Vcd911RS+99FL8xRdfXOhwOAgPD/d/8MEH2+Lj4/0HDhxwjR8/fug111xT5Ghh\n2v2f//zn5LCwMP/WrVs3Llu2LOzUU0/NaK7ctm3b3Hl5ee7JkydXXHzxxYUvvfRS/MyZM7P379/v\nuu222/p9/vnnm4cOHVqTnZ3tBLjvvvt6RkdH++rSo+fm5h72W9D27ds9X3755VaXy0VBQYFj+fLl\nm91uN++8807UL3/5y7SPPvpo++OPP560e/fu0A0bNmx0u91kZ2c7k5KSfD//+c/77N+/39WrVy/v\n888/n3DDDTc0mz7++uuvH+DxePwAZ5xxRsmsWbMyzznnnKIpU6YU//CHPywESEhI8P7iF7/IA7jj\njjt6Pfnkk4kPPPBAo1TT77//ftQ999zTu+nxw8LC/N1tjZvWBCS5InKxMeY9ABGZBrSYn7+OiDiB\np4BzgUxghYi8Z4ypz5lvjLkzoPztQLv2aZXVWjNr3D6DF4gID6e8ooI0uwuhtfaW7GV1zmrCXGGc\n1++8dqjp8aNq3Tpq9+w5qHvGldgtu36VUk1ceeWVBW+88UbcddddVzRv3rz4Z599dheA3++Xn//8\n52lff/11pMPhICcnJyQzM9PVp0+fZr8BLlmyJPKOO+7IARg/fnxlenp6RXPl6oIegBkzZhTceOON\n/WbOnJn9+eefR4wbN6506NChNQB1C90tXrw4+vXXX6/vFkpKSmp+Fb0A3//+9wvrZl8WFBQ4r7rq\nqv67du3yiIipra0VgIULF0bfcsstuXVpI+rOd+WVV+Y/88wz8T/96U/zV69eHTlv3rzmll9hzpw5\nO04//fRmr7HOqlWrwh588MHU0tJSZ3l5ufOMM844aEHCqVOnlk6dOrVLrEVzrFoTkNwCvCoi/7C3\nM4Fms7c2MQ7YZozZASAirwPTgJbeuKuB37biuEet2msPaPVZPVBXXDyF7OJSxowZ0+pjVNRW8Piq\nxwE4p885RLh1OmlzfKWllHwwn9wnngAg+vwLtHtGqXZ0uBaS9lrL5tprry369a9/3XvJkiXhVVVV\njkmTJlUAzJo1Kz4/P9+1bt26TaGhoSY1NXVkZWXlIZuTW5Mn6K233orPy8tzz5s3Lx4gJyfHvW7d\nulBjTLOvb2l/4L66Lqc6kZGR9cMU7r333tQzzjijdMGCBdu3bNkSctZZZw0JOO5Bi8H95Cc/yb/o\noosGeTweM3Xq1MJjyXN188039587d+62iRMnVj755JMJixYtimpa5nhqITlsX4MxZrsxZgLWdN/h\nxphTjDHbWnHsVGBvwHamve8gItIX6A8sbOH5m0VkpYiszM3NbcWpm+f32787xgrQk3r0ZPz48UeU\nGO2uRXfx6Z5P8Tg9XJdx3VHX5XhWs2cPOy6aQtbMmfiKioiYNImk237a2dVSSrWDmJgY/4QJE0pv\nuummft///vfrB7MWFxc7ExMTa0NDQ837778ftX///kN29U+aNKnslVdeiQdYsWKFZ+vWrQfNsFmz\nZk1oRUWFMycnZ+2+ffvW7du3b91tt92WNWfOnPjJkyeXL1u2LGrz5s0hAHVdNmeeeWbJX/7yl+S6\nY9R12SQkJNSuXr3a4/P5ePfdd1vsPy4pKXGmpaXVAMyaNau+afecc84pefrpp5PqBr7Wna9fv361\nKSkptY8//njPH//4x4ftTQgUGRnpKykpqf9crqiocPTp06e2urpaXn/99WanHE6dOrW0bnBs4E93\nC0agFQGJiPxBRGKNMWXGmFIRiROR37Xi2M2Fui0tLTwdmGuMabYpzRgz2xgz1hgzNikpqRWnbp7f\nPrzY/3oiDwo2D6mitoKl+5fiEhevXfQaGQnNdnEGLeP1Uvz+++z50Y14c3IIzRhGrz8+Ru/Zs3DG\nxHR29ZRS7WT69OkFW7ZsCZsxY0Z9QHLTTTcVrFmzJmLEiBHDXnnllfj+/fsfMvnT3XffnVNeXu5M\nT0/P+MMf/tBj5MiR5U3LvPTSSwkXXnhhYZNzF86bNy++V69e3ieffHLXpZdeOmjIkCEZl1566QCA\nRx555EBRUZFz8ODBw4cMGZIxf/78KICHHnpo37Rp0wZNnDhxSEpKSouDPO+9996smTNnpo0ZM2ao\nz9fwEXXnnXfmpqWl1QwdOnT4kCFDMp577rn6gGH69On5PXv2rDnppJNavObrr79+QN2031NOOSUd\n4Nprry148sknewwbNixjw4YNoffdd9/+cePGDTvttNPSBw8efOzJs4BbbrklLSUl5YSqqipHSkrK\nCXfddVevtjhuWxBjWooR7AIi3xhjRjfZt9oYc8h+DhGZCMw0xnzP3v4VgDHmkebOAfzUGPPV4So8\nduxYs3LlysMVa9YHf/sPKwo3klhUjb9gO3fMObL8biuyVvCjj35ERkIGb0x546jq0N0Yn4/8556n\ndMECHB4PibffRvnSpZQv/gJnTAxx111HyX//iyslhZrduylbaDVyeTIy6DNnDs5I7dJSqjW25ZSx\nI7eMb/YWMW91JlW1Vq9BbLibE9Ji8bgcjOody3UT+ta/ZtOmTQwbNqxVx2+vLht1sOuvv77P6NGj\nK+68884jaiEJBmvWrEkcNWpUv+aea80YEqeIhBpjqgFEJAwIbcXrVgCDRaQ/sA+rFeSapoVEZAgQ\nByxtxTGPid9vdwsaPyHhkUf8+rW5awEYmTiyLavVJRm/n+L33qPwlVepWr++fv+eG34I/oZZ4OVf\nNY4hHTExJP3sDmKnTdN07eq4VVbtxRhDZKir0ViEGq8ft1Ma7fP5DS9+tYtlO/IbHaNnjIfiyloW\nbs6hR4yHrdllzZ6ruLKW3fnW2MfKWl+jgER1PcOHDx8WFhbmnzVr1t7Dl1aBWhOQvAJ8KiIv2Ns/\nBF463IuMMV4RuQ34CGva7/PGmA0i8jCwsm7WDtZg1tfN4Zpq2oDf1AUkhpCwZhMAHtK6vHUAnJB0\nQltWq8sxxpDz2GMUvGQt6OxMTKTHr39N6YIFlHzwAbjd9HrkESrXrqFwzstEnDKR2gNZeHNz6f2v\nfxE+psslAFSqVYwxZJdUU+vzYwxszytjR245FdVe1u0rJibMze6CCpbvtHomesZ46B0XDgJlVV42\nZ5UQHxHCgMTI+k7rgvIatuU0H2zUKakqI9Tl4JSBCcRHhHLN+D4MTLIC+szCSjYdKMEYSItv15xZ\nqg1s2LBBW6GOUmtW+/2jiKwFzsH6L/Yh0KoQ3RgzH5jfZN+DTbZntrayx8pXF5BgcIceWXZeYwzr\ncu2AJPH4CkjKly9n312/wJM+mJhp06jcsIHCOS+D202P+39F9NSLcUZGEHXWZDwZw/CMHEnEuHHE\nTLmIpNtvxxEZCcZgqqpwhB95oKdUR9pfVEl+mZVaqbCihpW7Cli5uxCP20lBeQ3f7i067DFCnA4c\nDjhQXMWB4sZd+3llNeSVNU5UmhgZyj3fSycmzBrXaYzhu5wyan1+po7qRWF5DQOSIkmKOrjxOTY8\nhBGpLY/BamkWiVJdjd/vFxonWm2ktcvcZtkHuRLYCbx17FXreA1dNoaQsNZ/01i6fykPfvUgOZU5\nRIdE0zf6+Gky9ZWWsv/e+/Dl5VGel0f5V3bPmctF6mOPEn3hhfVlJSSEhBtvbPR6Z5Q9MFgE0WBE\ndUF+v2HBpmyWbs8ns7CCTzblHLJ8ZKiL2HBr5l1yVCgjUmMIdTkY1jOagvIaQlwOLh2dSkSIi+9y\nyiissIIbt1MY2iOa7JIqckqr648nQEavaKI8jWfzXdAG1+bxeMjPzychIUGDEtWl+f1+yc3NjQHW\nt1SmxYBERNKxxn1cDeQDb2ANgp3c0mu6uoYuG3+rA5JlB5Zx26e3UeOvId4Tz40jbjyu/uPn/v3v\neA8cwDNyJLGXX07xu+/iLyuj5/97mLBRozq7ekodtdzSav76yVYWbcllX1Fl/f4Ql4PByZGIQKjL\nyejesZzcP57KGh81Pj9TTuhJeEjrvqsN6XHwTL0BSZEMSDryMWpHIy0tjczMTFqTDiErK8vl8/k0\nI6HqLH5gvdfrvamlAof6X7cZ+AKYWpd3RETuPET5Li9wDEloKwOSf377T2r8NVyZfiUPTHjguEoT\nb2prKXnvfQB6/Pa3hI0YTtxVV3ZyrZQ6MsYYCitqqaz18e2eIpbtzGdPQQXr9xWTZ3fN9IzxcPW4\nPiREhnDOsBRSott1QdUO43a76d+/f6vKZmRkrDPG6GqWqss6VEByGVYLyWci8iHwOs3nFuk2Arts\nQiMO371Q5a1iXd46BOGOMXccV8EIQPnXy/AVFREyYACe4ZpTRXVtpVW19V0hmYWVvPL1bnJLq8ks\nrKgPPJqaMCCe+y8cxvBeMTgd3frPl1LHvRYDEmPM28DbIhIBXALcCaSIyL+At40xH3dQHduMv24i\nj/ETGn74FpJ1eeuo9dcyJG4IMaHHX2KvukXvoi+44LjqhlLdV43Xz9bsUqq9fsCwaGsei7fm0iPa\nw6KtuVTWNr8MSVSoi1C3k2E9oxjfP56hPaKJDnNzUt84DUSU6iZaM8umHHgVaz2beOAK4D6g2wUk\nvoAxJK2ZZbMq21rk8qSUI14gs8ur+OYbawovEH1hWwyvU+ro+P2GjQdKmLN0F++t2V+fEKw5fRPC\ncYrgdjqYckJPThlkTZPtlxCuQbVS3VxrZ9kAYIwpAGbZP92OLyAxmttz+BaS1dmrARiT0vrF97qD\nsi++YN/d92Cqq4m94gpCBw7s7Cqp48y+okrW7C2iqtbHlqxSvt5ZwOYDJfWtlMlRHpKjQ9l8oJQa\nnx+fvyEN0YCkCGLC7BVUozxcOiaVgvIaRqbGHHL6q1KqezuigKS789vTn40xhHgO3UKSU5HD6hwr\nIDleWkjKv/qKvGeeoWLp1wBEnXsOPX774GFepdThFZbXkF9ezavL9vDxhuxGs1qas6+oslGZXjEe\nzhyazM2nDaBfomb4VSoYBVdAYuoCksO3kDyx6gmqfdWc1fssEsO690w5Ywy5f32C/NmzASufSOKt\nt5Jw848Rx/E1UFd1rIoaLw+9t5E3VjbOkh3lcXFS3zhiwtykxoYxfkACJ/aOJcztxGDYkVtObmk1\nI1NjiAh1EeLS30Olgl1QBiQY/yFbSFZkreD9He8T4gjh7pPv7qData2id96h9MOPkJAQHGEeit99\nD5xOEm/9CfEzZuCMju7sKqpuZl9RJXsLKiiprGVtZjGlVbXMX59Fbmk1bqeQGBnKyf3iuXFSf0ak\nHnpWy7Ce0Qzr2YGVV0p1eUEWkDTMsnG3EJCU15bzmy9/A8CNI2+kd1Tvjqpemyn8z3/IevC3jXc6\nnaT9/Umizjqrcyqlug2vz8/6/SUs35nP/qIqkqNDeWtVJttzD1oNHoCRqTH86YoTGNpDg1yl1NEL\nroCEww9qfWH9C+wr28ew+GH8+IQfd2Dt2kbNrl1kPfQwAIl33I4rPoGyxYuJuXiqBiOqWTVeP7+a\nt45532RyqCUuoz0u0lOiCAtxMiI1hoSIEAanRHH64ESd4aKUOmbBFZAYA2J13TTXZePz+3hn2zsA\n3HPyPbgd7oPKdHX5L74IPh8xl1xC0q23AhA3/arOrZTqMsqqveSXWcnFSiq9rNhVwPx1B1i5u7BR\nuf6JEYzvH0/v+HB25JYzaXACU0/ohcupYz2UUu0juAKSuhYSf/MtJMuzlpNdkU1qZGq3nFnjLSig\n+G0roEr4cYvLBaggVOvz8/bqfcx8fwMVNQcnF4sJc/PKjeMZmabTapVSnSPIApK69mhfsy0k721/\nD4CLB17c7dLEm5oa9t99N6a6msgzztDcIkGu2utjbWYxy3bks2xnAat2F9YHIqmxYTgdQojLwQlp\nMUzon8DkockkRYV2cq2VUsEsKAMSYwyu0MZ/fMtqyvhk9ycATB04tcPrdiyM38/++35F+VdLcSYk\nkPLA/Z1dJdXO1uwtYm9hRf12jddvBSA7C9iVV06tz4/X33hAyIDECH46eRCXnZTW0dVVSqnDCqqA\nxNR12YgDh8PZ6LkFuxdQ5avipJSTuvzMGl9pKaUffUTF6m8IGzmCipWrKJk/H0dEBL1nzyKkT5/O\nrqJqB1nFVXy+JYdv9hQdlPejOUNSohg/IJ5x/eMZ1y+e5ONkhVul1PEpqAKSuhYSh/Pgy353+7sA\nTBs4rUPrdCRMbS1Zf/gDxfPexlRbAxOL582znnS7SXvqH4QNH96JNVTHwhhDZmEl1d6GMR5l1T7W\n7C0iv7yGF7/cSUmVF4AQp4PJQ5Nw1SW2E0hPjmJc/3iGp0YT4nTgcTubO41SSnVJQRmQuFyNLzur\nPItV2avwOD2c2/fczqjaIfkrKij7YgmlH31Eyfz5AISPG0fEqadSuXYt7pQUYq+6Cs+Q9E6uqTpS\nXp+fxz7czKebciiurCW/vOaQ5ScMsFayvWJsGsN76QBUpdTxI8gCEqvLxuFuPJ134Z6FAExKnURk\nSGSH16s5/spKyr/8kpB+/cibNZuS998HQMLC6PPcc4SPGd3JNVTHIqekimeX7GTN3iKW7Syo358Q\nEUJseMPvp9vpYHivGJKiQhnWM4qLR/XSnB9KqeNS0AQkxm8aWkjcjQe01gUkZ/Xp3MRh5cuW483J\nxl9eQc6f/4y/rAwJD8dUVCBuN9EXXkDsVdM1GOkmvD4/VV4/WcVVbDxQUr/atN8Pf1/4HbvyrUGp\nkaEu/n71aAYlR5IWF6YBh1IqKAVNQEJAQBIS0hCQFFcXszJ7JS5xcXra6Z1VO0oXLiTzttutTyub\nKykJb24uAHEzZpDyy3s6q3qqGT6/oazaS3iIkwUbs8kpqQKg2E44tmp3IZW1B+f8qDMiNZrrxvfl\n1EGJ9I4P76hqK6VUlxQ0AYnf58eI3UIS0jDb4Kv9X+EzPsb3HE9MaMf2yRuvl7JFiyh+511KP/sM\n/H5CBg7EV1REyi/vIfqCC9j3i7up2bWLxJu7Xxr740VZtRenCKEuBws2ZfPy0t0UlNewt6CC0mov\nkaEuyqq9zb42PMRJlMfFCWmxRIQ0DDJNjvbw0zMHERPe/bIBK6VUewiigMT6pioG3KENAcm6vHUA\njE0Z2+F1OjBzJsVz37I2HA7if/ADku+7t1GTfdrfn+zweinLnvwK/vn5Nt5anUmI00GPGM9BC8yF\nOB2UVXsZkBTBpEGJCBDqdnJi71jG9Y8nMVKTjSmlVGsET0BiN50L0igg2ZC3AYDhCR07XdZXVk7J\nu++BCMl3/4LoKVNxpyR3aB1UYzvzyrn11dU4BCJCXKzaU4jPbxCBWp+P7bnl9Ij28H9nDODkflaw\nkRgZwv6iKlLjrOynSimljk7QBCReu4XEgeC2s7T6/D42FWwCYHhixwYk5V99iamtJWz0aBJuvLFD\nz61gf1Eln23J4fklOymu9JLRK5qN+4vJK2uYdut0CJeNSeOnkwdSXu0jq6SK09MTCXU1zu/RJ0HH\nfyil1LEKmoDE720ISFwhIQDsLN5JpbeSXhG9iPfEd2h9yhZ+BkDk5Mkdet5gVFxRy8cbs0iJ9lBR\n4+XVZXv44ru8RmUWb7UGD08YEM9tkwdT4/NxUp/4RmM8RqJ5P5RSqr0EX0BiGlpINuTb3TUd2Dpi\nvF4KXn6F0gULAIg6SwOSo+X3G7bmlFJe7WX9vhJySqsaPW8MZBZWsnBzzkGDTsNDnEwYkMDFo3px\nQloMO3LL8bidjB8Qj9vZvRZWVMeZ/O3w3cfgtX+fI3tA6hjY/F/oOQoGndO59VOqnbRrQCIi5wN/\nA5zAs8aYR5spcyUwEzDAGmPMNe1RF6+3YQyJKzSEL/d9yT++/QcAGQkZ7XHKZuU+9RT5/3oagPCJ\nEwjRVXmP2LacMvYWVjB70Q6W7shv1WvG9Y+n1ucn1OXgtMFJXDOuD3ERIfXPD0jqGgnxVBfm84LD\nCYfKE+OrBYf9Z7W61CofEmFN568pbdi/eT6U7re2y3KsYKOq+PB1GHyeBiTquNVuAYmIOIGngHOB\nTGCFiLxnjNkYUGYw8CvgVGNMoYi026jORl027hDuX3I/BVUFDIodxKWDLm2v0zacv6aG0v/9j/zZ\nzw23s5EAACAASURBVIAIvf74GNHnn69JsA6h1ufH5zcYAx9vzOKzzTlkl1Q3CkJiw930jQ9nYFIk\n/RMjDvqsiA0PYcKAeAYlR3Vw7VWn+e4TyFwBGdMgJQO81YCAKwQqC8ETa7U+bP4AcjbC+FvAHQYV\nBZC9HjJXQtrJkL/NOl7CINgwDzb9F3qMhIv+bB2jqW2fwMe/geheVtCSt9Xa32s0lByAsqzW1T8k\nCoZeCFE9rGa+/d9A1joYeBaceG2bvEVKdUXt2UIyDthmjNkBICKvA9OAjQFlfgw8ZYwpBDDG5LRX\nZXxeq8leECqkkoLKAuI98cydOheno30WIfMWFpL3z38Rd/XVZD/yCOVffAFA/A03EDN1arucs7ur\n8foprKjhla93M2vxDmq8/oPKhLmdjOkbS++4cO46L53kKF3FtlsyxvrQ9lZZH/oON+RtARNwz8MT\nISa19cfc+jG8Nh2MDxY9CiMuh52LrQCh76lWYBE/EMpzobrEes2K56CmHPy1hz9+5nKYdZgEivnf\nWf+6POD3WQEFgDuioYWl76mQepL12BkKg8+FxIC1qPSLigpC7RmQpAKBa6RnAuOblEkHEJEvsbp1\nZhpjPmyPyvh89jo2Rsj1WgMahycMb7dgBCB/1mwKX36Zss8/p3bvXhyRkST97GfEXT293c7ZnRVX\n1nLxP5aw206pDhDissZzpMWFcd34vqREe5gwIJ4Eze/RPeRugbLsg/cnDYVvXoFPH7K23RHgdENV\n0cFle42GsLjDn6uqBPattB73Ow32LoP1cxue32CvjF2w3fo39SQrCNr7NYgDYnpDRCL0Hg97l0Nc\nP6tc4S4YcgGknw9f/xN2fdn8+UMiYNKdEJnUUAdfDexYZB037WQNNJQ6hPYMSJr7n2eaOf9g4Ewg\nDfhCREYYYxr9VRKRm4GbAfr06XNUlalPjAYcqM4Gad/BrP6aGorffReA2r1WXBZzySXEz7iu3c7Z\nXZVVe9maXcoLX+5id34F4SFO+iZE8OCUDCYOTOjs6qlDWf0yrJ5jtUg0VVXc0O3RlDvcGm8BVstA\n3laoBeL6Q6g9nscABTsaWhhaw+WBcTfDuQ9D1lr49P9Bv0lWq8uepTD5Aas1JDIZEgdbLRg7F0HS\nMIjuefjjX/p06+sCVpA19MIje41SQao9A5JMoHfAdhqwv5kyXxtjaoGdIrIFK0BZEVjIGDMbmA0w\nduzYpkFNq/i8DZla91TvBQ+MSBhxNIdqlbKFC/EVFjbaF3vF5e12vu4mr6yaOUt3s2hLDuv3l+Dz\nW7fV43bw39sn6SDTrszvh+0LrZaFxX86dFlPLKSMaNwyUFPWEGSc/GNrTEbhbqs1IXFw49dXl1mt\nHv7mU/M3Ik5rNorHnp7dcxRcN/fQr3E4rbEZSqlO154ByQpgsIj0B/YB04GmM2jeAa4GXhSRRKwu\nnB3tURl/QGK0nZW7wdN+LSTe/Hxy/vpXABJuupGiuW/hycjAM2RIu5yvO1m4OZvZi3ewek9R/fgQ\np0PI6BlNRKiTGRP7aTDSWfK2WUFG7/GNA4OqEti2wPqg738mLHgQvn6q4fmzH4T+Zxx8PHFAynBw\nNeleMwbWvwUH1sCZ91n74vo2X6fQSBhw5jFclFKqu2i3gMQY4xWR24CPsMaHPG+M2SAiDwMrjTHv\n2c+dJyIbAR9wjzGmdfM4j1DDtF8oMxUkhyeTGJbYtufIz2fXVdOp3b8f/H5CM4aReOutJN56K+IO\nzkXU1u8r5m+ffke/hHD2F1XxwboD9c+dPTSZGRP7cnK/eCJCgyYlTueoqbC6Lfy1sO1TyN3c8Jzf\nZw38rBt/AQ1TV+uer+ttFYd1HIcbRl5utS6ccOWR1UXEeu1IbTFUSjVo108BY8x8YH6TfQ8GPDbA\nXfZPu6q1E2OJEXxOw2k9J7b5OcoWf0FtZiYAnuHD6T3raRzhwZlWPL+sms+35DLz/Q2UVjU0t7sc\nwl3npTP95D7EB+QBUe3oowdg6T8OXy4kEvpMhD1fN+TMAECs/eV51gyS0BiY+gSM+H67VVkpFXyC\n5mupr7Zu2i/4HIbJvds+Q2rlN1a/eNJdd5Hw45uO+xwjlTU+tmaX0is2jKU78tmVV07fhHC+3lHA\nW6sz67tkzs1IIaNnNHHhbs4ckky/xIhOrvlxrLbKGqMhDljyF6t7ZOk/ALEGkgIkD4WBZ1sDLuvE\nD4AhF0JIuDVGpNEgVQGn/afCV2sdux1npymlglPQBCS1tXWp48HhcjKxV9u3kFR+sxqA8JPHHrfB\nSHm1l1/8Zw1LtuVRWeurH4zanEmDEjlraDLXT+yLS9Oxt72yXKgth5g+1gySNa/Bxnet/BohkVZg\nUufs38Bpv2jdcR0OoIX75QzOrkelVPsLmoAksIXkhJ6jCXe3bVeKr6SE6u+2IW43nuEdu3Jwe/to\nQxZvrtyLMbArv5ztueUAOAQGJkWQWVhJr9gwTh+cSGZhJcN6RnPxib1IT9HsqK1WUWBlF/XbLRMJ\nA62Mn1nrreygoQEDfUsOwPy7Ycv/rJYMT2zj/B3OUCsYSR1rTWX1xMApP+vY61FKqSMUNAFJ/aBW\nI5zae1KbH79yzRoAPCNG4AjpvmMjKmt8+Iwh0h5kujOvnJ+9/g1VtQ3ZM3vFeHjxR+PoEx+Ox+3E\n7zc4HMdni1C7++4TWP0ibPnw4EyhDre1zx0BMWkN+0sPWK0gDheERFvBSHQajLoKTphuZTY9sBbS\nxmqLhlKq2wiagKSmpsZ+ZDit/5ltemxTU0PBCy8AEDZ6dJseu71tzS5l8dZc4sJDeGt1Jst3FiAC\nk4ckk1VSRWZhJVW1fr43PIUrTuqNwwFj+8UT7Wn4oNNgpBUqCqzcHdGpsOUDK8V5TBps/9R6XhzQ\n5xSrNcP4YM8yqC62xnYU7LBSqgcaeBZc8i+rdaRoj516PaCbpW/bd0kqpVR7CpqAJKfMWiZHDKQG\nfttsA1m/+z3lXy3FmZBA3DXtslhxm8oqruLfy/dwoKiSd9fsb7RejEOwF7NrSPedGhvGHy8bRUy4\nfts+KhvegXk3g6+68f68LeAKg9PvthZNC8wU6q22MoqGx1tdNIErwbpCrIymdeOUktJRSqnuLmgC\nktzSXMBaXE8cbTfAsmrTJorefBNxu+k9exYhaUewEFgHyyys4F+fb+fNlZnU+BqCkHOGJVPt9XPK\nwESuGdeHvPJqvtqWx8DkSBIjQ+kVG1bfhaOOUHEmvHe7FYz0OQUKd1ory555v5UufeTlkNRMwjxX\naENCseierUtrrpRS3VjQfMpU1VQCzS+wc7Sqt28n6//9Dowh7pprCOsig1mran0UVzaMRyisqOH5\nJTuZt3ofXr9BBC4a2ZMJA+JJT4li/IDG68XEhLsZqNlSW1ZRYM1iEYGCnYCx0p5v+8RaTK5OXcKx\n6hJrSu30fzc8d5zOwlJKqaMVNAFJevRgVlWsxdEGIYmpqSHnib9R8PzzADiio0m45f+O+bjHKqe0\nimcW7+CVr/dQWXvwYmcOgUtO7MVtZw1iULLOgGlW/nYrAdi+VbDbXtW1zwRrTZWstdbKtftWWavP\nigMqWpFYOHk4TP2bBiFKKXUIQROQ+LwNmVqPhfF6yfz5nZQtXAhOJ7Hfv5T4H/wAV1wrlkdvB5mF\nFWQWVvLh+ixeW76Hans8SFJUaH3o5RDhtMGJ3Dp5EP2DOSmZ3wdf/R2++9gaKNNUZUHjlOp1Nv+3\n8bbDDZX2wonRaVYyMbDWbRl4VuO06wmDdNl5pZRqhSAKSBrWsjkW2X94hLKFC3HExND7X/8ifEzn\nzap5bfke7n97XaPP1u8NT+H2swYzIjWm0+rV5fh9sO5NWD7bat04FE8MJKZDZAoMnWK1gmz90Mpy\nOuhsCI22ZrAU7bXWdEkepsGGUkq1geAJSHx1idGO/sOjZs8eCl97Ddxuej/9L8I7YYqvz28oq/by\n/JKd/O3T7wAY1TuWgUkR3Hz6AIb2iO7wOnVp2Rth/j2we4m1HZEM5z8CUc0MEnW4rCXr3Z7G+0dd\ndXDZ5KFtX1ellApiQRSQ2C0kx/BttuDFl8AYYqZM6fBgpKzay8tLd/Pckh3klVk5VUTgNxdl8KNJ\n/Tu0Lp3OmMatEn4/+L3WmI99K62FaX3VVtfMASthHZEpcOavrAXhPNp6pJRSXU3wBSRH+/riYorm\nzQMg4Uc/bKNaHV5JVS0vfbmL577cSVGFNXMmIsRJjxgPD08bwamDEjusLl3C7q/g7Vusxd1OuAoi\nkmDh76zxH80JjbGCkMn3Q2Ryx9ZVKaVUqwVNQOK3Vy91tLRo2GGULV6MqaoifNw4QgcPbsuqNcvr\n87NkWx73vrWW7BIrodbYvnHcfvZgTh+ceNwu3oe32srdkbfVavFIHWut5QKwbi4setQauwHw+SMN\nrxMHxPWD9AusPB8APUbY2026YJRSSnU5wROQ+K0PsaP9IC9duBCAqHPObrM6NaeoooanF+3g1WW7\nKa2yxr2M6h3LvecPYeKAhO4XiBgDRbutFWkPl5CuYCe8OAVKMg9RSGDSXdBvEqz9D+xdBpPuhDHX\n6+BSpZTqxjQgaUH1zp04Y2IQh4OaPXsoX7QYgMjJk9u8bsUVtfzp4830jAlj3urM+tV0+yWE8/0x\nadx65kBczrbLLtumyvNh4cNW/g4AlwcGnGElCBOHlbdj64fQ/ww45XZrlkvOJhg4GaJ6wY7PIGud\n9dq876Asy+qGiUmDvqdaAUddrg9PLJz9G2tqLVizXpRSSh0XgicgqeuykcN/sFesXs3u62ZY37gd\nDqi1xm6EDh5ESO/ebVqvwvIaZjy/jPX7Sur3De0RxaOXncCJvWPb9FxtoroUPnnIChTA6l5pOn5j\n24KDX7dzkfVTZ+M7zR+/54lww38hVBO3KaVUMAmigMRK1tGagCR/9jPWzA0AY3AlJeHNzSXmkkva\ntE75ZdVc++wyNmeV0jchnNTYMJwO4cnpo4mLCGnTcx2xXV/Cgt9Yq832mWC1dpTnwzcvW10wgXqP\nhzN+aSUMK82yUqjH97fGehTthZNvgtUvQvE+iO5lTa3dudhaPC5pCAw6F5xua9pt2snW4nFKKaWC\nSvAEJH4/OMBxmHEM1du3U/b550hoKP3feRtnbCzO2Fi82dm4ko99lkZJVS3PfrGTA0WVfLwxm+LK\nWgYkRfDvmybQI6aTB1+W58P8X8D2hVBVAhiri2Xdm43LJQ+HCx61koQ5QyBpaOPxIc3l7eh9cuPt\n8Z2fal8ppVTXETQBicFq8ThcQFL46qsAxEybRmj/hvwe7h49jrkO+WXV/OjFFazJbFhKfnz/eP5+\nzWiSozohGDGmYVn7rLUw7/+gdL+17XDBxNusrpPivfY+tzVuY9A5VouGUkop1UaCJyCxu2zkEAGJ\nv6qK4vetdUvirr3mmM7n9xs2Z5WybGc+K3cVUlRZwzd7iqio8dE7PoybTx/I0B5RjO0b17EzZ4yB\n0gNQuAve/znkbWn8fNo4uOSf1qDSuumzSimlVDsLmoDEjxWQOB3OFsuUfvwx/tJSPCNH4hky5KjO\nU1pVyx/mb+aDtfspsaftBjojPYlHLxtJz5gO/rAvzYa1r8Oa1yFnY8N+V5jV7eJ0w0k3wJn3aeuH\nUkqpDhc0AUmI30mkw4Pb2fIlF77xHwBiL7/8iI+/anch989bR1ZJFcWV1qyc1Ngwxg+IZ3z/eHrF\nhtEj2sPglA6cPbL1I/j2VWvF2WWzoKbM2h8aDWFxMPQiOPtBbQlRSinV6YImIBlenUJfX2+yY0ua\nfb5y7VoqV63CERlJ9EUXHfHxX/pqF1uySwHI6BnNX64a1f4L3fm8sOcrqCiAvcutqbh1WUz9Xmtc\nSKBB58LYH1ljQHQmi1JKqS4kaAISp9Map+EOPfiSTW0tebNmAxA3/SqckRFHdGy/37BkWx4Ar988\ngXH94nE42mlciDFWIrE1r1uzX8pzWi7rcMG4/4PiPVYK9ROv0WymSimluqSgCUg84S6ohPC4xt0T\nNZmZ7J5xPd4DB8DlIm7GjCM6blWtj00HSigor7G6aPrHt+0gVb8PvngcVj5vrfNifA0zYwASBkPy\nUIhOhSEXQkhkw3PRvSC6Z9vVRSmllGonQROQGJ89qNXV+JILnn8B74EDuPv0IfmuO3GnpLT6mB+u\nP8C9b62rHzNyWlsseleww1qjpTwXNn9gpV6v64apExYHIy6HUVdD6hht9VBKKdXttWtAIiLnA38D\nnMCzxphHmzx/A/AnYJ+96x/GmGfbpTJ+O1Orq2GWjTXN930A0v7+5BHNrHl60XYe/d/mRvtOG5zU\nuhdXFUNlEez6Akr2w+BzrfVbynLg31dawUigmN4w5QnoNdra9sTAIQbnKqWUUt1Nu32qiYgTeAo4\nF8gEVojIe8aYjU2KvmGMua296lGnz/BRVK7JJaFvXwD85eXkPfOMNc13xIhmg5FNB0r4dFM223LK\nqKjxsX5fMVEeNxGhTlbvKUIE7r9gGJW1PjbuL+GsoYfJ5Or3weI/w+I/WoNO63z2+yaVPQUGn2Mt\nSNdzlDUWRFtBlFJKHcfa82v2OGCbMWYHgIi8DkwDmgYkHaNuLRun1UKy58abqPz2WwDirr66UdFv\n9hTy94XbWLi5mQGjxVUAhLgc/OHSkVx+Ulrrzu/3w7ybYf1cQKwxH/EDrDVfdi4Gn9XtQ+pJVmIy\nXVxOKaVUEGnPgCQV2BuwnQmMb6bcZSJyOrAVuNMYs7eZMsfO7rLBAf6KCirXrAGXi16P/IHoKVP4\nanse3+4tYun2fL74zpoxE+Z2csnoVEb3icXjdjK0RxTFlbWUV3sZ3SeOmLBWJhDzVsP8u61gJCQK\nrnoZBk5ul8tUSimluqP2DEia62MwTbbfB14zxlSLyC3AS8BZBx1I5GbgZoA+ffocVWXqxoWKQ6je\ntg2MIbR/f2KmTuX9Nfu5/bVv6stGhDi5/pR+3DSpPwmRoUd+sgNrYflsyFxhnbiqBMqyrIyo01+F\nAWcc1TUopZRSx6v2DEgygd4B22nA/sACxpj8gM1ngMeaO5AxZjYwG2Ds2LFNg5rWqW8hEao2WINR\nXYPTeXrRdp74ZCsAl45OJaNnNFeMTSM2/AgTh1UUwJb54A6Hd34C3qrGz8f2hcufh7SxR1V9pZRS\n6njWngHJCmCwiPTHmkUzHWi0Yp2I9DTGHLA3LwY2tVdljB2QlC1eTM3W5QB8VBVVP1Pm6nF9+MOl\nI45u2u7upfDWTVCS2bBvxOUw8acQYidZix+ga8QopZRSLWi3gMQY4xWR24CPsKb9Pm+M2SAiDwMr\njTHvAXeIyMWAFygAbmiv+iRcM5T8518i729P1M9w+bAykqgkF3+/ZjRnpCcdWTBSXWZ1y+R9Zy1a\nZ/zWmjGl2TDkfLh0FhxiIT+llFJKNWjXZBbGmPnA/Cb7Hgx4/CvgV+1Zhzrf5pRS+OY8egVMt90R\n04sHp2Zw5pDDTNetU1loBRwY+Oh+2L6w4blJd8LkB7QVRCmllDoKQZFdyxjDI68s4eEDOxrt/9nl\n41s3bdfvs1K3f/QA+Kob9ocnwml3Qe/xOjZEKaWUOgZBEZCICD+LsHKKuMeeTFhyImGjx3DDpAEt\nv2jnF/Dtv6FwJxTuglJ7qEvCIBAnhCfABY9aicuUUkopdUyCIiAB6LtlNWVAwtQpxF11ZcsFy3Lh\n05nwzSuN98f1g3NmwvBL262OSimlVLAKmoAkbNQoavfvJ/LMM5svsPVjq1tm2wJr0KvLA6fcYeUM\nCY2GHiM1fbtSSinVTsSYo0vr0VnGjh1rVq5cefQH8PusHCHbPoHcLda+nE2wYZ71WJzWYndn/xZS\nMo69wkop1QWIyCpjjA52U11W0LSQ4PfBkr9ai9t5Kw9+3uWBM+6F0TMgspWr9iqllFKqTQRHQOLz\nwquXw47PrG2HC1KGw8CzrMcOF2RcAslDO7eeSimlVJAKjoDE6YJeoyF7PVz6NAw6p7NrpJRSSqkA\nwRGQgJW0bMJPILKVSdCUUkop1WEcnV2BDuN0aTCilFJKdVHBE5AopZRSqsvSgEQppZRSnU4DEqWU\nUkp1Og1IlFJKKdXpNCBRSimlVKfTgEQppZRSnU4DEqWUUkp1um63uJ6I5AK7j/LliUBeG1anM+m1\ndD3Hy3WAXktXdSzX0tcYowt1qS6r2wUkx0JEVh4vq13qtXQ9x8t1gF5LV3U8XYtSTWmXjVJKKaU6\nnQYkSimllOp0wRaQzO7sCrQhvZau53i5DtBr6aqOp2tRqpGgGkOilFJKqa4p2FpIlFJKKdUFBU1A\nIiLni8gWEdkmIvd1dn2aEpHeIvKZiGwSkQ0i8jN7f7yILBCR7+x/4+z9IiJP2tezVkTGBBzrB3b5\n70TkB514TU4R+UZE/mtv9xeRZXa93hCREHt/qL29zX6+X8AxfmXv3yIi3+uk64gVkbkistm+PxO7\n430RkTvt3631IvKaiHi6yz0RkedFJEdE1gfsa7N7ICInicg6+zVPioh08LX8yf79Wisib4tIbMBz\nzb7fLf1Na+meKtXlGWOO+x/ACWwHBgAhwBogo7Pr1aSOPYEx9uMoYCuQAfwRuM/efx/wmP34QuB/\ngAATgGX2/nhgh/1vnP04rpOu6S7g38B/7e3/ANPtx08DP7Ef3wo8bT+eDrxhP86w71Uo0N++h85O\nuI6XgJvsxyFAbHe7L0AqsBMIC7gXN3SXewKcDowB1gfsa7N7ACwHJtqv+R9wQQdfy3mAy378WMC1\nNPt+c4i/aS3dU/3Rn67+EywtJOOAbcaYHcaYGuB1YFon16kRY8wBY8xq+3EpsAnrQ2Qa1gci9r+X\n2I+nAXOM5WsgVkR6At8DFhhjCowxhcAC4PwOvBQARCQNuAh41t4W4Cxgrl2k6bXUXeNc4Gy7/DTg\ndWNMtTFmJ7AN6152GBGJxvoAeQ7AGFNjjCmie94XFxAmIi4gHDhAN7knxpjFQEGT3W1yD+znoo0x\nS40xBpgTcKwOuRZjzMfGGK+9+TWQFnAtzb3fzf5NO8z/M6W6tGAJSFKBvQHbmfa+LsluHh8NLANS\njDEHwApagGS7WEvX1FWu9Qngl4Df3k4AigL+6AbWq77O9vPFdvmucC0DgFzgBbv76VkRiaCb3Rdj\nzD7gz8AerECkGFhF97wnddrqHqTaj5vu7yw/wmqlgSO/lkP9P1OqSwuWgKS5/uAuOb1IRCKBt4Cf\nG2NKDlW0mX3mEPs7jIhMAXKMMasCdzdT1BzmuU6/FqxWhTHAv4wxo4FyrO6BlnTJa7HHV0zDavbv\nBUQAFxyiTl3yOlrpSOveZa5JRB4AvMCrdbuaKdYtrkWpIxUsAUkm0DtgOw3Y30l1aZGIuLGCkVeN\nMfPs3dl2kzL2vzn2/pauqStc66nAxSKyC6sp+SysFpNYu7ugab3q62w/H4PVpN0VriUTyDTGLLO3\n52IFKN3tvpwD7DTG5BpjaoF5wCl0z3tSp63uQSYNXSSB+zuUPch2CnCt3XUER34tebR8T5Xq0oIl\nIFkBDLZHn4dgDdJ7r5Pr1Ijd9/scsMkY85eAp94D6mYD/AB4N2D/9faMgglAsd1s/RFwnojE2d+K\nz7P3dRhjzK+MMWnGmH5Y7/VCY8y1wGfA5S1cS901Xm6XN/b+6faMj/7AYKzBhx3GGJMF7BWRIfau\ns4GNdL/7sgeYICLh9u9a3XV0u3sSoE3ugf1cqYhMsN+b6wOO1SFE5HzgXuBiY0xFwFMtvd/N/k2z\n71FL91Sprq2zR9V21A/WyPutWCPTH+js+jRTv0lYTatrgW/tnwux+oQ/Bb6z/423ywvwlH0964Cx\nAcf6Edbgt23ADzv5us6kYZbNAKw/ptuAN4FQe7/H3t5mPz8g4PUP2Ne4hXac+XCYazgRWGnfm3ew\nZmh0u/sCPARsBtYDL2PN3OgW9wR4DWvsSy1W68CNbXkPgLH2+7Id+Ad20sgOvJZtWGNC6v7vP324\n95sW/qa1dE/1R3+6+o9malVKKaVUpwuWLhullFJKdWEakCillFKq02lAopRSSqlOpwGJUkoppTqd\nBiRKKaWU6nQakKhWEREjIo8HbN8tIjPb6Ngvisjlhy95zOe5QqzVej8L2DdSRL61fwpEZKf9+JMj\nPPZHIhJ1mDK/F5HJR1v/JsfKtFenrav7X9viuEdRjyUicmJnnFspdXxxHb6IUgBUA98XkUeMMXmd\nXZk6IuI0xvhaWfxG4FZjTH1AYoxZh5VnBBF5EStnytymLxQRl2lYH+QgxpjvtfRcQJkHWlnP1jrN\nWAv9KaVUt6ctJKq1vMBs4M6mTzRt4RCRMvvfM0VkkYj8R0S2isijInKtiCy3v90PDDjMOSLyhV1u\niv16p4j8SURWiMhaEfm/gON+JiL/xkp81bQ+V9vHXy8ij9n7HsRKPve0iPypNRcsIueIyCci8jrw\njb3vfRFZJSIbROSmgLKZIhIrIoPs8z5nl/mfiHjsMq+IyCUB5WeKtWDfWhFJt/cni8inIrJaRP4p\nIvtEJLaV9XXbdZtkb/9JRB6yHz9kv4/rReRpOyNpXQvHX+z3fqOIjBWRt0Xku7oWMPuaNojIy/b7\n+h8RCWvm/BeIyFK77m+ItQhhXT022tf5WGuuRSkVfDQgUUfiKeBaEYk5gteMAn4GjARmAOnGmHHA\ns8DtAeX6AWcAF2EFDR6sFo1iY8zJwMnAj8VKnw3W8usPGGMyAk8mIr2Ax7DWzzkROFlELjHGPIyV\nbfVaY8w9R1D/CcAvjTEj7e0fGGNOsutzl1gpyJsaAjxhjBkOVNLy8u/Zxlqw71ngLnvfw8CHxpgx\nwHyshfBa8kVAl80dxlqj5ofAbBE5D+s9+J1d9m/2+zgSa12a8wOOU2mMOQ1r6YJ3gFvscjcHBEMZ\nwFP2+1AF/F9gRUQkGWvRwbPtuq8FfiYiKVgZRYcbY04AHjnE9SilgpgGJKrVjLX68BzgjiN46KVA\neAAAAwVJREFU2QpjzAFjTDVWiuuP7f3rsIKQOv8xxviNMd8BO4ChWGuNXC8i3wLLsFKFD7bLLzfG\n7GzmfCcDnxtrEbm6VVNPP4L6NrXUGLMnYPtOEVkDLMVauGxgM6/ZZncFAayi8XUGmtdMmUlYCxJi\njPkvUHqIup1mjDnR/nnSfs1a+/XvYqVGr7XLni0iy4E1WIHf8IDj1K3rtA5YZ4zJNsZUAbtoWHRu\npzHma/vxK3Y9A52CFbR8Zd+va+1rKgD8wDMicinWaslKKXUQHUOijtQTwGrghYB9Xuzg1u4KCAl4\nrjrgsT9g20/j37+maxjULaV+uzGm0SJ0InImLX+wNbf8+rGoP4+InIMV3EwwxlSKyBKsNV+aCrxm\nHy3/P6tupkxb1H8EUAwkA4hIONb6LGOMMftE5Hc0rnfgPWl6v+rq1dz9CSRYLTszmlZGRMYC52It\nAPcTrEBTKaUa0RYSdUSMMQXAf7C6U+rsAk6yH08D3Edx6CtExGGPKxmAtZDYR8BPRMQNICLpdeMS\nDmEZcIaIJIqIE7gaWHQU9WlODFBgByPDsVpj2toS4EoAEbkQOOTMnaZE5CogEmtRw6dEJBoIwwou\n8sSaCXTZUdSrv4jUXe/Vdj0DfYX1vg+w6xEhIoPt80XbrT13AqOP4txKqSCgLSTqaDwO3Baw/Qzw\nrt0l8ClH1yy/BStwSAFuMcZUicizWM3+q+2Wl1xaHo8BgDHmgIj8CmsJdgHmG2Paavn1D7DGVazB\nWjV3WRsdN9BvgX+LyLXAQiCblt/PL0SkbobRN1jL1/8OONNuCZkF/NUYc6OIvIS1mu3uo6z3Bqwx\nPM9hXfvswCeNMdkiciPwhojUtZDdjzWGZp6IhGJ9AboLpZRqhq72q1QXYg/m9RpjvPZsmSeMMWM7\nuU6DgLnGGM03opRqN9pColTX0g94ze5uqqbJbBallDpeaQuJUkoppTqdDmpVSimlVKfTgEQppZRS\nnU4DEqWUUkp1Og1IlFJKKdXpNCBRSimlVKfTgEQppZRSne7/AxTvn251cGs0AAAAAElFTkSuQmCC\n",
      "text/plain": [
       "<matplotlib.figure.Figure at 0x2894968ed68>"
      ]
     },
     "metadata": {},
     "output_type": "display_data"
    }
   ],
   "source": [
    "example_num = np.linspace(0,len(train_accuracy[1])*50,len(train_accuracy[1]))\n",
    "for i,eta in enumerate(etaArray):\n",
    "    train_label = 'Train Accuracy Eta = {}'.format(eta)\n",
    "    valid_label = 'Valid Accuracy Eta = {}'.format(eta)\n",
    "    plt.plot(example_num,train_accuracy[i], lw=2, label=train_label)\n",
    "    plt.plot(example_num,valid_accuracy[i], lw=2, label=valid_label)\n",
    "\n",
    "plt.ylabel('Accuracy')\n",
    "plt.xlabel('Number of Training Examples')\n",
    "plt.legend(loc = 'upper right',bbox_to_anchor = [1.5,1])\n",
    "plt.show()"
   ]
  },
  {
   "cell_type": "markdown",
   "metadata": {},
   "source": [
    "Looking at the plot, it looks like $eta = 1$ converges quickly and has good accuracy for both the training data and the validation data. "
   ]
  },
  {
   "cell_type": "markdown",
   "metadata": {},
   "source": [
    "**Part E**: Once you've found a reasonable learning rate, experiment with the regularization strength.  Show plots of accuracy over the training process for a few different values of `lam`.  Which seems to work the best-ish and why? \n",
    "\n",
    "**Hint**: For this type of text data, you'll want to look at very small values of `lam` (like `lam=1e-3` or maybe even smaller). \n",
    "\n",
    "Report your final accuracy on the training and validation sets after you've tuned your model in **Parts D** and **E**. "
   ]
  },
  {
   "cell_type": "code",
   "execution_count": 42,
<<<<<<< HEAD
   "metadata": {},
=======
   "metadata": {
    "collapsed": true
   },
>>>>>>> 7d8b01f0a8c86c6622d67f1196d3c6bf33aa0805
   "outputs": [],
   "source": [
    "lamArray = [0.00001,0.0001,0.001]\n",
    "train_accuracy = []\n",
    "valid_accuracy = []\n",
    "for lam in lamArray:\n",
    "    classifier = LogReg(X_train,y_train,X_valid,y_valid)\n",
    "    classifier.train(eta = 1,lam = lam)\n",
    "    train_accuracy.append(classifier.train_history)\n",
    "    valid_accuracy.append(classifier.valid_history)"
   ]
  },
  {
   "cell_type": "code",
   "execution_count": 45,
   "metadata": {},
   "outputs": [
    {
     "data": {
      "image/png": "iVBORw0KGgoAAAANSUhEUgAAAiQAAAEKCAYAAAAivU6rAAAABHNCSVQICAgIfAhkiAAAAAlwSFlz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\nJCQhhBBCqLlISEIIIYRQc38B01sOjg4jHfwAAAAASUVORK5CYII=\n",
      "text/plain": [
       "<matplotlib.figure.Figure at 0x28949835eb8>"
      ]
     },
     "metadata": {},
     "output_type": "display_data"
    }
   ],
   "source": [
    "example_num = np.linspace(0,len(train_accuracy[1])*50,len(train_accuracy[1]))\n",
    "for i,lam in enumerate(lamArray):\n",
    "    train_label = 'Train Accuracy lam = {}'.format(lam)\n",
    "    valid_label = 'Valid Accuracy lam = {}'.format(lam)\n",
    "    plt.plot(example_num,train_accuracy[i], lw=2, label=train_label)\n",
    "    plt.plot(example_num,valid_accuracy[i], lw=2, label=valid_label)\n",
    "\n",
    "plt.ylabel('Accuracy')\n",
    "plt.xlabel('Number of Training Examples')\n",
    "plt.legend(loc = 'upper right',bbox_to_anchor = [1.5,1])\n",
    "plt.show()"
   ]
  },
  {
   "cell_type": "markdown",
   "metadata": {},
   "source": [
    "This plot shows that a $lam = 0.00001$ or a $lam = 0.0001$ value works the best. The validation accuracy jumps to ~90% and the training still converges to practically 100%."
   ]
  },
  {
   "cell_type": "code",
<<<<<<< HEAD
   "execution_count": 103,
=======
   "execution_count": 8,
>>>>>>> 7d8b01f0a8c86c6622d67f1196d3c6bf33aa0805
   "metadata": {},
   "outputs": [
    {
     "name": "stdout",
     "output_type": "stream",
     "text": [
<<<<<<< HEAD
      "Final Tuned accuracy:   0.9082914572864321\n"
=======
      "Final Tuned accuracy:   0.907035175879397\n"
>>>>>>> 7d8b01f0a8c86c6622d67f1196d3c6bf33aa0805
     ]
    }
   ],
   "source": [
    "classifier = LogReg(X_train,y_train,X_valid,y_valid)\n",
    "classifier.train(eta = 1,lam = 0.0001)\n",
    "accuracy = classifier.accuracy(X_valid,y_valid)\n",
    "print('Final Tuned accuracy:  ',accuracy)"
   ]
  },
  {
   "cell_type": "markdown",
   "metadata": {},
   "source": [
    "**Part F**: Finally, go back to your LogReg class and complete the `best_text_features` function to print the 10 best predictive words for each class.  Show your results here and also **briefly** explain mathematically how you arrived at them.  Do they seem to make sense given what you know about baseball and hockey? "
   ]
  },
  {
   "cell_type": "code",
<<<<<<< HEAD
   "execution_count": 104,
=======
   "execution_count": 7,
>>>>>>> 7d8b01f0a8c86c6622d67f1196d3c6bf33aa0805
   "metadata": {},
   "outputs": [
    {
     "name": "stdout",
     "output_type": "stream",
     "text": [
      "\n",
      "best words for class 0\n",
      "----------------------\n",
<<<<<<< HEAD
      "hockey\n",
      "playoff\n",
      "nhl\n",
      "pens\n",
      "penguins\n",
      "stars\n",
      "playoffs\n",
      "richard\n",
      "leafs\n",
      "\n",
      "best words for class 1\n",
      "----------------------\n",
      "baseball\n",
      "cubs\n",
      "phillies\n",
      "distribution\n",
      "jewish\n",
      "cleveland\n",
      "sox\n",
      "yankees\n",
      "nl\n"
=======
      "sign\n",
      "hr\n",
      "rbi\n",
      "era\n",
      "baseball\n",
      "saves\n",
      "catcher\n",
      "pitching\n",
      "losing\n",
      "\n",
      "best words for class 1\n",
      "----------------------\n",
      "hockey\n",
      "president\n",
      "nhl\n",
      "playoff\n",
      "biggest\n",
      "coach\n",
      "francis\n",
      "ice\n",
      "playoffs\n"
>>>>>>> 7d8b01f0a8c86c6622d67f1196d3c6bf33aa0805
     ]
    }
   ],
   "source": [
    "classifier.best_text_features(vocab)"
   ]
  },
  {
   "cell_type": "markdown",
   "metadata": {},
   "source": [
    "To get the top 10 most important words for classification, I chose the 10 highest value betas for class 1 and the 10 lowest value betas for class 0. This works because the betas correspond to the importance of each word, with $\\beta_k < 0$ contributing to class 0 and $\\beta > 0$ contributing to class 1. The words do make sense. "
   ]
  },
  {
   "cell_type": "code",
   "execution_count": null,
   "metadata": {
    "collapsed": true
   },
   "outputs": [],
   "source": []
  }
 ],
 "metadata": {
  "kernelspec": {
   "display_name": "Python 3",
   "language": "python",
   "name": "python3"
  },
  "language_info": {
   "codemirror_mode": {
    "name": "ipython",
    "version": 3
   },
   "file_extension": ".py",
   "mimetype": "text/x-python",
   "name": "python",
   "nbconvert_exporter": "python",
   "pygments_lexer": "ipython3",
   "version": "3.6.3"
  }
 },
 "nbformat": 4,
 "nbformat_minor": 2
}
